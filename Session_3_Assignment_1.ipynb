{
 "cells": [
  {
   "cell_type": "markdown",
   "metadata": {},
   "source": [
    "# 2.1 Problem Statement: PYTHON 1"
   ]
  },
  {
   "cell_type": "code",
   "execution_count": 11,
   "metadata": {},
   "outputs": [
    {
     "name": "stdout",
     "output_type": "stream",
     "text": [
      "Hello Acadgild batchmates\n"
     ]
    }
   ],
   "source": [
    "# 1) Install Jupyter notebook and run the first program and share the screenshot of the output\n",
    "\n",
    "print (\"Hello Acadgild batchmates\")\n"
   ]
  },
  {
   "cell_type": "code",
   "execution_count": 2,
   "metadata": {
    "scrolled": true
   },
   "outputs": [
    {
     "name": "stdout",
     "output_type": "stream",
     "text": [
      "2002,2009,2016,2023,2030,2037,2044,2051,2058,2065,2072,2079,2086,2093,2100,2107,2114,2121,2128,2135,2142,2149,2156,2163,2170,2177,2184,2191,2198,2205,2212,2219,2226,2233,2240,2247,2254,2261,2268,2275,2282,2289,2296,2303,2310,2317,2324,2331,2338,2345,2352,2359,2366,2373,2380,2387,2394,2401,2408,2415,2422,2429,2436,2443,2450,2457,2464,2471,2478,2485,2492,2499,2506,2513,2520,2527,2534,2541,2548,2555,2562,2569,2576,2583,2590,2597,2604,2611,2618,2625,2632,2639,2646,2653,2660,2667,2674,2681,2688,2695,2702,2709,2716,2723,2730,2737,2744,2751,2758,2765,2772,2779,2786,2793,2800,2807,2814,2821,2828,2835,2842,2849,2856,2863,2870,2877,2884,2891,2898,2905,2912,2919,2926,2933,2940,2947,2954,2961,2968,2975,2982,2989,2996,3003,3010,3017,3024,3031,3038,3045,3052,3059,3066,3073,3080,3087,3094,3101,3108,3115,3122,3129,3136,3143,3150,3157,3164,3171,3178,3185,3192,3199\n"
     ]
    }
   ],
   "source": [
    "# 2) Write a program which will find all such numbers which are divisible by 7 but are not a\n",
    "# multiple of 5, between 2000 and 3200 (both included). The numbers obtained should be printed\n",
    "# in a comma-separated sequence on a single line#\n",
    "\n",
    "n=[]\n",
    "for i in (range(2000,3200)):\n",
    "    if(i%7==0 and i*5!=0):\n",
    "        n.append(str(i))\n",
    "print(\",\".join(n))\n"
   ]
  },
  {
   "cell_type": "code",
   "execution_count": 3,
   "metadata": {},
   "outputs": [
    {
     "name": "stdout",
     "output_type": "stream",
     "text": [
      "Enter your first name Mridula\n",
      "Enter your second name Madhavan\n",
      "Hi your name showing in reverse order  Madhavan  Mridula\n"
     ]
    }
   ],
   "source": [
    "# 3) Write a Python program to accept the user's first and last name and then getting them\n",
    "# printed in the the reverse order with a space between first name and last name.\n",
    "\n",
    "name1 = input(\"Enter your first name\")\n",
    "name2 = input(\"Enter your second name\") \n",
    "print(\"Hi your name showing in reverse order \"+name2 +\" \" +name1)\n"
   ]
  },
  {
   "cell_type": "code",
   "execution_count": 20,
   "metadata": {},
   "outputs": [
    {
     "name": "stdout",
     "output_type": "stream",
     "text": [
      " The volume of the sphere is 904.7786842338603\n"
     ]
    }
   ],
   "source": [
    "#Write a Python program to find the volume of a sphere with diameter 12 cm.\n",
    "#Formula: V=4/3 * π * r^3\n",
    "\n",
    "pi = 3.14\n",
    "r = 6\n",
    "v = 4/3*pi*r**3\n",
    "\n",
    "print(\" The volume of the sphere is\",v)\n"
   ]
  },
  {
   "cell_type": "markdown",
   "metadata": {},
   "source": [
    "# 2.2 Problem Statement: PYTHON 2"
   ]
  },
  {
   "cell_type": "code",
   "execution_count": 4,
   "metadata": {},
   "outputs": [
    {
     "name": "stdout",
     "output_type": "stream",
     "text": [
      "Enter numbers separated by Comma34,2.5,77,7,8,19,80,2,10,2001,5,2013\n",
      "List : ['34', '2.5', '77', '7', '8', '19', '80', '2', '10', '2001', '5', '2013']\n"
     ]
    }
   ],
   "source": [
    "# 1 Write a program which accepts a sequence of comma-separated numbers from console and\n",
    "#generate a list.\n",
    "\n",
    "numbers = input(\"Enter numbers separated by Comma\")\n",
    "List = numbers.split(',')\n",
    "print(\"List :\" ,List)\n"
   ]
  },
  {
   "cell_type": "code",
   "execution_count": 1,
   "metadata": {},
   "outputs": [
    {
     "name": "stdout",
     "output_type": "stream",
     "text": [
      "\n",
      "* \n",
      "* * \n",
      "* * * \n",
      "* * * * \n",
      "* * * * * \n",
      "* * * * \n",
      "* * * \n",
      "* * \n",
      "* \n"
     ]
    }
   ],
   "source": [
    "#2 Create the below pattern using nested for loop in Python\n",
    "\n",
    "n=5;\n",
    "for i in range(n):\n",
    "    for j in range(i):\n",
    "        print ('* ', end=\"\")\n",
    "    print('')\n",
    "\n",
    "for i in range(n,0,-1):\n",
    "    for j in range(i):\n",
    "        print('* ', end=\"\")\n",
    "    print('')\n"
   ]
  },
  {
   "cell_type": "code",
   "execution_count": 1,
   "metadata": {},
   "outputs": [
    {
     "name": "stdout",
     "output_type": "stream",
     "text": [
      "Enter the word you would like to reverse: Mridula\n",
      "aludirM\n"
     ]
    }
   ],
   "source": [
    "#3. Write a Python program to reverse a word after accepting the input from the user.\n",
    "\n",
    "n = input(\"Enter the word you would like to reverse: \")\n",
    "print(n[::-1])\n"
   ]
  },
  {
   "cell_type": "code",
   "execution_count": 16,
   "metadata": {},
   "outputs": [
    {
     "name": "stdout",
     "output_type": "stream",
     "text": [
      "WE, THE PEOPLE OF INDIA,\n",
      "\thaving solemnly resolved to constitute India into a SOVEREIGN,!\n",
      "\t\tSOCIALIST, SECULAR, DEMOCRATIC \n",
      "\t\t REPUBLIC and to secure to all its citizens\n"
     ]
    }
   ],
   "source": [
    "#4. Write a Python Program to print the given string in the format specified in the sample output.\n",
    "\n",
    "print(\"WE, THE PEOPLE OF INDIA,\\n\\thaving solemnly resolved to constitute India into a SOVEREIGN,!\\n\\t\\tSOCIALIST, SECULAR, DEMOCRATIC \\n\\t\\t REPUBLIC and to secure to all its citizens\")"
   ]
  },
  {
   "cell_type": "markdown",
   "metadata": {},
   "source": [
    "# 2.3. Problem Statement: PYTHON 3"
   ]
  },
  {
   "cell_type": "code",
   "execution_count": 1,
   "metadata": {},
   "outputs": [],
   "source": [
    "#1.1. Write a Python Program to implement your own myreduce() function which works exactlylike Python's built-in function reduce()\n",
    "\n",
    "def myreduce(func, seq):\n",
    "     answer = seq[0]\n",
    "     for i in seq[1:]:\n",
    "         answer = func(answer, i)\n",
    "     return answer \n",
    "\n"
   ]
  },
  {
   "cell_type": "code",
   "execution_count": 3,
   "metadata": {},
   "outputs": [],
   "source": [
    "def sum(x,y): return x + y"
   ]
  },
  {
   "cell_type": "code",
   "execution_count": 4,
   "metadata": {},
   "outputs": [
    {
     "data": {
      "text/plain": [
       "10"
      ]
     },
     "execution_count": 4,
     "metadata": {},
     "output_type": "execute_result"
    }
   ],
   "source": [
    "myreduce(sum,[1,2,3,4])"
   ]
  },
  {
   "cell_type": "code",
   "execution_count": 2,
   "metadata": {},
   "outputs": [
    {
     "name": "stdout",
     "output_type": "stream",
     "text": [
      "Prime numbers between 1-10:[1]\n"
     ]
    }
   ],
   "source": [
    "#1.2. Write a Python program to implement your own myfilter() function which works exactly like Python's built-in function filter()\n",
    "\n",
    "def myfilter(func, seq):\n",
    "    result = []\n",
    "    for i in seq:\n",
    "        if func(i):\n",
    "            result.append (i)\n",
    "            return result \n",
    "# Test myfilter() function\n",
    "def isPrime(x):\n",
    "    if x%2==0:\n",
    "        return False\n",
    "    else:\n",
    "        return True\n",
    "print (\"Prime numbers between 1-10:\"  + str(myfilter(isPrime, [1,2,3,4,5,6,7,8,9,10]))) "
   ]
  },
  {
   "cell_type": "code",
   "execution_count": 6,
   "metadata": {},
   "outputs": [
    {
     "ename": "IndentationError",
     "evalue": "expected an indented block (<ipython-input-6-0a06c8dcdd3c>, line 15)",
     "output_type": "error",
     "traceback": [
      "\u001b[1;36m  File \u001b[1;32m\"<ipython-input-6-0a06c8dcdd3c>\"\u001b[1;36m, line \u001b[1;32m15\u001b[0m\n\u001b[1;33m    if(x <= 0):\u001b[0m\n\u001b[1;37m     ^\u001b[0m\n\u001b[1;31mIndentationError\u001b[0m\u001b[1;31m:\u001b[0m expected an indented block\n"
     ]
    }
   ],
   "source": [
    "def myfilter(func, my_list):\n",
    "    # Initialize empty list\n",
    "    result = []\n",
    "    # iterate over sequence of items in sequence and apply filter functionfor item in my_list:\n",
    "    if func(item):\n",
    "        result.append(item)\n",
    "    # return funal output\n",
    "    return result\n",
    "\n",
    "# test myreduce function\n",
    "def sum(x,y): return x + y\n",
    "\n",
    "# test myfilter function\n",
    "def ispositive(x):\n",
    "if(x <= 0): \n",
    "    return False\n",
    "else: \n",
    "    return True\n"
   ]
  },
  {
   "cell_type": "code",
   "execution_count": null,
   "metadata": {},
   "outputs": [],
   "source": []
  },
  {
   "cell_type": "code",
   "execution_count": null,
   "metadata": {},
   "outputs": [],
   "source": []
  },
  {
   "cell_type": "code",
   "execution_count": null,
   "metadata": {},
   "outputs": [],
   "source": []
  },
  {
   "cell_type": "code",
   "execution_count": null,
   "metadata": {},
   "outputs": [],
   "source": []
  },
  {
   "cell_type": "code",
   "execution_count": null,
   "metadata": {},
   "outputs": [],
   "source": []
  },
  {
   "cell_type": "markdown",
   "metadata": {},
   "source": [
    "# 2 . Implement List comprehensions to produce the following lists.\n",
    "\n",
    "\n",
    "\n"
   ]
  },
  {
   "cell_type": "code",
   "execution_count": 11,
   "metadata": {},
   "outputs": [
    {
     "name": "stdout",
     "output_type": "stream",
     "text": [
      "ACADGILD == ['A', 'C', 'A', 'D', 'G', 'I', 'L', 'D']\n"
     ]
    }
   ],
   "source": [
    "#Write List comprehensions to produce the following Lists.\n",
    "\n",
    "List=[]\n",
    "for ch in 'ACADGILD':\n",
    "    List.append(ch)\n",
    "print(\"ACADGILD == \"+ str(List))"
   ]
  },
  {
   "cell_type": "code",
   "execution_count": 12,
   "metadata": {},
   "outputs": [
    {
     "name": "stdout",
     "output_type": "stream",
     "text": [
      "['x','y','z'] == ['x', 'xx', 'xxx', 'xxxx', 'y', 'yy', 'yyy', 'yyyy', 'z', 'zz', 'zzz', 'zzzz']\n"
     ]
    }
   ],
   "source": [
    "a = 'x','y','z'\n",
    "my_list = [x * y for x in a for y in range (1,5)]\n",
    "print(\"['x','y','z'] == \" +   str(my_list))"
   ]
  },
  {
   "cell_type": "code",
   "execution_count": 13,
   "metadata": {},
   "outputs": [
    {
     "name": "stdout",
     "output_type": "stream",
     "text": [
      "['x','y','z'] == ['x', 'y', 'z', 'xx', 'yy', 'zz', 'xxx', 'yyy', 'zzz', 'xxxx', 'yyyy', 'zzzz']\n"
     ]
    }
   ],
   "source": [
    "a = 'x','y','z'\n",
    "my_list = [x * y for y in range (1,5) for x in a]\n",
    "print(\"['x','y','z'] == \" +   str(my_list))"
   ]
  },
  {
   "cell_type": "code",
   "execution_count": 14,
   "metadata": {},
   "outputs": [
    {
     "name": "stdout",
     "output_type": "stream",
     "text": [
      "[2,3,4] == [[2], [3], [4], [3], [4], [5], [4], [5], [6]]\n"
     ]
    }
   ],
   "source": [
    "a = [2,3,4]\n",
    "my_list = [ [x+y] for x in a for y in range(0,3)]\n",
    "print(\"[2,3,4] == \" +  str(my_list))"
   ]
  },
  {
   "cell_type": "code",
   "execution_count": 15,
   "metadata": {},
   "outputs": [
    {
     "name": "stdout",
     "output_type": "stream",
     "text": [
      "[2,3,4,5] == [[2, 3, 4, 5], [3, 4, 5, 6], [4, 5, 6, 7], [5, 6, 7, 8]]\n"
     ]
    }
   ],
   "source": [
    "a = [2,3,4,5]\n",
    "my_list = [ [x+y for x in a] for y in range(0,4)]\n",
    "print(\"[2,3,4,5] == \" +  str(my_list))"
   ]
  },
  {
   "cell_type": "code",
   "execution_count": 4,
   "metadata": {},
   "outputs": [
    {
     "name": "stdout",
     "output_type": "stream",
     "text": [
      "[1,2,3] == [[1, 1], [2, 1], [3, 1], [1, 2], [2, 2], [3, 2], [1, 3], [2, 3], [3, 3]]\n"
     ]
    }
   ],
   "source": [
    "a = [1,2,3]\n",
    "my_list = [ [y,x] for x in a for y in a]\n",
    "print(\"[1,2,3] == \" +  str(my_list))"
   ]
  },
  {
   "cell_type": "markdown",
   "metadata": {},
   "source": [
    "# 2.4. Problem Statement: PYTHON 4"
   ]
  },
  {
   "cell_type": "code",
   "execution_count": 5,
   "metadata": {},
   "outputs": [
    {
     "name": "stdout",
     "output_type": "stream",
     "text": [
      "Enter the value of a = 5\n",
      "Enter the value of b = 7\n",
      "Enter the value of c = 8\n",
      "area : 17.320508075688775\n"
     ]
    }
   ],
   "source": [
    "#Write a Python Program(with class concepts) to find the area of the triangle using the belowformula.\n",
    "#area = (s*(s-a)*(s-b)*(s-c)) ** 0.5\n",
    "#Function to take the length of the sides of triangle from user should be defined in the parent\n",
    "#class and function to calculate the area should be defined in subclass.\n",
    "\n",
    "class Triangle:\n",
    " \n",
    "    def __init__(self,a,b,c):\n",
    "        self.a = float(a)\n",
    "        self.b = float(b)\n",
    "        self.c = float(c)\n",
    " \n",
    "    def area(self):\n",
    "        s=(self.a + self.b + self.c)/2\n",
    "        return((s*(s-self.a)*(s-self.b)*(s-self.c))**0.5)\n",
    " \n",
    "a=input(\"Enter the value of a = \")\n",
    "b=input(\"Enter the value of b = \")\n",
    "c=input(\"Enter the value of c = \")\n",
    "t = Triangle(a, b, c)\n",
    "print(\"area : {}\".format(t.area()))"
   ]
  },
  {
   "cell_type": "code",
   "execution_count": 1,
   "metadata": {},
   "outputs": [
    {
     "name": "stdout",
     "output_type": "stream",
     "text": [
      "Energetic\n"
     ]
    }
   ],
   "source": [
    "# 1.2 Write a function filter_long_words() that takes a list of words and an integer n and returns the list of words that are longer than n.\n",
    "\n",
    "\n",
    "\n",
    "def find_longest_word(words_list):  \n",
    "    word_len = []  \n",
    "    for n in words_list:  \n",
    "        word_len.append((len(n), n))  \n",
    "    word_len.sort()  \n",
    "    return word_len[-1][1]  \n",
    "  \n",
    "print(find_longest_word([\"Solution\", \"Matrix\", \"Energetic\"]))  "
   ]
  },
  {
   "cell_type": "code",
   "execution_count": 2,
   "metadata": {},
   "outputs": [
    {
     "name": "stdout",
     "output_type": "stream",
     "text": [
      "List of words:['Magnet', 'Mindful', 'Majestic', 'Neighbour', 'Friendship', 'hallucination']\n",
      "List of wordlength:[6, 7, 8, 9, 10, 13]\n"
     ]
    }
   ],
   "source": [
    "# 2.1 Write a Python program using function concept that maps list of words into a list of integers representing the lengths of the corresponding words.\n",
    "\n",
    "\n",
    "listOfWords = ['Magnet', 'Mindful','Majestic','Neighbour','Friendship','hallucination']\n",
    "\n",
    "listOfInts = []\n",
    "\n",
    "for i in range(len(listOfWords)):\n",
    "    listOfInts.append(len(listOfWords[i]))\n",
    "\n",
    "print (\"List of words:\"+str(listOfWords))    \n",
    "print (\"List of wordlength:\"+str(listOfInts))\n"
   ]
  },
  {
   "cell_type": "code",
   "execution_count": 3,
   "metadata": {},
   "outputs": [
    {
     "name": "stdout",
     "output_type": "stream",
     "text": [
      "False\n",
      "True\n"
     ]
    }
   ],
   "source": [
    "# 2.2 Write a Python function which takes a character (i.e. a string of length 1) and returns True if it is a vowel, False otherwise.\n",
    "\n",
    "\n",
    "def is_vowel(char):\n",
    "    all_vowels = 'aeiou'\n",
    "        return char in all_vowels\n",
    "print(is_vowel('c'))\n",
    "print(is_vowel('e'))"
   ]
  },
  {
   "cell_type": "markdown",
   "metadata": {},
   "source": [
    "# 2.5. Problem Statement: PYTHON 5"
   ]
  },
  {
   "cell_type": "code",
   "execution_count": 8,
   "metadata": {},
   "outputs": [
    {
     "name": "stdout",
     "output_type": "stream",
     "text": [
      "Error!!! in line3 division by zero\n",
      "Division Successful\n"
     ]
    }
   ],
   "source": [
    "# 1. Write a function to compute 5/0 and use try/except to catch the exceptions.\n",
    "\n",
    "\n",
    "i = 5\n",
    "j = 0\n",
    "try:\n",
    "    div = i /j\n",
    "    print('Division is ', div)\n",
    "except Exception as e:\n",
    "    print('Error!!! in line3', e)\n",
    "\n",
    "print(\"Division Successful\")\n"
   ]
  },
  {
   "cell_type": "code",
   "execution_count": 10,
   "metadata": {},
   "outputs": [
    {
     "name": "stdout",
     "output_type": "stream",
     "text": [
      "Americans play Baseball\n",
      "Americans play Cricket\n",
      "Americans watch Baseball\n",
      "Americans watch Cricket\n",
      "Indians play Baseball\n",
      "Indians play Cricket\n",
      "Indians watch Baseball\n",
      "Indians watch Cricket\n"
     ]
    }
   ],
   "source": [
    "# 2. Implement a Python program to generate all sentences where subject is in [\"Americans',\"Indians\"] and verb is in [\"Play\", \"watch\"] and the object is in [\"Baseball\",\"cricket\"].\n",
    "\n",
    "\n",
    "subjects = [\"Americans\", \"Indians\"]\n",
    "verbs= [\"play\", \"watch\"]\n",
    "objects=[\"Baseball\", \"Cricket\"]\n",
    "\n",
    "for s in subjects:\n",
    "    for v in verbs:\n",
    "        for o in objects:\n",
    "            print(s,v,o)\n",
    "\n",
    "\n"
   ]
  },
  {
   "cell_type": "code",
   "execution_count": null,
   "metadata": {},
   "outputs": [],
   "source": []
  }
 ],
 "metadata": {
  "kernelspec": {
   "display_name": "Python 3",
   "language": "python",
   "name": "python3"
  },
  "language_info": {
   "codemirror_mode": {
    "name": "ipython",
    "version": 3
   },
   "file_extension": ".py",
   "mimetype": "text/x-python",
   "name": "python",
   "nbconvert_exporter": "python",
   "pygments_lexer": "ipython3",
   "version": "3.7.3"
  }
 },
 "nbformat": 4,
 "nbformat_minor": 2
}
