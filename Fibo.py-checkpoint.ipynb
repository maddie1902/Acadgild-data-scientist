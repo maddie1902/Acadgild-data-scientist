{
 "cells": [
  {
   "cell_type": "markdown",
   "metadata": {},
   "source": [
    "# Fibo.py"
   ]
  },
  {
   "cell_type": "code",
   "execution_count": 2,
   "metadata": {},
   "outputs": [],
   "source": [
    "# Code for fibonacci\n",
    "#def fib(n):    # write Fibonacci series up to n\n",
    "#    n1, n2 = 0, 1\n",
    "#    while n2 < n:\n",
    "#        print(n2)\n",
    "#        n1, n2 = n2, n1+n2\n",
    "\n",
    "def fib2(n): # return Fibonacci series up to n\n",
    "    fibseris = []\n",
    "    n1, n2 = 0, 1\n",
    "    while n2 < n:\n",
    "        fibseris.append(n2)\n",
    "        n1, n2 = n2, n1+n2\n",
    "    return fibseris"
   ]
  },
  {
   "cell_type": "code",
   "execution_count": null,
   "metadata": {},
   "outputs": [],
   "source": []
  }
 ],
 "metadata": {
  "kernelspec": {
   "display_name": "Python 3",
   "language": "python",
   "name": "python3"
  },
  "language_info": {
   "codemirror_mode": {
    "name": "ipython",
    "version": 3
   },
   "file_extension": ".py",
   "mimetype": "text/x-python",
   "name": "python",
   "nbconvert_exporter": "python",
   "pygments_lexer": "ipython3",
   "version": "3.7.3"
  }
 },
 "nbformat": 4,
 "nbformat_minor": 2
}
