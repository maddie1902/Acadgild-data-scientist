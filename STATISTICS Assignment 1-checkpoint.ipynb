{
 "cells": [
  {
   "cell_type": "markdown",
   "metadata": {},
   "source": [
    "# STATISTICS 1, 2, 3 & 4"
   ]
  },
  {
   "cell_type": "markdown",
   "metadata": {},
   "source": [
    "Assignment-1"
   ]
  },
  {
   "cell_type": "markdown",
   "metadata": {},
   "source": [
    "# 2.1. Problem Statement: STATISTICS 1"
   ]
  },
  {
   "cell_type": "markdown",
   "metadata": {},
   "source": [
    "2.1.1. You survey households in your area to find the average rent they are paying. Find the standard deviation from the following data:\n",
    "$1550, $1700, $900, $850, $1000, $950."
   ]
  },
  {
   "cell_type": "code",
   "execution_count": 2,
   "metadata": {},
   "outputs": [],
   "source": [
    "import numpy as np\n",
    "import pandas as pd\n",
    "from scipy.stats import binom\n",
    "import math\n",
    "import scipy.stats as stat"
   ]
  },
  {
   "cell_type": "code",
   "execution_count": 3,
   "metadata": {},
   "outputs": [
    {
     "name": "stdout",
     "output_type": "stream",
     "text": [
      "Std Deviation of average rent =  335.92740617910624\n"
     ]
    }
   ],
   "source": [
    "AvgRent=[1550,1700,900,850,1000,950]\n",
    "StdDev = np.std(AvgRent)\n",
    "print(\"Std Deviation of average rent = \", StdDev)"
   ]
  },
  {
   "cell_type": "markdown",
   "metadata": {},
   "source": [
    "# 2.1.2. Find the variance for the following set of data representing trees in California (heights in feet):"
   ]
  },
  {
   "cell_type": "markdown",
   "metadata": {},
   "source": [
    "3, 21, 98, 203, 17, 9"
   ]
  },
  {
   "cell_type": "code",
   "execution_count": 4,
   "metadata": {},
   "outputs": [
    {
     "name": "stdout",
     "output_type": "stream",
     "text": [
      "Variance of tree height =  5183.25\n"
     ]
    }
   ],
   "source": [
    "trees_height = [3, 21, 98, 203, 17, 9]\n",
    "var_treehgt = np.var(trees_height)\n",
    "print(\"Variance of tree height = \", var_treehgt)"
   ]
  },
  {
   "cell_type": "markdown",
   "metadata": {},
   "source": [
    "# 2.1.3. In a class on 100 students, 80 students passed in all subjects, 10 failed in one subject, 7 failed in two subjects and 3 failed in three subjects. Find the probability distribution of the variable for number of subjects a student from the given class has failed in."
   ]
  },
  {
   "cell_type": "code",
   "execution_count": 5,
   "metadata": {},
   "outputs": [
    {
     "data": {
      "text/plain": [
       "<Figure size 640x480 with 1 Axes>"
      ]
     },
     "metadata": {},
     "output_type": "display_data"
    }
   ],
   "source": [
    "import matplotlib.pyplot as plt\n",
    "# Random variable for students passed in subject\n",
    "x=0,1,2,3 #[passed in all subject, failed in one, failed in two & failed in three subject]\n",
    "x0= 80/100 #students passed in all subject\n",
    "x1= 10/100 #students passed in one subject\n",
    "x2= 7/100 #students passed in two subject\n",
    "x3= 3/100 #students passed in three subject\n",
    "plt.hist([x0,x1,x2,x3])\n",
    "plt.show()"
   ]
  },
  {
   "cell_type": "markdown",
   "metadata": {},
   "source": [
    "# 2.2. Problem Statement: STATISTICS 2"
   ]
  },
  {
   "cell_type": "markdown",
   "metadata": {},
   "source": [
    "# 2.2.1. A test is conducted which is consisting of 20 MCQs (multiple choices questions) with every MCQ having its four options out of which only one is correct. Determine the probability that a person undertaking that test has answered exactly 5 questions wrong."
   ]
  },
  {
   "cell_type": "code",
   "execution_count": 6,
   "metadata": {},
   "outputs": [
    {
     "data": {
      "text/plain": [
       "3.4264958230778435e-06"
      ]
     },
     "execution_count": 6,
     "metadata": {},
     "output_type": "execute_result"
    }
   ],
   "source": [
    "# out of 4 question only 1 is right & 3 are wrong. So proobability to get wrong is 3/4 & right is 1/4\n",
    "#way1 to solve\n",
    "#20c5 3/4^5 1/4^15\n",
    "# way2 to solve\n",
    "Prob5Qs = binom.pmf(5,20,0.75)\n",
    "Prob5Qs"
   ]
  },
  {
   "cell_type": "markdown",
   "metadata": {},
   "source": [
    "# 2.2.2. A die marked A to E is rolled 50 times. Find the probability of getting a “D” exactly 5 times."
   ]
  },
  {
   "cell_type": "code",
   "execution_count": 8,
   "metadata": {},
   "outputs": [
    {
     "data": {
      "text/plain": [
       "0.029531204310523224"
      ]
     },
     "execution_count": 8,
     "metadata": {},
     "output_type": "execute_result"
    }
   ],
   "source": [
    "# out of 5 letters,proobability to getting D is 1/5 & we have to roll 50 times\n",
    "ProbD = binom.pmf(5,50,0.2)\n",
    "ProbD"
   ]
  },
  {
   "cell_type": "markdown",
   "metadata": {},
   "source": [
    "# 2.2.3. Two balls are drawn at random in succession without replacement from an urn containing"
   ]
  },
  {
   "cell_type": "code",
   "execution_count": 9,
   "metadata": {},
   "outputs": [
    {
     "name": "stdout",
     "output_type": "stream",
     "text": [
      "[0.4, 0.3333333333333333, 0.4, 0.6666666666666666, 0.6, 0.5555555555555556, 0.6, 0.4444444444444444]\n"
     ]
    },
    {
     "data": {
      "image/png": "[encoded data removed]",
      "text/plain": [
       "<Figure size 432x288 with 1 Axes>"
      ]
     },
     "metadata": {
      "needs_background": "light"
     },
     "output_type": "display_data"
    }
   ],
   "source": [
    "# There are 10 balls, 4 are red & 6 black. Two drwan & not replaced\n",
    "# Probability are RR, RB, BB, BR with 2 drawns\n",
    "ProbR1 = 4/10 #getting first red ball from 10, out of which 4 red\n",
    "ProbR2 = 3/9 #getting second red ball from 9, out of which 3 red\n",
    "\n",
    "ProbR1 = 4/10 #getting first red ball from 10, out of which 4 red\n",
    "ProbB2 = 6/9 #getting second black ball from 9, out of which 6 black\n",
    "\n",
    "ProbB1 = 6/10 #getting first black ball from 10, out of which 6 black\n",
    "ProbB3 = 5/9 #getting second black ball from 9, out of which 5 black\n",
    "\n",
    "ProbB1 = 6/10 #getting first black ball from 10, out of which 6 black\n",
    "ProbR3 = 4/9 #getting second red ball from 9, out of which 4 red\n",
    "\n",
    "ProbAll = [ProbR1,ProbR2,ProbR1,ProbB2,ProbB1,ProbB3,ProbB1,ProbR3]\n",
    "print(ProbAll)\n",
    "plt.hist(ProbAll)\n",
    "plt.show()"
   ]
  },
  {
   "cell_type": "markdown",
   "metadata": {},
   "source": [
    "# 2.3. Problem Statement: STATISTICS 3"
   ]
  },
  {
   "cell_type": "markdown",
   "metadata": {},
   "source": [
    "Blood glucose levels for obese patients have a mean of 100 with a standard deviation of 15. A researcher thinks that a diet high in raw cornstarch will have a positive effect on blood glucose levels. A sample of 36 patients who have tried the raw cornstarch diet have a mean glucose level of 108. Test the hypothesis that the raw cornstarch had an effect or not."
   ]
  },
  {
   "cell_type": "code",
   "execution_count": 10,
   "metadata": {},
   "outputs": [
    {
     "data": {
      "text/plain": [
       "0.07000000000000339"
      ]
     },
     "execution_count": 10,
     "metadata": {},
     "output_type": "execute_result"
    }
   ],
   "source": [
    "# We need to assume null hypothesis here, if we prove that wrong then alternative is true\n",
    "# H0 = Patient having glucose level equal to mean 100\n",
    "# H1 = Patient having glucose level not equal to mean 100\n",
    "Mean = 100 #polupation mean\n",
    "SMean = 108 #sample mean\n",
    "Sig = 15 # population std. devi\n",
    "\n",
    "# need to find sample std. deviation\n",
    "SigS = 15/math.sqrt(36)\n",
    "\n",
    "#now find z score\n",
    "z_glucose = (SMean - Mean)/SigS\n",
    "\n",
    "# find z score for z_glucose on z score table & minus from 1\n",
    "z_gluc = 1-0.9993\n",
    "z_gluc*100"
   ]
  },
  {
   "cell_type": "markdown",
   "metadata": {},
   "source": [
    "Based on z score we can reject null hypothesis & alternative hypothesis is correct\n",
    "2.3.1. In one state, 52% of the voters are Republicans, and 48% are Democrats. In a second state, 47% of the voters are Republicans, and 53% are Democrats. Suppose a simple random sample of 100 voters are surveyed from each state.\n",
    "What is the probability that the survey will show a greater percentage of Republican voters in the second state than in the first state?"
   ]
  },
  {
   "cell_type": "code",
   "execution_count": 11,
   "metadata": {},
   "outputs": [
    {
     "data": {
      "text/plain": [
       "-0.7080278164104213"
      ]
     },
     "execution_count": 11,
     "metadata": {},
     "output_type": "execute_result"
    }
   ],
   "source": [
    "\n",
    "# first state Republican voters are 52% & Democrates are 48%\n",
    "MeanP1=52/100 #Population mean of republican voters in state1 \n",
    "MeanP2=47/100 #Population mean of republican voters in state2\n",
    "Ep1p2 = MeanP1 - MeanP2 # Mean difference in Republican sample\n",
    "#Find Std. deviation of differences\n",
    "RepStdDev = math.sqrt(MeanP1*(1-MeanP1)/100+MeanP2*(1-MeanP2)/100)\n",
    "z_Repb = (0-Ep1p2)/RepStdDev\n",
    "z_Repb\n",
    "\n",
    "# Find z score from z table for -0.71 which is 0.24"
   ]
  },
  {
   "cell_type": "markdown",
   "metadata": {},
   "source": [
    "Probability second state get higher republican votes is 24%\n",
    "\n",
    "2.3.2. You take the SAT and score 1100. The mean score for the SAT is 1026 and the standard deviation is 209. How well did you score on the test compared to the average test taker?"
   ]
  },
  {
   "cell_type": "code",
   "execution_count": 12,
   "metadata": {},
   "outputs": [
    {
     "data": {
      "text/plain": [
       "0.35406698564593303"
      ]
     },
     "execution_count": 12,
     "metadata": {},
     "output_type": "execute_result"
    }
   ],
   "source": [
    "z_SAT = (1100 - 1026)/209\n",
    "z_SAT"
   ]
  },
  {
   "cell_type": "markdown",
   "metadata": {},
   "source": [
    "# 2.4. Problem Statement: STATISTICS 4"
   ]
  },
  {
   "cell_type": "markdown",
   "metadata": {},
   "source": [
    "2.4.1. Is gender independent of education level? A random sample of 395 people were surveyed and each person was asked to report the highest education level they obtained. The data that resulted from the survey is summarized in the following table:"
   ]
  },
  {
   "cell_type": "markdown",
   "metadata": {},
   "source": [
    "High-School Bachelor Masters Ph.D. Total\n",
    "\n",
    "Female 60 54 46 41 201\n",
    "Male 40 44 53 57 194\n",
    "\n",
    "Total 100 98 99 98 395"
   ]
  },
  {
   "cell_type": "markdown",
   "metadata": {},
   "source": [
    "# Question: Are gender and education level dependent at 5% level of significance? In other words, given the data collected above, is there a relationship between the gender of an individual and the level of education that they have obtained?"
   ]
  },
  {
   "cell_type": "code",
   "execution_count": 13,
   "metadata": {},
   "outputs": [
    {
     "data": {
      "text/plain": [
       "0.027848101265822784"
      ]
     },
     "execution_count": 13,
     "metadata": {},
     "output_type": "execute_result"
    }
   ],
   "source": [
    "# Chi square\n",
    "#Ho: Gender & education level are dependent\n",
    "#H1: Gender & education level are not dependent or idependent\n",
    "\n",
    "#Expected value for each education from sample is 98.75\n",
    "ChiSqr = (100-98.75)**2/98.75 + (98-98.75)**2/98.75 + (99-98.75)**2/98.75 + (98-98.75)**2/98.75\n",
    "ChiSqr"
   ]
  },
  {
   "cell_type": "markdown",
   "metadata": {},
   "source": [
    "ChiSqr is less than 5% so we failed to reject null hypothesis mean Gender & education level are dependent"
   ]
  },
  {
   "cell_type": "markdown",
   "metadata": {},
   "source": [
    "2.4.2. Using the following data, perform a one-way analysis of variance using α=.05. Write up the results in APA format."
   ]
  },
  {
   "cell_type": "markdown",
   "metadata": {},
   "source": [
    "[Group1: 51, 45, 33, 45, 67] [Group2: 23, 43, 23, 43, 45] [Group3: 56, 76, 74, 87, 56]"
   ]
  },
  {
   "cell_type": "code",
   "execution_count": 14,
   "metadata": {},
   "outputs": [],
   "source": [
    "# Annova\n",
    "Group1 = [51, 45, 33, 45, 67]\n",
    "Group2 = [23, 43, 23, 43, 45]\n",
    "Group3 = [56, 76, 74, 87, 56]"
   ]
  },
  {
   "cell_type": "code",
   "execution_count": 15,
   "metadata": {},
   "outputs": [
    {
     "data": {
      "text/plain": [
       "F_onewayResult(statistic=9.747205503009463, pvalue=0.0030597541434430556)"
      ]
     },
     "execution_count": 15,
     "metadata": {},
     "output_type": "execute_result"
    }
   ],
   "source": [
    "stat.f_oneway(Group1,Group2,Group3)"
   ]
  },
  {
   "cell_type": "code",
   "execution_count": null,
   "metadata": {},
   "outputs": [],
   "source": [
    "# APA formate\n",
    "F(2, 12)=9.75, p=0.003 # Degree of freedom between, within = F-statistics & significance level -p"
   ]
  },
  {
   "cell_type": "code",
   "execution_count": 17,
   "metadata": {},
   "outputs": [
    {
     "name": "stdout",
     "output_type": "stream",
     "text": [
      "51.13333333333333\n",
      "4883.733333333333\n",
      "1860.8\n",
      "3022.933333333333\n",
      "9.747205503009457\n"
     ]
    }
   ],
   "source": [
    "# APA formate F(14,)\n",
    "\n",
    "# first find mean of individual groups\n",
    "GrMn1= np.mean(Group1)\n",
    "GrMn2=np.mean(Group2)\n",
    "GrMn3=np.mean(Group3)\n",
    "\n",
    "# Mean of group combined\n",
    "GrMn=np.mean([Group1,Group2,Group3])\n",
    "print(GrMn)\n",
    "\n",
    "# SST- Sum Squared Total\n",
    "GrSST=([Group1,Group2,Group3]-GrMn)**2\n",
    "print(np.sum(GrSST)) # mxn-1 df 3x5= 15-1=14\n",
    "\n",
    "# SSW- Sum Squared Within\n",
    "GrSSW1=(Group1-GrMn1)**2\n",
    "GrSSW2=(Group2-GrMn2)**2\n",
    "GrSSW3=(Group3-GrMn3)**2\n",
    "GrSSW= np.sum([GrSSW1,GrSSW2,GrSSW3])\n",
    "print(GrSSW) #mx(n-1) df = 3x4=12\n",
    "\n",
    "# SSB- Sum Squared Between\n",
    "GrSSB1=5*(GrMn1-GrMn)**2\n",
    "GrSSB2=5*(GrMn2-GrMn)**2\n",
    "GrSSB3=5*(GrMn3-GrMn)**2\n",
    "GrSSB=np.sum([GrSSB1,GrSSB2,GrSSB3])\n",
    "print(GrSSB) # m-1 df = 2\n",
    "\n",
    "# we will assume F-statistics which ratio of SSB/df(m-1)) & SSW/df(m(n-1))\n",
    "F_sts = (GrSSB/2)/(GrSSW/12)\n",
    "print(F_sts)"
   ]
  },
  {
   "cell_type": "code",
   "execution_count": null,
   "metadata": {},
   "outputs": [],
   "source": [
    "#F critical value from table\n",
    "probability = 3.89\n",
    "F(2, 12)=9.75, p=0.04 # Degree of freedom between, within = F-statistics & significance level -p"
   ]
  },
  {
   "cell_type": "markdown",
   "metadata": {},
   "source": [
    "# 2.4.3. Calculate F Test for given 10, 20, 30, 40, 50 and 5,10,15, 20, 25."
   ]
  },
  {
   "cell_type": "markdown",
   "metadata": {},
   "source": [
    "For 10, 20, 30, 40, 50:"
   ]
  },
  {
   "cell_type": "code",
   "execution_count": 21,
   "metadata": {},
   "outputs": [],
   "source": [
    "# F Test\n",
    "var1 = [10,20,30,40,50]\n",
    "var2 = [5,10,15,20,25]\n",
    "var3 = [10,20,30,40,50]"
   ]
  },
  {
   "cell_type": "code",
   "execution_count": 22,
   "metadata": {},
   "outputs": [
    {
     "data": {
      "text/plain": [
       "4.0"
      ]
     },
     "execution_count": 22,
     "metadata": {},
     "output_type": "execute_result"
    }
   ],
   "source": [
    "f = np.var(var1)/np.var(var2)\n",
    "f"
   ]
  },
  {
   "cell_type": "code",
   "execution_count": 23,
   "metadata": {},
   "outputs": [
    {
     "data": {
      "text/plain": [
       "0.9897892052356126"
      ]
     },
     "execution_count": 23,
     "metadata": {},
     "output_type": "execute_result"
    }
   ],
   "source": [
    "stat.f.cdf(f, 4, np.mean(var3))"
   ]
  },
  {
   "cell_type": "markdown",
   "metadata": {},
   "source": [
    "F statistics value 99%, p=0.01 fail to reject null Hypothesis"
   ]
  },
  {
   "cell_type": "markdown",
   "metadata": {},
   "source": [
    "# Thank you!!!"
   ]
  },
  {
   "cell_type": "code",
   "execution_count": null,
   "metadata": {},
   "outputs": [],
   "source": []
  },
  {
   "cell_type": "code",
   "execution_count": null,
   "metadata": {},
   "outputs": [],
   "source": []
  },
  {
   "cell_type": "code",
   "execution_count": null,
   "metadata": {},
   "outputs": [],
   "source": []
  }
 ],
 "metadata": {
  "kernelspec": {
   "display_name": "Python 3",
   "language": "python",
   "name": "python3"
  },
  "language_info": {
   "codemirror_mode": {
    "name": "ipython",
    "version": 3
   },
   "file_extension": ".py",
   "mimetype": "text/x-python",
   "name": "python",
   "nbconvert_exporter": "python",
   "pygments_lexer": "ipython3",
   "version": "3.7.3"
  }
 },
 "nbformat": 4,
 "nbformat_minor": 2
}
