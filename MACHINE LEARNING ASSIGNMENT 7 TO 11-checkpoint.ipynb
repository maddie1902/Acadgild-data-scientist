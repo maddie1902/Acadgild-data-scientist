{
 "cells": [
  {
   "cell_type": "markdown",
   "metadata": {},
   "source": [
    "# ML7_11 Assignment from Sessions 27_32"
   ]
  },
  {
   "cell_type": "markdown",
   "metadata": {},
   "source": [
    "# 2.1. Problem Statement: Machine Learning 7"
   ]
  },
  {
   "cell_type": "markdown",
   "metadata": {},
   "source": [
    "In this assignment, students will be using the K-nearest neighbors algorithm to predict how many points NBA players scored in the 2013-2014 season. A look at the data Before we dive into the algorithm, let’s take a look at our data. Each row in the data contains information on how a player performed in the 2013-2014 NBA season.\n",
    "\n",
    "Download 'nba_2013.csv' file from this link:\n",
    "\n",
    "https://www.dropbox.com/s/b3nv38jjo5dxcl6/nba_2013.csv?dl=0\n",
    "\n",
    "Here are some selected columns from the data:\n",
    "\n",
    "player - name of the player\n",
    "\n",
    "pos - the position of the player\n",
    "\n",
    "g - number of games the player was in\n",
    "\n",
    "gs - number of games the player started\n",
    "\n",
    "pts - total points the player scored\n",
    "\n",
    "There are many more columns in the data, mostly containing information about average player game performance over the course of the season. See this site for an explanation of the rest of them. We can read our dataset in and figure out which columns are present:"
   ]
  },
  {
   "cell_type": "code",
   "execution_count": 91,
   "metadata": {},
   "outputs": [
    {
     "ename": "FileNotFoundError",
     "evalue": "[Errno 2] File b'nba_2013.csv' does not exist: b'nba_2013.csv'",
     "output_type": "error",
     "traceback": [
      "\u001b[1;31m---------------------------------------------------------------------------\u001b[0m",
      "\u001b[1;31mFileNotFoundError\u001b[0m                         Traceback (most recent call last)",
      "\u001b[1;32m<ipython-input-91-af9a795e95fb>\u001b[0m in \u001b[0;36m<module>\u001b[1;34m\u001b[0m\n\u001b[0;32m      3\u001b[0m \u001b[1;32mimport\u001b[0m \u001b[0mpandas\u001b[0m \u001b[1;32mas\u001b[0m \u001b[0mpd\u001b[0m\u001b[1;33m\u001b[0m\u001b[1;33m\u001b[0m\u001b[0m\n\u001b[0;32m      4\u001b[0m \u001b[1;31m#with open(\"nba_2013.csv\", 'r') as csvfile:\u001b[0m\u001b[1;33m\u001b[0m\u001b[1;33m\u001b[0m\u001b[1;33m\u001b[0m\u001b[0m\n\u001b[1;32m----> 5\u001b[1;33m \u001b[0mnba\u001b[0m \u001b[1;33m=\u001b[0m \u001b[0mpd\u001b[0m\u001b[1;33m.\u001b[0m\u001b[0mread_csv\u001b[0m\u001b[1;33m(\u001b[0m\u001b[1;34m\"nba_2013.csv\"\u001b[0m\u001b[1;33m)\u001b[0m\u001b[1;33m\u001b[0m\u001b[1;33m\u001b[0m\u001b[0m\n\u001b[0m\u001b[0;32m      6\u001b[0m \u001b[1;33m\u001b[0m\u001b[0m\n\u001b[0;32m      7\u001b[0m \u001b[1;32mimport\u001b[0m \u001b[0mnumpy\u001b[0m \u001b[1;32mas\u001b[0m \u001b[0mnp\u001b[0m\u001b[1;33m\u001b[0m\u001b[1;33m\u001b[0m\u001b[0m\n",
      "\u001b[1;32m~\\Anaconda3\\lib\\site-packages\\pandas\\io\\parsers.py\u001b[0m in \u001b[0;36mparser_f\u001b[1;34m(filepath_or_buffer, sep, delimiter, header, names, index_col, usecols, squeeze, prefix, mangle_dupe_cols, dtype, engine, converters, true_values, false_values, skipinitialspace, skiprows, skipfooter, nrows, na_values, keep_default_na, na_filter, verbose, skip_blank_lines, parse_dates, infer_datetime_format, keep_date_col, date_parser, dayfirst, iterator, chunksize, compression, thousands, decimal, lineterminator, quotechar, quoting, doublequote, escapechar, comment, encoding, dialect, tupleize_cols, error_bad_lines, warn_bad_lines, delim_whitespace, low_memory, memory_map, float_precision)\u001b[0m\n\u001b[0;32m    700\u001b[0m                     skip_blank_lines=skip_blank_lines)\n\u001b[0;32m    701\u001b[0m \u001b[1;33m\u001b[0m\u001b[0m\n\u001b[1;32m--> 702\u001b[1;33m         \u001b[1;32mreturn\u001b[0m \u001b[0m_read\u001b[0m\u001b[1;33m(\u001b[0m\u001b[0mfilepath_or_buffer\u001b[0m\u001b[1;33m,\u001b[0m \u001b[0mkwds\u001b[0m\u001b[1;33m)\u001b[0m\u001b[1;33m\u001b[0m\u001b[1;33m\u001b[0m\u001b[0m\n\u001b[0m\u001b[0;32m    703\u001b[0m \u001b[1;33m\u001b[0m\u001b[0m\n\u001b[0;32m    704\u001b[0m     \u001b[0mparser_f\u001b[0m\u001b[1;33m.\u001b[0m\u001b[0m__name__\u001b[0m \u001b[1;33m=\u001b[0m \u001b[0mname\u001b[0m\u001b[1;33m\u001b[0m\u001b[1;33m\u001b[0m\u001b[0m\n",
      "\u001b[1;32m~\\Anaconda3\\lib\\site-packages\\pandas\\io\\parsers.py\u001b[0m in \u001b[0;36m_read\u001b[1;34m(filepath_or_buffer, kwds)\u001b[0m\n\u001b[0;32m    427\u001b[0m \u001b[1;33m\u001b[0m\u001b[0m\n\u001b[0;32m    428\u001b[0m     \u001b[1;31m# Create the parser.\u001b[0m\u001b[1;33m\u001b[0m\u001b[1;33m\u001b[0m\u001b[1;33m\u001b[0m\u001b[0m\n\u001b[1;32m--> 429\u001b[1;33m     \u001b[0mparser\u001b[0m \u001b[1;33m=\u001b[0m \u001b[0mTextFileReader\u001b[0m\u001b[1;33m(\u001b[0m\u001b[0mfilepath_or_buffer\u001b[0m\u001b[1;33m,\u001b[0m \u001b[1;33m**\u001b[0m\u001b[0mkwds\u001b[0m\u001b[1;33m)\u001b[0m\u001b[1;33m\u001b[0m\u001b[1;33m\u001b[0m\u001b[0m\n\u001b[0m\u001b[0;32m    430\u001b[0m \u001b[1;33m\u001b[0m\u001b[0m\n\u001b[0;32m    431\u001b[0m     \u001b[1;32mif\u001b[0m \u001b[0mchunksize\u001b[0m \u001b[1;32mor\u001b[0m \u001b[0miterator\u001b[0m\u001b[1;33m:\u001b[0m\u001b[1;33m\u001b[0m\u001b[1;33m\u001b[0m\u001b[0m\n",
      "\u001b[1;32m~\\Anaconda3\\lib\\site-packages\\pandas\\io\\parsers.py\u001b[0m in \u001b[0;36m__init__\u001b[1;34m(self, f, engine, **kwds)\u001b[0m\n\u001b[0;32m    893\u001b[0m             \u001b[0mself\u001b[0m\u001b[1;33m.\u001b[0m\u001b[0moptions\u001b[0m\u001b[1;33m[\u001b[0m\u001b[1;34m'has_index_names'\u001b[0m\u001b[1;33m]\u001b[0m \u001b[1;33m=\u001b[0m \u001b[0mkwds\u001b[0m\u001b[1;33m[\u001b[0m\u001b[1;34m'has_index_names'\u001b[0m\u001b[1;33m]\u001b[0m\u001b[1;33m\u001b[0m\u001b[1;33m\u001b[0m\u001b[0m\n\u001b[0;32m    894\u001b[0m \u001b[1;33m\u001b[0m\u001b[0m\n\u001b[1;32m--> 895\u001b[1;33m         \u001b[0mself\u001b[0m\u001b[1;33m.\u001b[0m\u001b[0m_make_engine\u001b[0m\u001b[1;33m(\u001b[0m\u001b[0mself\u001b[0m\u001b[1;33m.\u001b[0m\u001b[0mengine\u001b[0m\u001b[1;33m)\u001b[0m\u001b[1;33m\u001b[0m\u001b[1;33m\u001b[0m\u001b[0m\n\u001b[0m\u001b[0;32m    896\u001b[0m \u001b[1;33m\u001b[0m\u001b[0m\n\u001b[0;32m    897\u001b[0m     \u001b[1;32mdef\u001b[0m \u001b[0mclose\u001b[0m\u001b[1;33m(\u001b[0m\u001b[0mself\u001b[0m\u001b[1;33m)\u001b[0m\u001b[1;33m:\u001b[0m\u001b[1;33m\u001b[0m\u001b[1;33m\u001b[0m\u001b[0m\n",
      "\u001b[1;32m~\\Anaconda3\\lib\\site-packages\\pandas\\io\\parsers.py\u001b[0m in \u001b[0;36m_make_engine\u001b[1;34m(self, engine)\u001b[0m\n\u001b[0;32m   1120\u001b[0m     \u001b[1;32mdef\u001b[0m \u001b[0m_make_engine\u001b[0m\u001b[1;33m(\u001b[0m\u001b[0mself\u001b[0m\u001b[1;33m,\u001b[0m \u001b[0mengine\u001b[0m\u001b[1;33m=\u001b[0m\u001b[1;34m'c'\u001b[0m\u001b[1;33m)\u001b[0m\u001b[1;33m:\u001b[0m\u001b[1;33m\u001b[0m\u001b[1;33m\u001b[0m\u001b[0m\n\u001b[0;32m   1121\u001b[0m         \u001b[1;32mif\u001b[0m \u001b[0mengine\u001b[0m \u001b[1;33m==\u001b[0m \u001b[1;34m'c'\u001b[0m\u001b[1;33m:\u001b[0m\u001b[1;33m\u001b[0m\u001b[1;33m\u001b[0m\u001b[0m\n\u001b[1;32m-> 1122\u001b[1;33m             \u001b[0mself\u001b[0m\u001b[1;33m.\u001b[0m\u001b[0m_engine\u001b[0m \u001b[1;33m=\u001b[0m \u001b[0mCParserWrapper\u001b[0m\u001b[1;33m(\u001b[0m\u001b[0mself\u001b[0m\u001b[1;33m.\u001b[0m\u001b[0mf\u001b[0m\u001b[1;33m,\u001b[0m \u001b[1;33m**\u001b[0m\u001b[0mself\u001b[0m\u001b[1;33m.\u001b[0m\u001b[0moptions\u001b[0m\u001b[1;33m)\u001b[0m\u001b[1;33m\u001b[0m\u001b[1;33m\u001b[0m\u001b[0m\n\u001b[0m\u001b[0;32m   1123\u001b[0m         \u001b[1;32melse\u001b[0m\u001b[1;33m:\u001b[0m\u001b[1;33m\u001b[0m\u001b[1;33m\u001b[0m\u001b[0m\n\u001b[0;32m   1124\u001b[0m             \u001b[1;32mif\u001b[0m \u001b[0mengine\u001b[0m \u001b[1;33m==\u001b[0m \u001b[1;34m'python'\u001b[0m\u001b[1;33m:\u001b[0m\u001b[1;33m\u001b[0m\u001b[1;33m\u001b[0m\u001b[0m\n",
      "\u001b[1;32m~\\Anaconda3\\lib\\site-packages\\pandas\\io\\parsers.py\u001b[0m in \u001b[0;36m__init__\u001b[1;34m(self, src, **kwds)\u001b[0m\n\u001b[0;32m   1851\u001b[0m         \u001b[0mkwds\u001b[0m\u001b[1;33m[\u001b[0m\u001b[1;34m'usecols'\u001b[0m\u001b[1;33m]\u001b[0m \u001b[1;33m=\u001b[0m \u001b[0mself\u001b[0m\u001b[1;33m.\u001b[0m\u001b[0musecols\u001b[0m\u001b[1;33m\u001b[0m\u001b[1;33m\u001b[0m\u001b[0m\n\u001b[0;32m   1852\u001b[0m \u001b[1;33m\u001b[0m\u001b[0m\n\u001b[1;32m-> 1853\u001b[1;33m         \u001b[0mself\u001b[0m\u001b[1;33m.\u001b[0m\u001b[0m_reader\u001b[0m \u001b[1;33m=\u001b[0m \u001b[0mparsers\u001b[0m\u001b[1;33m.\u001b[0m\u001b[0mTextReader\u001b[0m\u001b[1;33m(\u001b[0m\u001b[0msrc\u001b[0m\u001b[1;33m,\u001b[0m \u001b[1;33m**\u001b[0m\u001b[0mkwds\u001b[0m\u001b[1;33m)\u001b[0m\u001b[1;33m\u001b[0m\u001b[1;33m\u001b[0m\u001b[0m\n\u001b[0m\u001b[0;32m   1854\u001b[0m         \u001b[0mself\u001b[0m\u001b[1;33m.\u001b[0m\u001b[0munnamed_cols\u001b[0m \u001b[1;33m=\u001b[0m \u001b[0mself\u001b[0m\u001b[1;33m.\u001b[0m\u001b[0m_reader\u001b[0m\u001b[1;33m.\u001b[0m\u001b[0munnamed_cols\u001b[0m\u001b[1;33m\u001b[0m\u001b[1;33m\u001b[0m\u001b[0m\n\u001b[0;32m   1855\u001b[0m \u001b[1;33m\u001b[0m\u001b[0m\n",
      "\u001b[1;32mpandas/_libs/parsers.pyx\u001b[0m in \u001b[0;36mpandas._libs.parsers.TextReader.__cinit__\u001b[1;34m()\u001b[0m\n",
      "\u001b[1;32mpandas/_libs/parsers.pyx\u001b[0m in \u001b[0;36mpandas._libs.parsers.TextReader._setup_parser_source\u001b[1;34m()\u001b[0m\n",
      "\u001b[1;31mFileNotFoundError\u001b[0m: [Errno 2] File b'nba_2013.csv' does not exist: b'nba_2013.csv'"
     ]
    }
   ],
   "source": [
    "# importing necessary libraries\n",
    "\n",
    "import pandas as pd\n",
    "#with open(\"nba_2013.csv\", 'r') as csvfile:\n",
    "nba = pd.read_csv(\"nba_2013.csv\")\n",
    "\n",
    "import numpy as np\n",
    "from sklearn.preprocessing import Imputer\n",
    "from sklearn.model_selection import train_test_split\n",
    "from sklearn.neighbors import KNeighborsClassifier\n",
    "from sklearn.neighbors import KNeighborsRegressor\n",
    "from sklearn.metrics import accuracy_score, mean_squared_error"
   ]
  },
  {
   "cell_type": "code",
   "execution_count": null,
   "metadata": {},
   "outputs": [],
   "source": []
  },
  {
   "cell_type": "code",
   "execution_count": 9,
   "metadata": {},
   "outputs": [
    {
     "ename": "NameError",
     "evalue": "name 'nba' is not defined",
     "output_type": "error",
     "traceback": [
      "\u001b[1;31m---------------------------------------------------------------------------\u001b[0m",
      "\u001b[1;31mNameError\u001b[0m                                 Traceback (most recent call last)",
      "\u001b[1;32m<ipython-input-9-28ec1ec5e507>\u001b[0m in \u001b[0;36m<module>\u001b[1;34m\u001b[0m\n\u001b[1;32m----> 1\u001b[1;33m \u001b[0mnba\u001b[0m\u001b[1;33m.\u001b[0m\u001b[0mhead\u001b[0m\u001b[1;33m(\u001b[0m\u001b[1;36m3\u001b[0m\u001b[1;33m)\u001b[0m\u001b[1;33m\u001b[0m\u001b[1;33m\u001b[0m\u001b[0m\n\u001b[0m",
      "\u001b[1;31mNameError\u001b[0m: name 'nba' is not defined"
     ]
    }
   ],
   "source": [
    "nba.head(3)"
   ]
  },
  {
   "cell_type": "code",
   "execution_count": 10,
   "metadata": {},
   "outputs": [
    {
     "ename": "NameError",
     "evalue": "name 'nba' is not defined",
     "output_type": "error",
     "traceback": [
      "\u001b[1;31m---------------------------------------------------------------------------\u001b[0m",
      "\u001b[1;31mNameError\u001b[0m                                 Traceback (most recent call last)",
      "\u001b[1;32m<ipython-input-10-f89317310808>\u001b[0m in \u001b[0;36m<module>\u001b[1;34m\u001b[0m\n\u001b[1;32m----> 1\u001b[1;33m \u001b[0mnba\u001b[0m\u001b[1;33m.\u001b[0m\u001b[0mshape\u001b[0m\u001b[1;33m\u001b[0m\u001b[1;33m\u001b[0m\u001b[0m\n\u001b[0m",
      "\u001b[1;31mNameError\u001b[0m: name 'nba' is not defined"
     ]
    }
   ],
   "source": [
    "nba.shape"
   ]
  },
  {
   "cell_type": "code",
   "execution_count": 5,
   "metadata": {},
   "outputs": [
    {
     "ename": "NameError",
     "evalue": "name 'nba' is not defined",
     "output_type": "error",
     "traceback": [
      "\u001b[1;31m---------------------------------------------------------------------------\u001b[0m",
      "\u001b[1;31mNameError\u001b[0m                                 Traceback (most recent call last)",
      "\u001b[1;32m<ipython-input-5-71c02b24e803>\u001b[0m in \u001b[0;36m<module>\u001b[1;34m\u001b[0m\n\u001b[1;32m----> 1\u001b[1;33m \u001b[0mnba\u001b[0m\u001b[1;33m.\u001b[0m\u001b[0minfo\u001b[0m\u001b[1;33m(\u001b[0m\u001b[1;33m)\u001b[0m\u001b[1;33m\u001b[0m\u001b[1;33m\u001b[0m\u001b[0m\n\u001b[0m",
      "\u001b[1;31mNameError\u001b[0m: name 'nba' is not defined"
     ]
    }
   ],
   "source": [
    "nba.info()"
   ]
  },
  {
   "cell_type": "code",
   "execution_count": 11,
   "metadata": {},
   "outputs": [
    {
     "ename": "NameError",
     "evalue": "name 'nba' is not defined",
     "output_type": "error",
     "traceback": [
      "\u001b[1;31m---------------------------------------------------------------------------\u001b[0m",
      "\u001b[1;31mNameError\u001b[0m                                 Traceback (most recent call last)",
      "\u001b[1;32m<ipython-input-11-31ea82811399>\u001b[0m in \u001b[0;36m<module>\u001b[1;34m\u001b[0m\n\u001b[1;32m----> 1\u001b[1;33m \u001b[0mnba\u001b[0m\u001b[1;33m.\u001b[0m\u001b[0misna\u001b[0m\u001b[1;33m(\u001b[0m\u001b[1;33m)\u001b[0m\u001b[1;33m.\u001b[0m\u001b[0msum\u001b[0m\u001b[1;33m(\u001b[0m\u001b[1;33m)\u001b[0m\u001b[1;33m\u001b[0m\u001b[1;33m\u001b[0m\u001b[0m\n\u001b[0m",
      "\u001b[1;31mNameError\u001b[0m: name 'nba' is not defined"
     ]
    }
   ],
   "source": [
    "nba.isna().sum()"
   ]
  },
  {
   "cell_type": "code",
   "execution_count": 7,
   "metadata": {},
   "outputs": [
    {
     "ename": "NameError",
     "evalue": "name 'nba' is not defined",
     "output_type": "error",
     "traceback": [
      "\u001b[1;31m---------------------------------------------------------------------------\u001b[0m",
      "\u001b[1;31mNameError\u001b[0m                                 Traceback (most recent call last)",
      "\u001b[1;32m<ipython-input-7-069f10082c05>\u001b[0m in \u001b[0;36m<module>\u001b[1;34m\u001b[0m\n\u001b[1;32m----> 1\u001b[1;33m \u001b[0mnba_new\u001b[0m \u001b[1;33m=\u001b[0m \u001b[0mnba\u001b[0m\u001b[1;33m.\u001b[0m\u001b[0mcopy\u001b[0m\u001b[1;33m(\u001b[0m\u001b[1;33m)\u001b[0m\u001b[1;33m\u001b[0m\u001b[1;33m\u001b[0m\u001b[0m\n\u001b[0m",
      "\u001b[1;31mNameError\u001b[0m: name 'nba' is not defined"
     ]
    }
   ],
   "source": [
    "nba_new = nba.copy()"
   ]
  },
  {
   "cell_type": "code",
   "execution_count": 12,
   "metadata": {},
   "outputs": [
    {
     "ename": "NameError",
     "evalue": "name 'nba_new' is not defined",
     "output_type": "error",
     "traceback": [
      "\u001b[1;31m---------------------------------------------------------------------------\u001b[0m",
      "\u001b[1;31mNameError\u001b[0m                                 Traceback (most recent call last)",
      "\u001b[1;32m<ipython-input-12-afbb3a4d29c9>\u001b[0m in \u001b[0;36m<module>\u001b[1;34m\u001b[0m\n\u001b[1;32m----> 1\u001b[1;33m \u001b[0mnba_new\u001b[0m\u001b[1;33m.\u001b[0m\u001b[0mdrop\u001b[0m\u001b[1;33m(\u001b[0m\u001b[1;34m'player'\u001b[0m\u001b[1;33m,\u001b[0m\u001b[0maxis\u001b[0m\u001b[1;33m=\u001b[0m\u001b[1;36m1\u001b[0m\u001b[1;33m,\u001b[0m\u001b[0minplace\u001b[0m\u001b[1;33m=\u001b[0m\u001b[1;32mTrue\u001b[0m\u001b[1;33m)\u001b[0m\u001b[1;33m\u001b[0m\u001b[1;33m\u001b[0m\u001b[0m\n\u001b[0m\u001b[0;32m      2\u001b[0m \u001b[0mnba_new\u001b[0m\u001b[1;33m.\u001b[0m\u001b[0mdrop\u001b[0m\u001b[1;33m(\u001b[0m\u001b[1;34m'bref_team_id'\u001b[0m\u001b[1;33m,\u001b[0m\u001b[0maxis\u001b[0m\u001b[1;33m=\u001b[0m\u001b[1;36m1\u001b[0m\u001b[1;33m,\u001b[0m\u001b[0minplace\u001b[0m\u001b[1;33m=\u001b[0m\u001b[1;32mTrue\u001b[0m\u001b[1;33m)\u001b[0m\u001b[1;33m\u001b[0m\u001b[1;33m\u001b[0m\u001b[0m\n\u001b[0;32m      3\u001b[0m \u001b[0mnba_new\u001b[0m\u001b[1;33m.\u001b[0m\u001b[0mdrop\u001b[0m\u001b[1;33m(\u001b[0m\u001b[1;34m'season'\u001b[0m\u001b[1;33m,\u001b[0m\u001b[0maxis\u001b[0m\u001b[1;33m=\u001b[0m\u001b[1;36m1\u001b[0m\u001b[1;33m,\u001b[0m\u001b[0minplace\u001b[0m\u001b[1;33m=\u001b[0m\u001b[1;32mTrue\u001b[0m\u001b[1;33m)\u001b[0m\u001b[1;33m\u001b[0m\u001b[1;33m\u001b[0m\u001b[0m\n\u001b[0;32m      4\u001b[0m \u001b[1;31m#nba_new.drop('season_end',axis=1,inplace=True)\u001b[0m\u001b[1;33m\u001b[0m\u001b[1;33m\u001b[0m\u001b[1;33m\u001b[0m\u001b[0m\n",
      "\u001b[1;31mNameError\u001b[0m: name 'nba_new' is not defined"
     ]
    }
   ],
   "source": [
    "nba_new.drop('player',axis=1,inplace=True)\n",
    "nba_new.drop('bref_team_id',axis=1,inplace=True)\n",
    "nba_new.drop('season',axis=1,inplace=True)\n",
    "#nba_new.drop('season_end',axis=1,inplace=True)"
   ]
  },
  {
   "cell_type": "code",
   "execution_count": 13,
   "metadata": {},
   "outputs": [
    {
     "ename": "NameError",
     "evalue": "name 'nba' is not defined",
     "output_type": "error",
     "traceback": [
      "\u001b[1;31m---------------------------------------------------------------------------\u001b[0m",
      "\u001b[1;31mNameError\u001b[0m                                 Traceback (most recent call last)",
      "\u001b[1;32m<ipython-input-13-55e08fd8cd1f>\u001b[0m in \u001b[0;36m<module>\u001b[1;34m\u001b[0m\n\u001b[1;32m----> 1\u001b[1;33m \u001b[0mnba\u001b[0m\u001b[1;33m.\u001b[0m\u001b[0mshape\u001b[0m\u001b[1;33m,\u001b[0m\u001b[0mnba_new\u001b[0m\u001b[1;33m.\u001b[0m\u001b[0mshape\u001b[0m\u001b[1;33m\u001b[0m\u001b[1;33m\u001b[0m\u001b[0m\n\u001b[0m",
      "\u001b[1;31mNameError\u001b[0m: name 'nba' is not defined"
     ]
    }
   ],
   "source": [
    "nba.shape,nba_new.shape"
   ]
  },
  {
   "cell_type": "code",
   "execution_count": 14,
   "metadata": {},
   "outputs": [
    {
     "ename": "NameError",
     "evalue": "name 'nba_new' is not defined",
     "output_type": "error",
     "traceback": [
      "\u001b[1;31m---------------------------------------------------------------------------\u001b[0m",
      "\u001b[1;31mNameError\u001b[0m                                 Traceback (most recent call last)",
      "\u001b[1;32m<ipython-input-14-58b957ef2668>\u001b[0m in \u001b[0;36m<module>\u001b[1;34m\u001b[0m\n\u001b[1;32m----> 1\u001b[1;33m \u001b[0mnba_new\u001b[0m\u001b[1;33m[\u001b[0m\u001b[1;34m'pos'\u001b[0m\u001b[1;33m]\u001b[0m\u001b[1;33m.\u001b[0m\u001b[0mvalue_counts\u001b[0m\u001b[1;33m(\u001b[0m\u001b[1;33m)\u001b[0m\u001b[1;33m\u001b[0m\u001b[1;33m\u001b[0m\u001b[0m\n\u001b[0m",
      "\u001b[1;31mNameError\u001b[0m: name 'nba_new' is not defined"
     ]
    }
   ],
   "source": [
    "nba_new['pos'].value_counts()"
   ]
  },
  {
   "cell_type": "code",
   "execution_count": 15,
   "metadata": {},
   "outputs": [
    {
     "ename": "NameError",
     "evalue": "name 'nba_new' is not defined",
     "output_type": "error",
     "traceback": [
      "\u001b[1;31m---------------------------------------------------------------------------\u001b[0m",
      "\u001b[1;31mNameError\u001b[0m                                 Traceback (most recent call last)",
      "\u001b[1;32m<ipython-input-15-a9233edfff03>\u001b[0m in \u001b[0;36m<module>\u001b[1;34m\u001b[0m\n\u001b[0;32m      1\u001b[0m \u001b[1;31m# One hot-encoding for imp categorical data\u001b[0m\u001b[1;33m\u001b[0m\u001b[1;33m\u001b[0m\u001b[1;33m\u001b[0m\u001b[0m\n\u001b[1;32m----> 2\u001b[1;33m \u001b[0mpos\u001b[0m \u001b[1;33m=\u001b[0m \u001b[0mpd\u001b[0m\u001b[1;33m.\u001b[0m\u001b[0mget_dummies\u001b[0m\u001b[1;33m(\u001b[0m\u001b[0mnba_new\u001b[0m\u001b[1;33m[\u001b[0m\u001b[1;34m'pos'\u001b[0m\u001b[1;33m]\u001b[0m\u001b[1;33m,\u001b[0m\u001b[0mprefix\u001b[0m\u001b[1;33m=\u001b[0m\u001b[1;34m'pos'\u001b[0m\u001b[1;33m,\u001b[0m\u001b[0mdrop_first\u001b[0m\u001b[1;33m=\u001b[0m\u001b[1;32mTrue\u001b[0m\u001b[1;33m)\u001b[0m\u001b[1;33m\u001b[0m\u001b[1;33m\u001b[0m\u001b[0m\n\u001b[0m\u001b[0;32m      3\u001b[0m \u001b[0mpos\u001b[0m\u001b[1;33m.\u001b[0m\u001b[0mhead\u001b[0m\u001b[1;33m(\u001b[0m\u001b[1;33m)\u001b[0m\u001b[1;33m\u001b[0m\u001b[1;33m\u001b[0m\u001b[0m\n",
      "\u001b[1;31mNameError\u001b[0m: name 'nba_new' is not defined"
     ]
    }
   ],
   "source": [
    "# One hot-encoding for imp categorical data\n",
    "pos = pd.get_dummies(nba_new['pos'],prefix='pos',drop_first=True)\n",
    "pos.head()"
   ]
  },
  {
   "cell_type": "code",
   "execution_count": 16,
   "metadata": {},
   "outputs": [
    {
     "ename": "NameError",
     "evalue": "name 'nba_new' is not defined",
     "output_type": "error",
     "traceback": [
      "\u001b[1;31m---------------------------------------------------------------------------\u001b[0m",
      "\u001b[1;31mNameError\u001b[0m                                 Traceback (most recent call last)",
      "\u001b[1;32m<ipython-input-16-069ca55c3343>\u001b[0m in \u001b[0;36m<module>\u001b[1;34m\u001b[0m\n\u001b[0;32m      1\u001b[0m \u001b[1;31m# Drop pos column from data & add new encoded to the data\u001b[0m\u001b[1;33m\u001b[0m\u001b[1;33m\u001b[0m\u001b[1;33m\u001b[0m\u001b[0m\n\u001b[1;32m----> 2\u001b[1;33m \u001b[0mnba_new\u001b[0m\u001b[1;33m.\u001b[0m\u001b[0mdrop\u001b[0m\u001b[1;33m(\u001b[0m\u001b[1;34m'pos'\u001b[0m\u001b[1;33m,\u001b[0m\u001b[0maxis\u001b[0m\u001b[1;33m=\u001b[0m\u001b[1;36m1\u001b[0m\u001b[1;33m,\u001b[0m\u001b[0minplace\u001b[0m\u001b[1;33m=\u001b[0m\u001b[1;32mTrue\u001b[0m\u001b[1;33m)\u001b[0m\u001b[1;33m\u001b[0m\u001b[1;33m\u001b[0m\u001b[0m\n\u001b[0m\u001b[0;32m      3\u001b[0m \u001b[0mnba_new\u001b[0m \u001b[1;33m=\u001b[0m \u001b[0mpd\u001b[0m\u001b[1;33m.\u001b[0m\u001b[0mconcat\u001b[0m\u001b[1;33m(\u001b[0m\u001b[1;33m[\u001b[0m\u001b[0mnba_new\u001b[0m\u001b[1;33m,\u001b[0m \u001b[0mpos\u001b[0m\u001b[1;33m]\u001b[0m\u001b[1;33m,\u001b[0m \u001b[0maxis\u001b[0m\u001b[1;33m=\u001b[0m\u001b[1;36m1\u001b[0m\u001b[1;33m)\u001b[0m\u001b[1;33m\u001b[0m\u001b[1;33m\u001b[0m\u001b[0m\n",
      "\u001b[1;31mNameError\u001b[0m: name 'nba_new' is not defined"
     ]
    }
   ],
   "source": [
    "# Drop pos column from data & add new encoded to the data\n",
    "nba_new.drop('pos',axis=1,inplace=True)\n",
    "nba_new = pd.concat([nba_new, pos], axis=1)"
   ]
  },
  {
   "cell_type": "code",
   "execution_count": 17,
   "metadata": {},
   "outputs": [
    {
     "ename": "NameError",
     "evalue": "name 'nba' is not defined",
     "output_type": "error",
     "traceback": [
      "\u001b[1;31m---------------------------------------------------------------------------\u001b[0m",
      "\u001b[1;31mNameError\u001b[0m                                 Traceback (most recent call last)",
      "\u001b[1;32m<ipython-input-17-b09591d41410>\u001b[0m in \u001b[0;36m<module>\u001b[1;34m\u001b[0m\n\u001b[1;32m----> 1\u001b[1;33m \u001b[0mnba\u001b[0m\u001b[1;33m.\u001b[0m\u001b[0mshape\u001b[0m\u001b[1;33m,\u001b[0m \u001b[0mnba_new\u001b[0m\u001b[1;33m.\u001b[0m\u001b[0minfo\u001b[0m\u001b[1;33m(\u001b[0m\u001b[1;33m)\u001b[0m\u001b[1;33m\u001b[0m\u001b[1;33m\u001b[0m\u001b[0m\n\u001b[0m",
      "\u001b[1;31mNameError\u001b[0m: name 'nba' is not defined"
     ]
    }
   ],
   "source": [
    "nba.shape, nba_new.info()"
   ]
  },
  {
   "cell_type": "code",
   "execution_count": 18,
   "metadata": {},
   "outputs": [
    {
     "ename": "NameError",
     "evalue": "name 'nba_new' is not defined",
     "output_type": "error",
     "traceback": [
      "\u001b[1;31m---------------------------------------------------------------------------\u001b[0m",
      "\u001b[1;31mNameError\u001b[0m                                 Traceback (most recent call last)",
      "\u001b[1;32m<ipython-input-18-8f4ba5fbe56c>\u001b[0m in \u001b[0;36m<module>\u001b[1;34m\u001b[0m\n\u001b[1;32m----> 1\u001b[1;33m \u001b[0mnba_new\u001b[0m\u001b[1;33m.\u001b[0m\u001b[0misna\u001b[0m\u001b[1;33m(\u001b[0m\u001b[1;33m)\u001b[0m\u001b[1;33m.\u001b[0m\u001b[0msum\u001b[0m\u001b[1;33m(\u001b[0m\u001b[1;33m)\u001b[0m\u001b[1;33m\u001b[0m\u001b[1;33m\u001b[0m\u001b[0m\n\u001b[0m",
      "\u001b[1;31mNameError\u001b[0m: name 'nba_new' is not defined"
     ]
    }
   ],
   "source": [
    "nba_new.isna().sum()"
   ]
  },
  {
   "cell_type": "code",
   "execution_count": 19,
   "metadata": {},
   "outputs": [
    {
     "ename": "NameError",
     "evalue": "name 'nba_new' is not defined",
     "output_type": "error",
     "traceback": [
      "\u001b[1;31m---------------------------------------------------------------------------\u001b[0m",
      "\u001b[1;31mNameError\u001b[0m                                 Traceback (most recent call last)",
      "\u001b[1;32m<ipython-input-19-a0bb5e21ba3f>\u001b[0m in \u001b[0;36m<module>\u001b[1;34m\u001b[0m\n\u001b[0;32m      1\u001b[0m \u001b[1;31m#Fill na values with median from values\u001b[0m\u001b[1;33m\u001b[0m\u001b[1;33m\u001b[0m\u001b[1;33m\u001b[0m\u001b[0m\n\u001b[1;32m----> 2\u001b[1;33m \u001b[0mnba_new\u001b[0m\u001b[1;33m.\u001b[0m\u001b[0mfillna\u001b[0m\u001b[1;33m(\u001b[0m\u001b[1;36m0\u001b[0m\u001b[1;33m,\u001b[0m\u001b[0minplace\u001b[0m\u001b[1;33m=\u001b[0m\u001b[1;32mTrue\u001b[0m\u001b[1;33m)\u001b[0m\u001b[1;33m\u001b[0m\u001b[1;33m\u001b[0m\u001b[0m\n\u001b[0m",
      "\u001b[1;31mNameError\u001b[0m: name 'nba_new' is not defined"
     ]
    }
   ],
   "source": [
    "#Fill na values with median from values\n",
    "nba_new.fillna(0,inplace=True)"
   ]
  },
  {
   "cell_type": "code",
   "execution_count": 20,
   "metadata": {},
   "outputs": [
    {
     "ename": "NameError",
     "evalue": "name 'nba_new' is not defined",
     "output_type": "error",
     "traceback": [
      "\u001b[1;31m---------------------------------------------------------------------------\u001b[0m",
      "\u001b[1;31mNameError\u001b[0m                                 Traceback (most recent call last)",
      "\u001b[1;32m<ipython-input-20-9436e5884887>\u001b[0m in \u001b[0;36m<module>\u001b[1;34m\u001b[0m\n\u001b[0;32m      1\u001b[0m \u001b[1;31m#Fill na values with median from values\u001b[0m\u001b[1;33m\u001b[0m\u001b[1;33m\u001b[0m\u001b[1;33m\u001b[0m\u001b[0m\n\u001b[1;32m----> 2\u001b[1;33m \u001b[0mnba_new\u001b[0m\u001b[1;33m[\u001b[0m\u001b[1;34m'fg.'\u001b[0m\u001b[1;33m]\u001b[0m\u001b[1;33m.\u001b[0m\u001b[0mfillna\u001b[0m\u001b[1;33m(\u001b[0m\u001b[0mnba_new\u001b[0m\u001b[1;33m[\u001b[0m\u001b[1;34m'fg.'\u001b[0m\u001b[1;33m]\u001b[0m\u001b[1;33m.\u001b[0m\u001b[0mmedian\u001b[0m\u001b[1;33m(\u001b[0m\u001b[1;33m)\u001b[0m\u001b[1;33m,\u001b[0m\u001b[0minplace\u001b[0m\u001b[1;33m=\u001b[0m\u001b[1;32mTrue\u001b[0m\u001b[1;33m)\u001b[0m\u001b[1;33m\u001b[0m\u001b[1;33m\u001b[0m\u001b[0m\n\u001b[0m\u001b[0;32m      3\u001b[0m \u001b[0mnba_new\u001b[0m\u001b[1;33m[\u001b[0m\u001b[1;34m'x3p.'\u001b[0m\u001b[1;33m]\u001b[0m\u001b[1;33m.\u001b[0m\u001b[0mfillna\u001b[0m\u001b[1;33m(\u001b[0m\u001b[0mnba_new\u001b[0m\u001b[1;33m[\u001b[0m\u001b[1;34m'x3p.'\u001b[0m\u001b[1;33m]\u001b[0m\u001b[1;33m.\u001b[0m\u001b[0mmedian\u001b[0m\u001b[1;33m(\u001b[0m\u001b[1;33m)\u001b[0m\u001b[1;33m,\u001b[0m\u001b[0minplace\u001b[0m\u001b[1;33m=\u001b[0m\u001b[1;32mTrue\u001b[0m\u001b[1;33m)\u001b[0m\u001b[1;33m\u001b[0m\u001b[1;33m\u001b[0m\u001b[0m\n\u001b[0;32m      4\u001b[0m \u001b[0mnba_new\u001b[0m\u001b[1;33m[\u001b[0m\u001b[1;34m'x2p.'\u001b[0m\u001b[1;33m]\u001b[0m\u001b[1;33m.\u001b[0m\u001b[0mfillna\u001b[0m\u001b[1;33m(\u001b[0m\u001b[0mnba_new\u001b[0m\u001b[1;33m[\u001b[0m\u001b[1;34m'x2p.'\u001b[0m\u001b[1;33m]\u001b[0m\u001b[1;33m.\u001b[0m\u001b[0mmedian\u001b[0m\u001b[1;33m(\u001b[0m\u001b[1;33m)\u001b[0m\u001b[1;33m,\u001b[0m\u001b[0minplace\u001b[0m\u001b[1;33m=\u001b[0m\u001b[1;32mTrue\u001b[0m\u001b[1;33m)\u001b[0m\u001b[1;33m\u001b[0m\u001b[1;33m\u001b[0m\u001b[0m\n\u001b[0;32m      5\u001b[0m \u001b[0mnba_new\u001b[0m\u001b[1;33m[\u001b[0m\u001b[1;34m'efg.'\u001b[0m\u001b[1;33m]\u001b[0m\u001b[1;33m.\u001b[0m\u001b[0mfillna\u001b[0m\u001b[1;33m(\u001b[0m\u001b[0mnba_new\u001b[0m\u001b[1;33m[\u001b[0m\u001b[1;34m'efg.'\u001b[0m\u001b[1;33m]\u001b[0m\u001b[1;33m.\u001b[0m\u001b[0mmedian\u001b[0m\u001b[1;33m(\u001b[0m\u001b[1;33m)\u001b[0m\u001b[1;33m,\u001b[0m\u001b[0minplace\u001b[0m\u001b[1;33m=\u001b[0m\u001b[1;32mTrue\u001b[0m\u001b[1;33m)\u001b[0m\u001b[1;33m\u001b[0m\u001b[1;33m\u001b[0m\u001b[0m\n",
      "\u001b[1;31mNameError\u001b[0m: name 'nba_new' is not defined"
     ]
    }
   ],
   "source": [
    "#Fill na values with median from values\n",
    "nba_new['fg.'].fillna(nba_new['fg.'].median(),inplace=True)\n",
    "nba_new['x3p.'].fillna(nba_new['x3p.'].median(),inplace=True)\n",
    "nba_new['x2p.'].fillna(nba_new['x2p.'].median(),inplace=True)\n",
    "nba_new['efg.'].fillna(nba_new['efg.'].median(),inplace=True)\n",
    "nba_new['ft.'].fillna(nba_new['ft.'].median(),inplace=True)"
   ]
  },
  {
   "cell_type": "code",
   "execution_count": 21,
   "metadata": {},
   "outputs": [
    {
     "ename": "NameError",
     "evalue": "name 'nba_new' is not defined",
     "output_type": "error",
     "traceback": [
      "\u001b[1;31m---------------------------------------------------------------------------\u001b[0m",
      "\u001b[1;31mNameError\u001b[0m                                 Traceback (most recent call last)",
      "\u001b[1;32m<ipython-input-21-8f4ba5fbe56c>\u001b[0m in \u001b[0;36m<module>\u001b[1;34m\u001b[0m\n\u001b[1;32m----> 1\u001b[1;33m \u001b[0mnba_new\u001b[0m\u001b[1;33m.\u001b[0m\u001b[0misna\u001b[0m\u001b[1;33m(\u001b[0m\u001b[1;33m)\u001b[0m\u001b[1;33m.\u001b[0m\u001b[0msum\u001b[0m\u001b[1;33m(\u001b[0m\u001b[1;33m)\u001b[0m\u001b[1;33m\u001b[0m\u001b[1;33m\u001b[0m\u001b[0m\n\u001b[0m",
      "\u001b[1;31mNameError\u001b[0m: name 'nba_new' is not defined"
     ]
    }
   ],
   "source": [
    "nba_new.isna().sum()"
   ]
  },
  {
   "cell_type": "code",
   "execution_count": 22,
   "metadata": {},
   "outputs": [
    {
     "ename": "NameError",
     "evalue": "name 'nba_new' is not defined",
     "output_type": "error",
     "traceback": [
      "\u001b[1;31m---------------------------------------------------------------------------\u001b[0m",
      "\u001b[1;31mNameError\u001b[0m                                 Traceback (most recent call last)",
      "\u001b[1;32m<ipython-input-22-909af133fd76>\u001b[0m in \u001b[0;36m<module>\u001b[1;34m\u001b[0m\n\u001b[1;32m----> 1\u001b[1;33m \u001b[0mnba_new\u001b[0m\u001b[1;33m.\u001b[0m\u001b[0mshape\u001b[0m\u001b[1;33m\u001b[0m\u001b[1;33m\u001b[0m\u001b[0m\n\u001b[0m",
      "\u001b[1;31mNameError\u001b[0m: name 'nba_new' is not defined"
     ]
    }
   ],
   "source": [
    "nba_new.shape"
   ]
  },
  {
   "cell_type": "code",
   "execution_count": 23,
   "metadata": {},
   "outputs": [
    {
     "ename": "NameError",
     "evalue": "name 'nba_new' is not defined",
     "output_type": "error",
     "traceback": [
      "\u001b[1;31m---------------------------------------------------------------------------\u001b[0m",
      "\u001b[1;31mNameError\u001b[0m                                 Traceback (most recent call last)",
      "\u001b[1;32m<ipython-input-23-1c65e00531cb>\u001b[0m in \u001b[0;36m<module>\u001b[1;34m\u001b[0m\n\u001b[1;32m----> 1\u001b[1;33m \u001b[0mnba_new\u001b[0m\u001b[1;33m.\u001b[0m\u001b[0mhist\u001b[0m\u001b[1;33m(\u001b[0m\u001b[0mfigsize\u001b[0m\u001b[1;33m=\u001b[0m\u001b[1;33m(\u001b[0m\u001b[1;36m16\u001b[0m\u001b[1;33m,\u001b[0m\u001b[1;36m14\u001b[0m\u001b[1;33m)\u001b[0m\u001b[1;33m)\u001b[0m\u001b[1;33m\u001b[0m\u001b[1;33m\u001b[0m\u001b[0m\n\u001b[0m",
      "\u001b[1;31mNameError\u001b[0m: name 'nba_new' is not defined"
     ]
    }
   ],
   "source": [
    "nba_new.hist(figsize=(16,14))"
   ]
  },
  {
   "cell_type": "code",
   "execution_count": 24,
   "metadata": {},
   "outputs": [
    {
     "ename": "NameError",
     "evalue": "name 'nba_new' is not defined",
     "output_type": "error",
     "traceback": [
      "\u001b[1;31m---------------------------------------------------------------------------\u001b[0m",
      "\u001b[1;31mNameError\u001b[0m                                 Traceback (most recent call last)",
      "\u001b[1;32m<ipython-input-24-b9e21ef00b0a>\u001b[0m in \u001b[0;36m<module>\u001b[1;34m\u001b[0m\n\u001b[0;32m      1\u001b[0m \u001b[1;31m# Assign Y\u001b[0m\u001b[1;33m\u001b[0m\u001b[1;33m\u001b[0m\u001b[1;33m\u001b[0m\u001b[0m\n\u001b[1;32m----> 2\u001b[1;33m \u001b[0my\u001b[0m \u001b[1;33m=\u001b[0m \u001b[0mnba_new\u001b[0m\u001b[1;33m[\u001b[0m\u001b[1;34m'pts'\u001b[0m\u001b[1;33m]\u001b[0m\u001b[1;33m\u001b[0m\u001b[1;33m\u001b[0m\u001b[0m\n\u001b[0m\u001b[0;32m      3\u001b[0m \u001b[0my\u001b[0m \u001b[1;33m=\u001b[0m \u001b[0my\u001b[0m\u001b[1;33m.\u001b[0m\u001b[0mravel\u001b[0m\u001b[1;33m(\u001b[0m\u001b[1;33m)\u001b[0m\u001b[1;33m\u001b[0m\u001b[1;33m\u001b[0m\u001b[0m\n",
      "\u001b[1;31mNameError\u001b[0m: name 'nba_new' is not defined"
     ]
    }
   ],
   "source": [
    "# Assign Y\n",
    "y = nba_new['pts']\n",
    "y = y.ravel()"
   ]
  },
  {
   "cell_type": "code",
   "execution_count": 25,
   "metadata": {},
   "outputs": [
    {
     "ename": "NameError",
     "evalue": "name 'nba_new' is not defined",
     "output_type": "error",
     "traceback": [
      "\u001b[1;31m---------------------------------------------------------------------------\u001b[0m",
      "\u001b[1;31mNameError\u001b[0m                                 Traceback (most recent call last)",
      "\u001b[1;32m<ipython-input-25-8afab0ba63e2>\u001b[0m in \u001b[0;36m<module>\u001b[1;34m\u001b[0m\n\u001b[0;32m      1\u001b[0m \u001b[1;31m#Assign X\u001b[0m\u001b[1;33m\u001b[0m\u001b[1;33m\u001b[0m\u001b[1;33m\u001b[0m\u001b[0m\n\u001b[1;32m----> 2\u001b[1;33m \u001b[0mx\u001b[0m \u001b[1;33m=\u001b[0m \u001b[0mnba_new\u001b[0m\u001b[1;33m.\u001b[0m\u001b[0mdrop\u001b[0m\u001b[1;33m(\u001b[0m\u001b[1;33m[\u001b[0m\u001b[1;34m'pts'\u001b[0m\u001b[1;33m]\u001b[0m\u001b[1;33m,\u001b[0m \u001b[0maxis\u001b[0m\u001b[1;33m=\u001b[0m\u001b[1;36m1\u001b[0m\u001b[1;33m)\u001b[0m\u001b[1;33m\u001b[0m\u001b[1;33m\u001b[0m\u001b[0m\n\u001b[0m\u001b[0;32m      3\u001b[0m \u001b[0mx\u001b[0m\u001b[1;33m.\u001b[0m\u001b[0mhead\u001b[0m\u001b[1;33m(\u001b[0m\u001b[1;33m)\u001b[0m\u001b[1;33m\u001b[0m\u001b[1;33m\u001b[0m\u001b[0m\n",
      "\u001b[1;31mNameError\u001b[0m: name 'nba_new' is not defined"
     ]
    }
   ],
   "source": [
    "#Assign X\n",
    "x = nba_new.drop(['pts'], axis=1)\n",
    "x.head()"
   ]
  },
  {
   "cell_type": "code",
   "execution_count": 26,
   "metadata": {},
   "outputs": [
    {
     "ename": "NameError",
     "evalue": "name 'train_test_split' is not defined",
     "output_type": "error",
     "traceback": [
      "\u001b[1;31m---------------------------------------------------------------------------\u001b[0m",
      "\u001b[1;31mNameError\u001b[0m                                 Traceback (most recent call last)",
      "\u001b[1;32m<ipython-input-26-67b6c48c65b6>\u001b[0m in \u001b[0;36m<module>\u001b[1;34m\u001b[0m\n\u001b[0;32m      1\u001b[0m \u001b[1;31m# Train test split\u001b[0m\u001b[1;33m\u001b[0m\u001b[1;33m\u001b[0m\u001b[1;33m\u001b[0m\u001b[0m\n\u001b[1;32m----> 2\u001b[1;33m X_train, X_test, y_train, y_test = train_test_split(\n\u001b[0m\u001b[0;32m      3\u001b[0m  x, y, train_size=0.7, test_size=0.3,random_state =100) #train_size=0.8, test_size=0.2,\n",
      "\u001b[1;31mNameError\u001b[0m: name 'train_test_split' is not defined"
     ]
    }
   ],
   "source": [
    "# Train test split\n",
    "X_train, X_test, y_train, y_test = train_test_split(\n",
    " x, y, train_size=0.7, test_size=0.3,random_state =100) #train_size=0.8, test_size=0.2,"
   ]
  },
  {
   "cell_type": "code",
   "execution_count": 27,
   "metadata": {},
   "outputs": [
    {
     "ename": "NameError",
     "evalue": "name 'X_train' is not defined",
     "output_type": "error",
     "traceback": [
      "\u001b[1;31m---------------------------------------------------------------------------\u001b[0m",
      "\u001b[1;31mNameError\u001b[0m                                 Traceback (most recent call last)",
      "\u001b[1;32m<ipython-input-27-22b1488cbcb7>\u001b[0m in \u001b[0;36m<module>\u001b[1;34m\u001b[0m\n\u001b[0;32m      1\u001b[0m \u001b[1;32mfrom\u001b[0m \u001b[0msklearn\u001b[0m\u001b[1;33m.\u001b[0m\u001b[0mpreprocessing\u001b[0m \u001b[1;32mimport\u001b[0m \u001b[0mStandardScaler\u001b[0m\u001b[1;33m\u001b[0m\u001b[1;33m\u001b[0m\u001b[0m\n\u001b[0;32m      2\u001b[0m \u001b[0mscaler\u001b[0m \u001b[1;33m=\u001b[0m \u001b[0mStandardScaler\u001b[0m\u001b[1;33m(\u001b[0m\u001b[1;33m)\u001b[0m\u001b[1;33m\u001b[0m\u001b[1;33m\u001b[0m\u001b[0m\n\u001b[1;32m----> 3\u001b[1;33m \u001b[0mscaler\u001b[0m\u001b[1;33m.\u001b[0m\u001b[0mfit\u001b[0m\u001b[1;33m(\u001b[0m\u001b[0mX_train\u001b[0m\u001b[1;33m)\u001b[0m\u001b[1;33m\u001b[0m\u001b[1;33m\u001b[0m\u001b[0m\n\u001b[0m\u001b[0;32m      4\u001b[0m \u001b[1;33m\u001b[0m\u001b[0m\n\u001b[0;32m      5\u001b[0m \u001b[0mX_train\u001b[0m \u001b[1;33m=\u001b[0m \u001b[0mscaler\u001b[0m\u001b[1;33m.\u001b[0m\u001b[0mtransform\u001b[0m\u001b[1;33m(\u001b[0m\u001b[0mX_train\u001b[0m\u001b[1;33m)\u001b[0m\u001b[1;33m\u001b[0m\u001b[1;33m\u001b[0m\u001b[0m\n",
      "\u001b[1;31mNameError\u001b[0m: name 'X_train' is not defined"
     ]
    }
   ],
   "source": [
    "from sklearn.preprocessing import StandardScaler\n",
    "scaler = StandardScaler()\n",
    "scaler.fit(X_train)\n",
    "\n",
    "X_train = scaler.transform(X_train)\n",
    "X_test = scaler.transform(X_test)"
   ]
  },
  {
   "cell_type": "code",
   "execution_count": 28,
   "metadata": {},
   "outputs": [
    {
     "ename": "NameError",
     "evalue": "name 'KNeighborsRegressor' is not defined",
     "output_type": "error",
     "traceback": [
      "\u001b[1;31m---------------------------------------------------------------------------\u001b[0m",
      "\u001b[1;31mNameError\u001b[0m                                 Traceback (most recent call last)",
      "\u001b[1;32m<ipython-input-28-27542601ef92>\u001b[0m in \u001b[0;36m<module>\u001b[1;34m\u001b[0m\n\u001b[0;32m      1\u001b[0m \u001b[1;32mfor\u001b[0m \u001b[0mK\u001b[0m \u001b[1;32min\u001b[0m \u001b[0mrange\u001b[0m\u001b[1;33m(\u001b[0m\u001b[1;36m21\u001b[0m\u001b[1;33m)\u001b[0m\u001b[1;33m:\u001b[0m\u001b[1;33m\u001b[0m\u001b[1;33m\u001b[0m\u001b[0m\n\u001b[0;32m      2\u001b[0m     \u001b[0mK_value\u001b[0m \u001b[1;33m=\u001b[0m \u001b[0mK\u001b[0m\u001b[1;33m+\u001b[0m\u001b[1;36m1\u001b[0m\u001b[1;33m\u001b[0m\u001b[1;33m\u001b[0m\u001b[0m\n\u001b[1;32m----> 3\u001b[1;33m     \u001b[0mknn\u001b[0m \u001b[1;33m=\u001b[0m \u001b[0mKNeighborsRegressor\u001b[0m\u001b[1;33m(\u001b[0m\u001b[0mn_neighbors\u001b[0m\u001b[1;33m=\u001b[0m\u001b[0mK_value\u001b[0m\u001b[1;33m)\u001b[0m\u001b[1;33m\u001b[0m\u001b[1;33m\u001b[0m\u001b[0m\n\u001b[0m\u001b[0;32m      4\u001b[0m     \u001b[0mknn\u001b[0m\u001b[1;33m.\u001b[0m\u001b[0mfit\u001b[0m\u001b[1;33m(\u001b[0m\u001b[0mX_train\u001b[0m\u001b[1;33m,\u001b[0m \u001b[0my_train\u001b[0m\u001b[1;33m)\u001b[0m\u001b[1;33m\u001b[0m\u001b[1;33m\u001b[0m\u001b[0m\n\u001b[0;32m      5\u001b[0m     \u001b[0mpred\u001b[0m \u001b[1;33m=\u001b[0m \u001b[0mknn\u001b[0m\u001b[1;33m.\u001b[0m\u001b[0mpredict\u001b[0m\u001b[1;33m(\u001b[0m\u001b[0mX_test\u001b[0m\u001b[1;33m)\u001b[0m\u001b[1;33m\u001b[0m\u001b[1;33m\u001b[0m\u001b[0m\n",
      "\u001b[1;31mNameError\u001b[0m: name 'KNeighborsRegressor' is not defined"
     ]
    }
   ],
   "source": [
    "for K in range(21):\n",
    "    K_value = K+1\n",
    "    knn = KNeighborsRegressor(n_neighbors=K_value)\n",
    "    knn.fit(X_train, y_train)\n",
    "    pred = knn.predict(X_test)\n",
    "    print(\"Score is \", knn.score(X_test, y_test),\"for K-Value:\",K_value)#np.sqrt\n",
    "#    print(knn.score(X_test, y_test))"
   ]
  },
  {
   "cell_type": "code",
   "execution_count": 29,
   "metadata": {},
   "outputs": [],
   "source": [
    "import matplotlib.pyplot as plt\n",
    "%matplotlib inline"
   ]
  },
  {
   "cell_type": "code",
   "execution_count": 30,
   "metadata": {},
   "outputs": [
    {
     "ename": "NameError",
     "evalue": "name 'y_test' is not defined",
     "output_type": "error",
     "traceback": [
      "\u001b[1;31m---------------------------------------------------------------------------\u001b[0m",
      "\u001b[1;31mNameError\u001b[0m                                 Traceback (most recent call last)",
      "\u001b[1;32m<ipython-input-30-b64c7d2ebb3c>\u001b[0m in \u001b[0;36m<module>\u001b[1;34m\u001b[0m\n\u001b[1;32m----> 1\u001b[1;33m \u001b[0mplt\u001b[0m\u001b[1;33m.\u001b[0m\u001b[0mscatter\u001b[0m\u001b[1;33m(\u001b[0m\u001b[0my_test\u001b[0m\u001b[1;33m,\u001b[0m\u001b[0mpred\u001b[0m\u001b[1;33m)\u001b[0m\u001b[1;33m\u001b[0m\u001b[1;33m\u001b[0m\u001b[0m\n\u001b[0m\u001b[0;32m      2\u001b[0m \u001b[0mplt\u001b[0m\u001b[1;33m.\u001b[0m\u001b[0mshow\u001b[0m\u001b[1;33m(\u001b[0m\u001b[1;33m)\u001b[0m\u001b[1;33m\u001b[0m\u001b[1;33m\u001b[0m\u001b[0m\n",
      "\u001b[1;31mNameError\u001b[0m: name 'y_test' is not defined"
     ]
    }
   ],
   "source": [
    "plt.scatter(y_test,pred)\n",
    "plt.show()\n"
   ]
  },
  {
   "cell_type": "code",
   "execution_count": 31,
   "metadata": {},
   "outputs": [
    {
     "ename": "NameError",
     "evalue": "name 'KNeighborsRegressor' is not defined",
     "output_type": "error",
     "traceback": [
      "\u001b[1;31m---------------------------------------------------------------------------\u001b[0m",
      "\u001b[1;31mNameError\u001b[0m                                 Traceback (most recent call last)",
      "\u001b[1;32m<ipython-input-31-bd8c8882a419>\u001b[0m in \u001b[0;36m<module>\u001b[1;34m\u001b[0m\n\u001b[0;32m      1\u001b[0m \u001b[1;32mfrom\u001b[0m \u001b[0msklearn\u001b[0m\u001b[1;33m.\u001b[0m\u001b[0mmodel_selection\u001b[0m \u001b[1;32mimport\u001b[0m \u001b[0mGridSearchCV\u001b[0m\u001b[1;33m\u001b[0m\u001b[1;33m\u001b[0m\u001b[0m\n\u001b[0;32m      2\u001b[0m \u001b[1;31m#create new a knn model\u001b[0m\u001b[1;33m\u001b[0m\u001b[1;33m\u001b[0m\u001b[1;33m\u001b[0m\u001b[0m\n\u001b[1;32m----> 3\u001b[1;33m \u001b[0mknn2\u001b[0m \u001b[1;33m=\u001b[0m \u001b[0mKNeighborsRegressor\u001b[0m\u001b[1;33m(\u001b[0m\u001b[1;33m)\u001b[0m\u001b[1;33m\u001b[0m\u001b[1;33m\u001b[0m\u001b[0m\n\u001b[0m\u001b[0;32m      4\u001b[0m \u001b[1;31m#create a dictionary of all values we want to test for n_neighbors\u001b[0m\u001b[1;33m\u001b[0m\u001b[1;33m\u001b[0m\u001b[1;33m\u001b[0m\u001b[0m\n\u001b[0;32m      5\u001b[0m \u001b[0mparam_grid\u001b[0m \u001b[1;33m=\u001b[0m \u001b[1;33m{\u001b[0m\u001b[1;34m'n_neighbors'\u001b[0m\u001b[1;33m:\u001b[0m \u001b[0mnp\u001b[0m\u001b[1;33m.\u001b[0m\u001b[0marange\u001b[0m\u001b[1;33m(\u001b[0m\u001b[1;36m1\u001b[0m\u001b[1;33m,\u001b[0m \u001b[1;36m25\u001b[0m\u001b[1;33m)\u001b[0m\u001b[1;33m}\u001b[0m\u001b[1;33m\u001b[0m\u001b[1;33m\u001b[0m\u001b[0m\n",
      "\u001b[1;31mNameError\u001b[0m: name 'KNeighborsRegressor' is not defined"
     ]
    }
   ],
   "source": [
    "from sklearn.model_selection import GridSearchCV\n",
    "#create new a knn model\n",
    "knn2 = KNeighborsRegressor()\n",
    "#create a dictionary of all values we want to test for n_neighbors\n",
    "param_grid = {'n_neighbors': np.arange(1, 25)}\n",
    "#use gridsearch to test all values for n_neighbors\n",
    "knn_gscv = GridSearchCV(knn2, param_grid, cv=8)\n",
    "#fit model to data\n",
    "knn_gscv.fit(x, y)"
   ]
  },
  {
   "cell_type": "code",
   "execution_count": 32,
   "metadata": {},
   "outputs": [
    {
     "ename": "NameError",
     "evalue": "name 'knn_gscv' is not defined",
     "output_type": "error",
     "traceback": [
      "\u001b[1;31m---------------------------------------------------------------------------\u001b[0m",
      "\u001b[1;31mNameError\u001b[0m                                 Traceback (most recent call last)",
      "\u001b[1;32m<ipython-input-32-cabf55c50611>\u001b[0m in \u001b[0;36m<module>\u001b[1;34m\u001b[0m\n\u001b[0;32m      1\u001b[0m \u001b[1;31m#check top performing n_neighbors value\u001b[0m\u001b[1;33m\u001b[0m\u001b[1;33m\u001b[0m\u001b[1;33m\u001b[0m\u001b[0m\n\u001b[1;32m----> 2\u001b[1;33m \u001b[0mknn_gscv\u001b[0m\u001b[1;33m.\u001b[0m\u001b[0mbest_params_\u001b[0m\u001b[1;33m\u001b[0m\u001b[1;33m\u001b[0m\u001b[0m\n\u001b[0m",
      "\u001b[1;31mNameError\u001b[0m: name 'knn_gscv' is not defined"
     ]
    }
   ],
   "source": [
    "#check top performing n_neighbors value\n",
    "knn_gscv.best_params_"
   ]
  },
  {
   "cell_type": "code",
   "execution_count": 33,
   "metadata": {},
   "outputs": [
    {
     "ename": "NameError",
     "evalue": "name 'knn_gscv' is not defined",
     "output_type": "error",
     "traceback": [
      "\u001b[1;31m---------------------------------------------------------------------------\u001b[0m",
      "\u001b[1;31mNameError\u001b[0m                                 Traceback (most recent call last)",
      "\u001b[1;32m<ipython-input-33-06b59ac281fa>\u001b[0m in \u001b[0;36m<module>\u001b[1;34m\u001b[0m\n\u001b[0;32m      1\u001b[0m \u001b[1;31m#check mean score for the top performing value of n_neighbors\u001b[0m\u001b[1;33m\u001b[0m\u001b[1;33m\u001b[0m\u001b[1;33m\u001b[0m\u001b[0m\n\u001b[1;32m----> 2\u001b[1;33m \u001b[0mknn_gscv\u001b[0m\u001b[1;33m.\u001b[0m\u001b[0mbest_score_\u001b[0m\u001b[1;33m\u001b[0m\u001b[1;33m\u001b[0m\u001b[0m\n\u001b[0m",
      "\u001b[1;31mNameError\u001b[0m: name 'knn_gscv' is not defined"
     ]
    }
   ],
   "source": [
    "#check mean score for the top performing value of n_neighbors\n",
    "knn_gscv.best_score_"
   ]
  },
  {
   "cell_type": "markdown",
   "metadata": {},
   "source": [
    "# 2.2. Problem Statement: Machine Learning 8-Text Analysis"
   ]
  },
  {
   "cell_type": "markdown",
   "metadata": {},
   "source": [
    "In this assignment students have to find the frequency of words in a webpage. User can use urllib and BeautifulSoup to extract text from webpage.\n",
    "\n",
    "Hint:\n",
    "\n",
    "from bs4 import BeautifulSoup\n",
    "\n",
    "import urllib.request\n",
    "\n",
    "import nltk\n",
    "\n",
    "response = urllib.request.urlopen('http://php.net/')\n",
    "\n",
    "html = response.read()\n",
    "\n",
    "soup = BeautifulSoup(html,\"html5lib\")"
   ]
  },
  {
   "cell_type": "code",
   "execution_count": 34,
   "metadata": {},
   "outputs": [],
   "source": [
    "from bs4 import BeautifulSoup\n",
    "import urllib.request\n",
    "import nltk\n",
    "response = urllib.request.urlopen('http://php.net/')"
   ]
  },
  {
   "cell_type": "code",
   "execution_count": 35,
   "metadata": {},
   "outputs": [],
   "source": [
    "%matplotlib inline"
   ]
  },
  {
   "cell_type": "code",
   "execution_count": 36,
   "metadata": {},
   "outputs": [],
   "source": [
    "html = response.read()\n",
    "soup = BeautifulSoup(html,\"html5lib\")"
   ]
  },
  {
   "cell_type": "code",
   "execution_count": 37,
   "metadata": {},
   "outputs": [
    {
     "name": "stdout",
     "output_type": "stream",
     "text": [
      "<!DOCTYPE html>\n",
      "<html lang=\"en\" xmlns=\"http://www.w3.org/1999/xhtml\"><head>\n",
      "\n",
      "  <meta charset=\"utf-8\"/>\n",
      "  <meta content=\"width=device-width, initial-scale=1.0\" name=\"viewport\"/>\n",
      "\n",
      "  <title>PHP: Hypertext Preprocessor</title>\n",
      "\n",
      " <link href=\"https://www.php.net/favicon.ico\" rel=\"shortcut icon\"/>\n",
      " <link href=\"http://php.net/phpnetimprovedsearch.src\" rel=\"search\" title=\"Add PHP.net search\" type=\"application/opensearchdescription+xml\"/>\n",
      " <link href=\"https://www.php.net/releases/feed.php\" rel=\"alternate\" title=\"PHP Release feed\" type=\"application/atom+xml\"/>\n",
      " <link href=\"https://www.php.net/feed.atom\" rel=\"alternate\" title=\"PHP: Hypertext Preprocessor\" type=\"application/atom+xml\"/>\n",
      "\n",
      " <link href=\"https://www.php.net/index.php\" rel=\"canonical\"/>\n",
      " <link href=\"https://www.php.net/index\" rel=\"shorturl\"/>\n",
      " <link href=\"https://www.php.net/index\" hreflang=\"x-default\" rel=\"alternate\"/>\n",
      "\n",
      "\n",
      "\n",
      "<link href=\"/cached.php?t=1539771603&amp;f=/fonts/Fira/fira.css\" media=\"screen\" rel=\"stylesheet\" type=\"text/css\"/>\n",
      "<link href=\"/cached.php?t=1539765004&amp;f=/fonts/Font-Awesome/css/fontello.css\" media=\"screen\" rel=\"stylesheet\" type=\"text/css\"/>\n",
      "<link href=\"/cached.php?t=1540425603&amp;f=/styles/theme-base.css\" media=\"screen\" rel=\"stylesheet\" type=\"text/css\"/>\n",
      "<link href=\"/cached.php?t=1540425603&amp;f=/styles/theme-medium.css\" media=\"screen\" rel=\"stylesheet\" type=\"text/css\"/>\n",
      "<link href=\"/cached.php?t=1429259403&amp;f=/styles/home.css\" media=\"screen\" rel=\"stylesheet\" type=\"text/css\"/>\n",
      "\n",
      " <!--[if lte IE 7]>\n",
      " <link rel=\"stylesheet\" type=\"text/css\" href=\"https://www.php.net/styles/workarounds.ie7.css\" media=\"screen\">\n",
      " <![endif]-->\n",
      "\n",
      " <!--[if lte IE 8]>\n",
      " <script>\n",
      "  window.brokenIE = true;\n",
      " </script>\n",
      " <![endif]-->\n",
      "\n",
      " <!--[if lte IE 9]>\n",
      " <link rel=\"stylesheet\" type=\"text/css\" href=\"https://www.php.net/styles/workarounds.ie9.css\" media=\"screen\">\n",
      " <![endif]-->\n",
      "\n",
      " <!--[if IE]>\n",
      " <script src=\"https://www.php.net/js/ext/html5.js\"></script>\n",
      " <![endif]-->\n",
      "\n",
      " <base href=\"https://www.php.net/index.php\"/>\n",
      "\n",
      "</head>\n",
      "<body class=\"home\">\n",
      "\n",
      "<nav class=\"navbar navbar-fixed-top\" id=\"head-nav\">\n",
      "  <div class=\"navbar-inner clearfix\">\n",
      "    <a class=\"brand\" href=\"/\"><img alt=\"php\" height=\"24\" src=\"/images/logos/php-logo.svg\" width=\"48\"/></a>\n",
      "    <div id=\"mainmenu-toggle-overlay\"></div>\n",
      "    <input id=\"mainmenu-toggle\" type=\"checkbox\"/>\n",
      "    <ul class=\"nav\">\n",
      "      <li class=\"\"><a href=\"/downloads\">Downloads</a></li>\n",
      "      <li class=\"\"><a href=\"/docs.php\">Documentation</a></li>\n",
      "      <li class=\"\"><a href=\"/get-involved\">Get Involved</a></li>\n",
      "      <li class=\"\"><a href=\"/support\">Help</a></li>\n",
      "    </ul>\n",
      "    <form action=\"/search.php\" class=\"navbar-search\" id=\"topsearch\">\n",
      "      <input name=\"show\" type=\"hidden\" value=\"quickref\"/>\n",
      "      <input accesskey=\"s\" class=\"search-query\" name=\"pattern\" placeholder=\"Search\" type=\"search\"/>\n",
      "    </form>\n",
      "  </div>\n",
      "  <div id=\"flash-message\"></div>\n",
      "</nav>\n",
      "<nav id=\"trick\"><div><dl>\n",
      "<dt><a href=\"/manual/en/getting-started.php\">Getting Started</a></dt>\n",
      "\t<dd><a href=\"/manual/en/introduction.php\">Introduction</a></dd>\n",
      "\t<dd><a href=\"/manual/en/tutorial.php\">A simple tutorial</a></dd>\n",
      "<dt><a href=\"/manual/en/langref.php\">Language Reference</a></dt>\n",
      "\t<dd><a href=\"/manual/en/language.basic-syntax.php\">Basic syntax</a></dd>\n",
      "\t<dd><a href=\"/manual/en/language.types.php\">Types</a></dd>\n",
      "\t<dd><a href=\"/manual/en/language.variables.php\">Variables</a></dd>\n",
      "\t<dd><a href=\"/manual/en/language.constants.php\">Constants</a></dd>\n",
      "\t<dd><a href=\"/manual/en/language.expressions.php\">Expressions</a></dd>\n",
      "\t<dd><a href=\"/manual/en/language.operators.php\">Operators</a></dd>\n",
      "\t<dd><a href=\"/manual/en/language.control-structures.php\">Control Structures</a></dd>\n",
      "\t<dd><a href=\"/manual/en/language.functions.php\">Functions</a></dd>\n",
      "\t<dd><a href=\"/manual/en/language.oop5.php\">Classes and Objects</a></dd>\n",
      "\t<dd><a href=\"/manual/en/language.namespaces.php\">Namespaces</a></dd>\n",
      "\t<dd><a href=\"/manual/en/language.errors.php\">Errors</a></dd>\n",
      "\t<dd><a href=\"/manual/en/language.exceptions.php\">Exceptions</a></dd>\n",
      "\t<dd><a href=\"/manual/en/language.generators.php\">Generators</a></dd>\n",
      "\t<dd><a href=\"/manual/en/language.references.php\">References Explained</a></dd>\n",
      "\t<dd><a href=\"/manual/en/reserved.variables.php\">Predefined Variables</a></dd>\n",
      "\t<dd><a href=\"/manual/en/reserved.exceptions.php\">Predefined Exceptions</a></dd>\n",
      "\t<dd><a href=\"/manual/en/reserved.interfaces.php\">Predefined Interfaces and Classes</a></dd>\n",
      "\t<dd><a href=\"/manual/en/context.php\">Context options and parameters</a></dd>\n",
      "\t<dd><a href=\"/manual/en/wrappers.php\">Supported Protocols and Wrappers</a></dd>\n",
      "</dl>\n",
      "<dl>\n",
      "<dt><a href=\"/manual/en/security.php\">Security</a></dt>\n",
      "\t<dd><a href=\"/manual/en/security.intro.php\">Introduction</a></dd>\n",
      "\t<dd><a href=\"/manual/en/security.general.php\">General considerations</a></dd>\n",
      "\t<dd><a href=\"/manual/en/security.cgi-bin.php\">Installed as CGI binary</a></dd>\n",
      "\t<dd><a href=\"/manual/en/security.apache.php\">Installed as an Apache module</a></dd>\n",
      "\t<dd><a href=\"/manual/en/security.sessions.php\">Session Security</a></dd>\n",
      "\t<dd><a href=\"/manual/en/security.filesystem.php\">Filesystem Security</a></dd>\n",
      "\t<dd><a href=\"/manual/en/security.database.php\">Database Security</a></dd>\n",
      "\t<dd><a href=\"/manual/en/security.errors.php\">Error Reporting</a></dd>\n",
      "\t<dd><a href=\"/manual/en/security.globals.php\">Using Register Globals</a></dd>\n",
      "\t<dd><a href=\"/manual/en/security.variables.php\">User Submitted Data</a></dd>\n",
      "\t<dd><a href=\"/manual/en/security.magicquotes.php\">Magic Quotes</a></dd>\n",
      "\t<dd><a href=\"/manual/en/security.hiding.php\">Hiding PHP</a></dd>\n",
      "\t<dd><a href=\"/manual/en/security.current.php\">Keeping Current</a></dd>\n",
      "<dt><a href=\"/manual/en/features.php\">Features</a></dt>\n",
      "\t<dd><a href=\"/manual/en/features.http-auth.php\">HTTP authentication with PHP</a></dd>\n",
      "\t<dd><a href=\"/manual/en/features.cookies.php\">Cookies</a></dd>\n",
      "\t<dd><a href=\"/manual/en/features.sessions.php\">Sessions</a></dd>\n",
      "\t<dd><a href=\"/manual/en/features.xforms.php\">Dealing with XForms</a></dd>\n",
      "\t<dd><a href=\"/manual/en/features.file-upload.php\">Handling file uploads</a></dd>\n",
      "\t<dd><a href=\"/manual/en/features.remote-files.php\">Using remote files</a></dd>\n",
      "\t<dd><a href=\"/manual/en/features.connection-handling.php\">Connection handling</a></dd>\n",
      "\t<dd><a href=\"/manual/en/features.persistent-connections.php\">Persistent Database Connections</a></dd>\n",
      "\t<dd><a href=\"/manual/en/features.safe-mode.php\">Safe Mode</a></dd>\n",
      "\t<dd><a href=\"/manual/en/features.commandline.php\">Command line usage</a></dd>\n",
      "\t<dd><a href=\"/manual/en/features.gc.php\">Garbage Collection</a></dd>\n",
      "\t<dd><a href=\"/manual/en/features.dtrace.php\">DTrace Dynamic Tracing</a></dd>\n",
      "</dl>\n",
      "<dl>\n",
      "<dt><a href=\"/manual/en/funcref.php\">Function Reference</a></dt>\n",
      "\t<dd><a href=\"/manual/en/refs.basic.php.php\">Affecting PHP's Behaviour</a></dd>\n",
      "\t<dd><a href=\"/manual/en/refs.utilspec.audio.php\">Audio Formats Manipulation</a></dd>\n",
      "\t<dd><a href=\"/manual/en/refs.remote.auth.php\">Authentication Services</a></dd>\n",
      "\t<dd><a href=\"/manual/en/refs.utilspec.cmdline.php\">Command Line Specific Extensions</a></dd>\n",
      "\t<dd><a href=\"/manual/en/refs.compression.php\">Compression and Archive Extensions</a></dd>\n",
      "\t<dd><a href=\"/manual/en/refs.creditcard.php\">Credit Card Processing</a></dd>\n",
      "\t<dd><a href=\"/manual/en/refs.crypto.php\">Cryptography Extensions</a></dd>\n",
      "\t<dd><a href=\"/manual/en/refs.database.php\">Database Extensions</a></dd>\n",
      "\t<dd><a href=\"/manual/en/refs.calendar.php\">Date and Time Related Extensions</a></dd>\n",
      "\t<dd><a href=\"/manual/en/refs.fileprocess.file.php\">File System Related Extensions</a></dd>\n",
      "\t<dd><a href=\"/manual/en/refs.international.php\">Human Language and Character Encoding Support</a></dd>\n",
      "\t<dd><a href=\"/manual/en/refs.utilspec.image.php\">Image Processing and Generation</a></dd>\n",
      "\t<dd><a href=\"/manual/en/refs.remote.mail.php\">Mail Related Extensions</a></dd>\n",
      "\t<dd><a href=\"/manual/en/refs.math.php\">Mathematical Extensions</a></dd>\n",
      "\t<dd><a href=\"/manual/en/refs.utilspec.nontext.php\">Non-Text MIME Output</a></dd>\n",
      "\t<dd><a href=\"/manual/en/refs.fileprocess.process.php\">Process Control Extensions</a></dd>\n",
      "\t<dd><a href=\"/manual/en/refs.basic.other.php\">Other Basic Extensions</a></dd>\n",
      "\t<dd><a href=\"/manual/en/refs.remote.other.php\">Other Services</a></dd>\n",
      "\t<dd><a href=\"/manual/en/refs.search.php\">Search Engine Extensions</a></dd>\n",
      "\t<dd><a href=\"/manual/en/refs.utilspec.server.php\">Server Specific Extensions</a></dd>\n",
      "\t<dd><a href=\"/manual/en/refs.basic.session.php\">Session Extensions</a></dd>\n",
      "\t<dd><a href=\"/manual/en/refs.basic.text.php\">Text Processing</a></dd>\n",
      "\t<dd><a href=\"/manual/en/refs.basic.vartype.php\">Variable and Type Related Extensions</a></dd>\n",
      "\t<dd><a href=\"/manual/en/refs.webservice.php\">Web Services</a></dd>\n",
      "\t<dd><a href=\"/manual/en/refs.utilspec.windows.php\">Windows Only Extensions</a></dd>\n",
      "\t<dd><a href=\"/manual/en/refs.xml.php\">XML Manipulation</a></dd>\n",
      "\t<dd><a href=\"/manual/en/refs.ui.php\">GUI Extensions</a></dd>\n",
      "</dl>\n",
      "<dl>\n",
      "<dt>Keyboard Shortcuts</dt><dt>?</dt>\n",
      "<dd>This help</dd>\n",
      "<dt>j</dt>\n",
      "<dd>Next menu item</dd>\n",
      "<dt>k</dt>\n",
      "<dd>Previous menu item</dd>\n",
      "<dt>g p</dt>\n",
      "<dd>Previous man page</dd>\n",
      "<dt>g n</dt>\n",
      "<dd>Next man page</dd>\n",
      "<dt>G</dt>\n",
      "<dd>Scroll to bottom</dd>\n",
      "<dt>g g</dt>\n",
      "<dd>Scroll to top</dd>\n",
      "<dt>g h</dt>\n",
      "<dd>Goto homepage</dd>\n",
      "<dt>g s</dt>\n",
      "<dd>Goto search<br/>(current page)</dd>\n",
      "<dt>/</dt>\n",
      "<dd>Focus search box</dd>\n",
      "</dl></div></nav>\n",
      "<div id=\"goto\">\n",
      "    <div class=\"search\">\n",
      "         <div class=\"text\"></div>\n",
      "         <div class=\"results\"><ul></ul></div>\n",
      "   </div>\n",
      "</div>\n",
      "\n",
      "\n",
      "\n",
      "<div class=\"clearfix\" id=\"intro\">\n",
      "  <div class=\"container\">\n",
      "      <div class=\"row clearfix\">\n",
      "    <div class=\"blurb\">\n",
      "      <p>PHP is a popular general-purpose scripting language that is especially suited to web development.</p>\n",
      "      <p>Fast, flexible and pragmatic, PHP powers everything from your blog to the most popular websites in the world.</p>\n",
      "    </div>\n",
      "    <div class=\"download\">\n",
      "      <h3>Download</h3><ul>\n",
      "\n",
      "            <li><a class=\"download-link\" href=\"/downloads.php#v7.4.3\">7.4.3</a><span class=\"dot\">·</span><a class=\"notes\" href=\"/ChangeLog-7.php#7.4.3\">Release Notes</a><span class=\"dot\">·</span><a class=\"notes\" href=\"/migration74\">Upgrading</a></li>\n",
      "\n",
      "            <li><a class=\"download-link\" href=\"/downloads.php#v7.3.15\">7.3.15</a><span class=\"dot\">·</span><a class=\"notes\" href=\"/ChangeLog-7.php#7.3.15\">Release Notes</a><span class=\"dot\">·</span><a class=\"notes\" href=\"/migration73\">Upgrading</a></li>\n",
      "\n",
      "            <li><a class=\"download-link\" href=\"/downloads.php#v7.2.28\">7.2.28</a><span class=\"dot\">·</span><a class=\"notes\" href=\"/ChangeLog-7.php#7.2.28\">Release Notes</a><span class=\"dot\">·</span><a class=\"notes\" href=\"/migration72\">Upgrading</a></li>\n",
      "</ul>\n",
      "    </div>\n",
      "  </div>  </div>\n",
      "</div>\n",
      "\n",
      "\n",
      "<div class=\"clearfix\" id=\"layout\">\n",
      "  <section id=\"layout-content\">\n",
      "<div class=\"home-content\"><article class=\"newsentry\">\n",
      "  <header class=\"title\">\n",
      "    <time datetime=\"2020-02-20T20:53:17+09:00\">20 Feb 2020</time>\n",
      "    <h2 class=\"newstitle\">\n",
      "      <a href=\"https://www.php.net/archive/2020.php#2020-02-20-3\" id=\"2020-02-20-3\">PHP 7.4.3 released</a>\n",
      "    </h2>\n",
      "  </header>\n",
      "  <div class=\"newscontent\">\n",
      "    <div>\n",
      "       <p>The PHP development team announces the immediate availability of PHP\n",
      "       7.4.3. This is a security release which also contains several bug fixes.</p>\n",
      "     \n",
      "       <p>All PHP 7.4 users are encouraged to upgrade to this version.</p>\n",
      "     \n",
      "       <p>For source downloads of PHP 7.4.3 please visit our <a href=\"http://www.php.net/downloads.php\">downloads page</a>,\n",
      "       Windows source and binaries can be found on <a href=\"http://windows.php.net/download/\">windows.php.net/download/</a>.\n",
      "       The list of changes is recorded in the <a href=\"http://www.php.net/ChangeLog-7.php#7.4.3\">ChangeLog</a>.\n",
      "       </p>\n",
      "    </div>\n",
      "  \n",
      "  </div>\n",
      "</article><article class=\"newsentry\">\n",
      "  <header class=\"title\">\n",
      "    <time datetime=\"2020-02-20T09:32:08+00:00\">20 Feb 2020</time>\n",
      "    <h2 class=\"newstitle\">\n",
      "      <a href=\"https://www.php.net/archive/2020.php#2020-02-20-2\" id=\"2020-02-20-2\">PHP 7.3.15 Released</a>\n",
      "    </h2>\n",
      "  </header>\n",
      "  <div class=\"newscontent\">\n",
      "    <div>\n",
      "      <p>The PHP development team announces the immediate availability of PHP\n",
      "      7.3.15. This is a security release which also contains several bug fixes.</p>\n",
      "\n",
      "      <p>All PHP 7.3 users are encouraged to upgrade to this version.</p>\n",
      "\n",
      "      <p>For source downloads of PHP 7.3.15 please visit our <a href=\"https://www.php.net/downloads.php\">downloads page</a>,\n",
      "      Windows source and binaries can be found on <a href=\"https://windows.php.net/download/\">windows.php.net/download/</a>.\n",
      "      The list of changes is recorded in the <a href=\"https://www.php.net/ChangeLog-7.php#7.3.15\">ChangeLog</a>.\n",
      "      </p>\n",
      "    </div>\n",
      "  \n",
      "  </div>\n",
      "</article><article class=\"newsentry\">\n",
      "  <header class=\"title\">\n",
      "    <time datetime=\"2020-02-20T09:01:15+00:00\">20 Feb 2020</time>\n",
      "    <h2 class=\"newstitle\">\n",
      "      <a href=\"https://www.php.net/archive/2020.php#2020-02-20-1\" id=\"2020-02-20-1\">PHP 7.2.28 Released</a>\n",
      "    </h2>\n",
      "  </header>\n",
      "  <div class=\"newscontent\">\n",
      "    <div>\n",
      "     <p>The PHP development team announces the immediate availability of PHP\n",
      "     7.2.28. This is a security release.</p>\n",
      "\n",
      "     <p>All PHP 7.2 users are encouraged to upgrade to this version.</p>\n",
      "\n",
      "     <p>For source downloads of PHP 7.2.28 please visit our <a href=\"http://www.php.net/downloads.php\">downloads page</a>,\n",
      "     Windows source and binaries can be found on <a href=\"http://windows.php.net/download/\">windows.php.net/download/</a>.\n",
      "     The list of changes is recorded in the <a href=\"http://www.php.net/ChangeLog-7.php#7.2.28\">ChangeLog</a>.\n",
      "     </p>\n",
      "    </div>\n",
      "  \n",
      "  </div>\n",
      "</article><article class=\"newsentry\">\n",
      "  <header class=\"title\">\n",
      "    <time datetime=\"2020-01-23T09:38:59+00:00\">23 Jan 2020</time>\n",
      "    <h2 class=\"newstitle\">\n",
      "      <a href=\"https://www.php.net/archive/2020.php#2020-01-23-3\" id=\"2020-01-23-3\">PHP 7.3.14 Released</a>\n",
      "    </h2>\n",
      "  </header>\n",
      "  <div class=\"newscontent\">\n",
      "    <div>\n",
      "      <p>The PHP development team announces the immediate availability of PHP\n",
      "      7.3.14. This is a security release which also contains several bug fixes.</p>\n",
      "\n",
      "      <p>All PHP 7.3 users are encouraged to upgrade to this version.</p>\n",
      "\n",
      "      <p>For source downloads of PHP 7.3.14 please visit our <a href=\"https://www.php.net/downloads.php\">downloads page</a>,\n",
      "      Windows source and binaries can be found on <a href=\"https://windows.php.net/download/\">windows.php.net/download/</a>.\n",
      "      The list of changes is recorded in the <a href=\"https://www.php.net/ChangeLog-7.php#7.3.14\">ChangeLog</a>.\n",
      "      </p>\n",
      "    </div>\n",
      "  \n",
      "  </div>\n",
      "</article><article class=\"newsentry\">\n",
      "  <header class=\"title\">\n",
      "    <time datetime=\"2020-01-23T09:11:36+00:00\">23 Jan 2020</time>\n",
      "    <h2 class=\"newstitle\">\n",
      "      <a href=\"https://www.php.net/archive/2020.php#2020-01-23-2\" id=\"2020-01-23-2\">PHP 7.2.27 Released</a>\n",
      "    </h2>\n",
      "  </header>\n",
      "  <div class=\"newscontent\">\n",
      "    <div>\n",
      "     <p>The PHP development team announces the immediate availability of PHP\n",
      "     7.2.27. This is a security release.</p>\n",
      "\n",
      "     <p>All PHP 7.2 users are encouraged to upgrade to this version.</p>\n",
      "\n",
      "     <p>For source downloads of PHP 7.2.27 please visit our <a href=\"http://www.php.net/downloads.php\">downloads page</a>,\n",
      "     Windows source and binaries can be found on <a href=\"http://windows.php.net/download/\">windows.php.net/download/</a>.\n",
      "     The list of changes is recorded in the <a href=\"http://www.php.net/ChangeLog-7.php#7.2.27\">ChangeLog</a>.\n",
      "     </p>\n",
      "    </div>\n",
      "  \n",
      "  </div>\n",
      "</article><article class=\"newsentry\">\n",
      "  <header class=\"title\">\n",
      "    <time datetime=\"2020-01-23T07:43:45+00:00\">23 Jan 2020</time>\n",
      "    <h2 class=\"newstitle\">\n",
      "      <a href=\"https://www.php.net/archive/2020.php#2020-01-23-1\" id=\"2020-01-23-1\">PHP 7.4.2 Released</a>\n",
      "    </h2>\n",
      "  </header>\n",
      "  <div class=\"newscontent\">\n",
      "    <div>\n",
      "       <h1>PHP 7.4.2 Release Announcement</h1>\n",
      "     \n",
      "       <p>The PHP development team announces the immediate availability of PHP\n",
      "       7.4.2. This is a security release which also contains several bug fixes.</p>\n",
      "     \n",
      "       <p>All PHP 7.4 users are encouraged to upgrade to this version.</p>\n",
      "     \n",
      "       <p>For source downloads of PHP 7.4.2 please visit our <a href=\"http://www.php.net/downloads.php\">downloads page</a>,\n",
      "       Windows source and binaries can be found on <a href=\"http://windows.php.net/download/\">windows.php.net/download/</a>.\n",
      "       The list of changes is recorded in the <a href=\"http://www.php.net/ChangeLog-7.php#7.4.2\">ChangeLog</a>.\n",
      "       </p>\n",
      "    </div>\n",
      "  \n",
      "  </div>\n",
      "</article><article class=\"newsentry\">\n",
      "  <header class=\"title\">\n",
      "    <time datetime=\"2019-11-14T19:01:18+00:00\">14 Nov 2019</time>\n",
      "    <h2 class=\"newstitle\">\n",
      "      <a href=\"https://www.php.net/archive/2019.php#2019-11-14-1\" id=\"2019-11-14-1\">PHP 7.4.0RC6 Released!</a>\n",
      "    </h2>\n",
      "  </header>\n",
      "  <div class=\"newscontent\">\n",
      "    <div>\n",
      "     <p>\n",
      "     The PHP team is glad to announce the sixth release candidate of PHP 7.4:\n",
      "     PHP 7.4.0RC6. This continues the PHP 7.4 release cycle, the rough outline of\n",
      "     which is specified in the <a href=\"https://wiki.php.net/todo/php74\">PHP\n",
      "     Wiki</a>.\n",
      "     </p>\n",
      "     \n",
      "     <p>\n",
      "     <b>Please DO NOT use this version in production, it is an early test\n",
      "     version.</b>\n",
      "     </p>\n",
      "     \n",
      "     <p>\n",
      "     For source downloads of PHP 7.4.0RC6 please visit the\n",
      "     <a href=\"https://downloads.php.net/~derick\">download page</a>.\n",
      "     </p>\n",
      "     \n",
      "     <p>\n",
      "     Please carefully test this version and report any issues found in the <a href=\"https://bugs.php.net\">bug reporting system</a>.\n",
      "     </p>\n",
      "     \n",
      "     <p>\n",
      "     For more information on the new features and other changes, you can read the\n",
      "     <a href=\"https://github.com/php/php-src/blob/php-7.4.0RC6/NEWS\">NEWS</a>\n",
      "     file, or the\n",
      "     <a href=\"https://github.com/php/php-src/blob/php-7.4.0RC6/UPGRADING\">UPGRADING</a>\n",
      "     file for a complete list of upgrading notes. These files can also be found in\n",
      "     the release archive.\n",
      "     </p>\n",
      "     \n",
      "     <p>\n",
      "     The next release would be <b>7.4.0</b>, planned for November 28th.\n",
      "     </p>\n",
      "     \n",
      "     <p>\n",
      "     The signatures for the release can be found in\n",
      "     <a href=\"https://gist.github.com/derickr/75073b820cef83190094d34b7b04d322\">the\n",
      "     manifest</a> or on <a href=\"https://qa.php.net/\">the QA site</a>.\n",
      "     </p>\n",
      "     \n",
      "     <p>Thank you for helping us make PHP better.</p>\n",
      "    </div>\n",
      "  \n",
      "  </div>\n",
      "</article><article class=\"newsentry\">\n",
      "  <header class=\"title\">\n",
      "    <time datetime=\"2019-10-31T10:22:30+00:00\">31 Oct 2019</time>\n",
      "    <h2 class=\"newstitle\">\n",
      "      <a href=\"https://www.php.net/archive/2019.php#2019-10-31-2\" id=\"2019-10-31-2\">PHP 7.4.0RC5 released!</a>\n",
      "    </h2>\n",
      "  </header>\n",
      "  <div class=\"newscontent\">\n",
      "    <div>\n",
      "     <p>\n",
      "     The PHP team is glad to announce the fifth release candidate of PHP 7.4:\n",
      "     PHP 7.4.0RC5. This continues the PHP 7.4 release cycle, the rough outline of\n",
      "     which is specified in the <a href=\"https://wiki.php.net/todo/php74\">PHP\n",
      "     Wiki</a>.\n",
      "     </p>\n",
      "     \n",
      "     <p>\n",
      "     <b>Please DO NOT use this version in production, it is an early test\n",
      "     version.</b>\n",
      "     </p>\n",
      "     \n",
      "     <p>\n",
      "     For source downloads of PHP 7.4.0RC5 please visit the\n",
      "     <a href=\"https://downloads.php.net/~derick\">download page</a>.\n",
      "     </p>\n",
      "     \n",
      "     <p>\n",
      "     Please carefully test this version and report any issues found in the <a href=\"https://bugs.php.net\">bug reporting system</a>.\n",
      "     </p>\n",
      "     \n",
      "     <p>\n",
      "     For more information on the new features and other changes, you can read the\n",
      "     <a href=\"https://github.com/php/php-src/blob/php-7.4.0RC5/NEWS\">NEWS</a>\n",
      "     file, or the\n",
      "     <a href=\"https://github.com/php/php-src/blob/php-7.4.0RC5/UPGRADING\">UPGRADING</a>\n",
      "     file for a complete list of upgrading notes. These files can also be found in\n",
      "     the release archive.\n",
      "     </p>\n",
      "     \n",
      "     <p>\n",
      "     The next release would be <b>7.4.0RC6</b>, planned for November 14th.\n",
      "     </p>\n",
      "     \n",
      "     <p>\n",
      "     The signatures for the release can be found in\n",
      "     <a href=\"https://gist.github.com/derickr/6a19c62d892995c311bb299c739adee8\">the\n",
      "     manifest</a> or on <a href=\"https://qa.php.net/\">the QA site</a>.\n",
      "     </p>\n",
      "     \n",
      "     <p>Thank you for helping us make PHP better.</p>\n",
      "    </div>\n",
      "  \n",
      "  </div>\n",
      "</article><article class=\"newsentry\">\n",
      "  <header class=\"title\">\n",
      "    <time datetime=\"2019-10-18T08:46:40+00:00\">18 Oct 2019</time>\n",
      "    <h2 class=\"newstitle\">\n",
      "      <a href=\"https://www.php.net/archive/2019.php#2019-10-18-1\" id=\"2019-10-18-1\">PHP 7.4.0RC4 Released!</a>\n",
      "    </h2>\n",
      "  </header>\n",
      "  <div class=\"newscontent\">\n",
      "    <div>\n",
      "     <p>\n",
      "     The PHP team is glad to announce the fourth release candidate of PHP 7.4:\n",
      "     PHP 7.4.0RC4. This continues the PHP 7.4 release cycle, the rough outline of\n",
      "     which is specified in the <a href=\"https://wiki.php.net/todo/php74\">PHP\n",
      "     Wiki</a>.\n",
      "     </p>\n",
      "     \n",
      "     <p>\n",
      "     <b>Please DO NOT use this version in production, it is an early test\n",
      "     version.</b>\n",
      "     </p>\n",
      "     \n",
      "     <p>\n",
      "     For source downloads of PHP 7.4.0RC4 please visit the\n",
      "     <a href=\"https://downloads.php.net/~derick\">download page</a>.\n",
      "     </p>\n",
      "     \n",
      "     <p>\n",
      "     Please carefully test this version and report any issues found in the <a href=\"https://bugs.php.net\">bug reporting system</a>.\n",
      "     </p>\n",
      "     \n",
      "     <p>\n",
      "     For more information on the new features and other changes, you can read the\n",
      "     <a href=\"https://github.com/php/php-src/blob/php-7.4.0RC4/NEWS\">NEWS</a>\n",
      "     file, or the\n",
      "     <a href=\"https://github.com/php/php-src/blob/php-7.4.0RC4/UPGRADING\">UPGRADING</a>\n",
      "     file for a complete list of upgrading notes. These files can also be found in\n",
      "     the release archive.\n",
      "     </p>\n",
      "     \n",
      "     <p>\n",
      "     The next release would be <b>7.4.0RC5</b>, planned for October 31st.\n",
      "     </p>\n",
      "     \n",
      "     <p>\n",
      "     The signatures for the release can be found in\n",
      "     <a href=\"https://gist.github.com/derickr/5ad9dc1e880c8797a6f4af414d084c0f\">the\n",
      "     manifest</a> or on <a href=\"https://qa.php.net/\">the QA site</a>.\n",
      "     </p>\n",
      "     \n",
      "     <p>Thank you for helping us make PHP better.</p>\n",
      "    </div>\n",
      "  \n",
      "  </div>\n",
      "</article><article class=\"newsentry\">\n",
      "  <header class=\"title\">\n",
      "    <time datetime=\"2019-10-03T14:28:25+00:00\">03 Oct 2019</time>\n",
      "    <h2 class=\"newstitle\">\n",
      "      <a href=\"https://www.php.net/archive/2019.php#2019-10-03-1\" id=\"2019-10-03-1\">PHP 7.4.0RC3 Released!</a>\n",
      "    </h2>\n",
      "  </header>\n",
      "  <div class=\"newscontent\">\n",
      "    <div>\n",
      "     <p>\n",
      "     The PHP team is glad to announce the third release candidate of PHP 7.4:\n",
      "     PHP 7.4.0RC3. This continues the PHP 7.4 release cycle, the rough outline of\n",
      "     which is specified in the <a href=\"https://wiki.php.net/todo/php74\">PHP\n",
      "     Wiki</a>.\n",
      "     </p>\n",
      "     \n",
      "     <p>\n",
      "     <b>Please DO NOT use this version in production, it is an early test\n",
      "     version.</b>\n",
      "     </p>\n",
      "     \n",
      "     <p>\n",
      "     For source downloads of PHP 7.4.0RC3 please visit the\n",
      "     <a href=\"https://downloads.php.net/~derick\">download page</a>.\n",
      "     </p>\n",
      "     \n",
      "     <p>\n",
      "     Please carefully test this version and report any issues found in the <a href=\"https://bugs.php.net\">bug reporting system</a>.\n",
      "     </p>\n",
      "     \n",
      "     <p>\n",
      "     For more information on the new features and other changes, you can read the\n",
      "     <a href=\"https://github.com/php/php-src/blob/php-7.4.0RC3/NEWS\">NEWS</a>\n",
      "     file, or the\n",
      "     <a href=\"https://github.com/php/php-src/blob/php-7.4.0RC3/UPGRADING\">UPGRADING</a>\n",
      "     file for a complete list of upgrading notes. These files can also be found in\n",
      "     the release archive.\n",
      "     </p>\n",
      "     \n",
      "     <p>\n",
      "     The next release would be <b>7.4.0RC4</b>, planned for October 17th.\n",
      "     </p>\n",
      "     \n",
      "     <p>\n",
      "     The signatures for the release can be found in\n",
      "     <a href=\"https://gist.github.com/derickr/4eaedc5dfd3bc9ddfbff6f81e8c53ec1\">the\n",
      "     manifest</a> or on <a href=\"https://qa.php.net/\">the QA site</a>.\n",
      "     </p>\n",
      "     \n",
      "     <p>Thank you for helping us make PHP better.</p>\n",
      "    </div>\n",
      "  \n",
      "  </div>\n",
      "</article><article class=\"newsentry\">\n",
      "  <header class=\"title\">\n",
      "    <time datetime=\"2019-09-19T09:07:27+00:00\">19 Sep 2019</time>\n",
      "    <h2 class=\"newstitle\">\n",
      "      <a href=\"https://www.php.net/archive/2019.php#2019-09-19-1\" id=\"2019-09-19-1\">PHP 7.4.0RC2 Released!</a>\n",
      "    </h2>\n",
      "  </header>\n",
      "  <div class=\"newscontent\">\n",
      "    <div>\n",
      "     <p>\n",
      "     The PHP team is glad to announce the second release candidate of PHP 7.4:\n",
      "     PHP 7.4.0RC2. This continues the PHP 7.4 release cycle, the rough outline of\n",
      "     which is specified in the <a href=\"https://wiki.php.net/todo/php74\">PHP\n",
      "     Wiki</a>.\n",
      "     </p>\n",
      "     \n",
      "     <p>\n",
      "     <b>Please DO NOT use this version in production, it is an early test\n",
      "     version.</b>\n",
      "     </p>\n",
      "     \n",
      "     <p>\n",
      "     For source downloads of PHP 7.4.0RC2 please visit the\n",
      "     <a href=\"https://downloads.php.net/~derick\">download page</a>.\n",
      "     </p>\n",
      "     \n",
      "     <p>\n",
      "     Please carefully test this version and report any issues found in the <a href=\"https://bugs.php.net\">bug reporting system</a>.\n",
      "     </p>\n",
      "     \n",
      "     <p>\n",
      "     For more information on the new features and other changes, you can read the\n",
      "     <a href=\"https://github.com/php/php-src/blob/php-7.4.0RC2/NEWS\">NEWS</a>\n",
      "     file, or the\n",
      "     <a href=\"https://github.com/php/php-src/blob/php-7.4.0RC2/UPGRADING\">UPGRADING</a>\n",
      "     file for a complete list of upgrading notes. These files can also be found in\n",
      "     the release archive.\n",
      "     </p>\n",
      "     \n",
      "     <p>\n",
      "     The next release would be <b>7.4.0RC3</b>, planned for October 3rd.\n",
      "     </p>\n",
      "     \n",
      "     <p>\n",
      "     The signatures for the release can be found in\n",
      "     <a href=\"https://gist.github.com/derickr/4f8a617b73e471ee4cbbbde1862a9448\">the\n",
      "     manifest</a> or on <a href=\"https://qa.php.net/\">the QA site</a>.\n",
      "     </p>\n",
      "     \n",
      "     <p>Thank you for helping us make PHP better.</p>\n",
      "    </div>\n",
      "  \n",
      "  </div>\n",
      "</article><article class=\"newsentry\">\n",
      "  <header class=\"title\">\n",
      "    <time datetime=\"2019-09-05T08:39:13+00:00\">05 Sep 2019</time>\n",
      "    <h2 class=\"newstitle\">\n",
      "      <a href=\"https://www.php.net/archive/2019.php#2019-09-05-1\" id=\"2019-09-05-1\">PHP 7.4.0RC1 Released!</a>\n",
      "    </h2>\n",
      "  </header>\n",
      "  <div class=\"newscontent\">\n",
      "    <div>\n",
      "     <p>\n",
      "     The PHP team is glad to announce the first release candidate of PHP 7.4:\n",
      "     PHP 7.4.0RC1. This continues the PHP 7.4 release cycle, the rough outline of\n",
      "     which is specified in the <a href=\"https://wiki.php.net/todo/php74\">PHP\n",
      "     Wiki</a>.\n",
      "     </p>\n",
      "     \n",
      "     <p>\n",
      "     <b>Please DO NOT use this version in production, it is an early test\n",
      "     version.</b>\n",
      "     </p>\n",
      "     \n",
      "     <p>\n",
      "     For source downloads of PHP 7.4.0RC1 please visit the\n",
      "     <a href=\"https://downloads.php.net/~derick\">download page</a>.\n",
      "     </p>\n",
      "     \n",
      "     <p>\n",
      "     Please carefully test this version and report any issues found in the <a href=\"https://bugs.php.net\">bug reporting system</a>.\n",
      "     </p>\n",
      "     \n",
      "     <p>\n",
      "     For more information on the new features and other changes, you can read the\n",
      "     <a href=\"https://github.com/php/php-src/blob/php-7.4.0RC1/NEWS\">NEWS</a>\n",
      "     file, or the\n",
      "     <a href=\"https://github.com/php/php-src/blob/php-7.4.0RC1/UPGRADING\">UPGRADING</a>\n",
      "     file for a complete list of upgrading notes. These files can also be found in\n",
      "     the release archive.\n",
      "     </p>\n",
      "     \n",
      "     <p>\n",
      "     The next release would be <b>7.4.0RC2</b>, planned for September 19th.\n",
      "     </p>\n",
      "     \n",
      "     <p>\n",
      "     The signatures for the release can be found in\n",
      "     <a href=\"https://gist.github.com/derickr/eb4025dd8f09f0e4af0bdf462ada14c2\">the\n",
      "     manifest</a> or on <a href=\"https://qa.php.net/\">the QA site</a>.\n",
      "     </p>\n",
      "     \n",
      "     <p>Thank you for helping us make PHP better.</p>\n",
      "    </div>\n",
      "  \n",
      "  </div>\n",
      "</article><article class=\"newsentry\">\n",
      "  <header class=\"title\">\n",
      "    <time datetime=\"2019-08-22T14:51:16+00:00\">22 Aug 2019</time>\n",
      "    <h2 class=\"newstitle\">\n",
      "      <a href=\"https://www.php.net/archive/2019.php#2019-08-22-1\" id=\"2019-08-22-1\">PHP 7.4.0beta4 released!</a>\n",
      "    </h2>\n",
      "  </header>\n",
      "  <div class=\"newscontent\">\n",
      "    <div>\n",
      "     <p>\n",
      "     The PHP team is glad to announce the third and last beta release of PHP 7.4:\n",
      "     PHP 7.4.0beta4. This continues the PHP 7.4 release cycle, the rough outline of\n",
      "     which is specified in the <a href=\"https://wiki.php.net/todo/php74\">PHP\n",
      "     Wiki</a>.\n",
      "     </p>\n",
      "     \n",
      "     <p>\n",
      "     For source downloads of PHP 7.4.0beta4 please visit the\n",
      "     <a href=\"https://downloads.php.net/~derick\">download page</a>.\n",
      "     </p>\n",
      "     \n",
      "     <p>\n",
      "     Please carefully test this version and report any issues found in the <a href=\"https://bugs.php.net\">bug reporting system</a>.\n",
      "     </p>\n",
      "     \n",
      "     <p>\n",
      "     <b>Please DO NOT use this version in production, it is an early test\n",
      "     version.</b>\n",
      "     </p>\n",
      "     \n",
      "     <p>\n",
      "     For more information on the new features and other changes, you can read the\n",
      "     <a href=\"https://github.com/php/php-src/blob/php-7.4.0beta4/NEWS\">NEWS</a>\n",
      "     file, or the\n",
      "     <a href=\"https://github.com/php/php-src/blob/php-7.4.0beta4/UPGRADING\">UPGRADING</a>\n",
      "     file for a complete list of upgrading notes. These files can also be found in\n",
      "     the release archive.\n",
      "     </p>\n",
      "     \n",
      "     <p>\n",
      "     The next release would be <b>RC 1</b>, planned for September 5th.\n",
      "     </p>\n",
      "     \n",
      "     <p>\n",
      "     The signatures for the release can be found in\n",
      "     <a href=\"https://gist.github.com/derickr/3c8d6ca0c4ec904fd5a3c47dbf9bf637\">the\n",
      "     manifest</a> or on <a href=\"https://qa.php.net/\">the QA site</a>.\n",
      "     </p>\n",
      "     \n",
      "     <p>Thank you for helping us make PHP better.</p>\n",
      "    </div>\n",
      "  \n",
      "  </div>\n",
      "</article><article class=\"newsentry\">\n",
      "  <header class=\"title\">\n",
      "    <time datetime=\"2019-08-08T08:15:01+00:00\">08 Aug 2019</time>\n",
      "    <h2 class=\"newstitle\">\n",
      "      <a href=\"https://www.php.net/archive/2019.php#2019-08-08-1\" id=\"2019-08-08-1\">PHP 7.4.0beta2 released!</a>\n",
      "    </h2>\n",
      "  </header>\n",
      "  <div class=\"newscontent\">\n",
      "    <div>\n",
      "     <p>\n",
      "     The PHP team is glad to announce the second beta release of PHP 7.4: PHP\n",
      "     7.4.0beta2. This continues the PHP 7.4 release cycle, the rough outline of\n",
      "     which is specified in the <a href=\"https://wiki.php.net/todo/php74\">PHP\n",
      "     Wiki</a>.\n",
      "     </p>\n",
      "     \n",
      "     <p>\n",
      "     For source downloads of PHP 7.4.0beta2 please visit the\n",
      "     <a href=\"https://downloads.php.net/~derick\">download page</a>.\n",
      "     </p>\n",
      "     \n",
      "     <p>\n",
      "     Please carefully test this version and report any issues found in the <a href=\"https://bugs.php.net\">bug reporting system</a>.\n",
      "     </p>\n",
      "     \n",
      "     <p>\n",
      "     <b>Please DO NOT use this version in production, it is an early test\n",
      "     version.</b>\n",
      "     </p>\n",
      "     \n",
      "     <p>\n",
      "     For more information on the new features and other changes, you can read the\n",
      "     <a href=\"https://github.com/php/php-src/blob/php-7.4.0beta2/NEWS\">NEWS</a>\n",
      "     file, or the\n",
      "     <a href=\"https://github.com/php/php-src/blob/php-7.4.0beta2/UPGRADING\">UPGRADING</a>\n",
      "     file for a complete list of upgrading notes. These files can also be found in\n",
      "     the release archive.\n",
      "     </p>\n",
      "     \n",
      "     <p>\n",
      "     The next release would be <b>Beta 3</b>, planned for August 22nd.\n",
      "     </p>\n",
      "     \n",
      "     <p>\n",
      "     The signatures for the release can be found in\n",
      "     <a href=\"https://gist.github.com/derickr/4cec1996b1110f6127b51b90d9426bf9\">the\n",
      "     manifest</a> or on <a href=\"https://qa.php.net/\">the QA site</a>.\n",
      "     </p>\n",
      "     \n",
      "     <p>Thank you for helping us make PHP better.</p>\n",
      "    </div>\n",
      "  \n",
      "  </div>\n",
      "</article><article class=\"newsentry\">\n",
      "  <header class=\"title\">\n",
      "    <time datetime=\"2019-07-25T09:39:51+00:00\">25 Jul 2019</time>\n",
      "    <h2 class=\"newstitle\">\n",
      "      <a href=\"https://www.php.net/archive/2019.php#2019-07-25-1\" id=\"2019-07-25-1\">PHP 7.4.0beta1 released!</a>\n",
      "    </h2>\n",
      "  </header>\n",
      "  <div class=\"newscontent\">\n",
      "    <div>\n",
      "     <p>\n",
      "     The PHP team is glad to announce the first beta release of PHP 7.4: PHP\n",
      "     7.4.0beta1. This continues the PHP 7.4 release cycle, the rough outline of\n",
      "     which is specified in the <a href=\"https://wiki.php.net/todo/php74\">PHP\n",
      "     Wiki</a>.\n",
      "     </p>\n",
      "     \n",
      "     <p>\n",
      "     For source downloads of PHP 7.4.0beta1 please visit the\n",
      "     <a href=\"https://downloads.php.net/~derick\">download page</a>.\n",
      "     </p>\n",
      "     \n",
      "     <p>\n",
      "     Please carefully test this version and report any issues found in the <a href=\"http://bugs.php.net\">bug reporting system</a>.\n",
      "     </p>\n",
      "     \n",
      "     <p>\n",
      "     <b>Please DO NOT use this version in production, it is an early test\n",
      "     version.</b>\n",
      "     </p>\n",
      "     \n",
      "     <p>\n",
      "     For more information on the new features and other changes, you can read the\n",
      "     <a href=\"https://github.com/php/php-src/blob/php-7.4.0beta1/NEWS\">NEWS</a>\n",
      "     file, or the\n",
      "     <a href=\"https://github.com/php/php-src/blob/php-7.4.0beta1/UPGRADING\">UPGRADING</a>\n",
      "     file for a complete list of upgrading notes. These files can also be found in\n",
      "     the release archive.\n",
      "     </p>\n",
      "     \n",
      "     <p>\n",
      "     The next release would be <b>Beta 2</b>, planned for August 8th.\n",
      "     </p>\n",
      "     \n",
      "     <p>\n",
      "     The signatures for the release can be found in\n",
      "     <a href=\"https://gist.github.com/derickr/6062a94c900289397130deb562ed17e1\">the\n",
      "     manifest</a> or on <a href=\"https://qa.php.net/\">the QA site</a>.\n",
      "     </p>\n",
      "     \n",
      "     <p>Thank you for helping us make PHP better.</p>\n",
      "    </div>\n",
      "  \n",
      "  </div>\n",
      "</article><article class=\"newsentry\">\n",
      "  <header class=\"title\">\n",
      "    <time datetime=\"2019-07-11T10:15:12+00:00\">11 Jul 2019</time>\n",
      "    <h2 class=\"newstitle\">\n",
      "      <a href=\"https://www.php.net/archive/2019.php#2019-07-11-1\" id=\"2019-07-11-1\">PHP 7.4.0 alpha 3 Released</a>\n",
      "    </h2>\n",
      "  </header>\n",
      "  <div class=\"newscontent\">\n",
      "    <div>\n",
      "     <p>\n",
      "     PHP team is glad to announce the release of the third PHP 7.4.0 version, PHP\n",
      "     7.4.0 Alpha 3. This continues the PHP 7.4 release cycle, the rough outline of\n",
      "     which is specified in the <a href=\"https://wiki.php.net/todo/php74\">PHP\n",
      "     Wiki</a>.\n",
      "     </p>\n",
      "     \n",
      "     <p>For source downloads of PHP 7.4.0 Alpha 3 please visit the <a href=\"https://downloads.php.net/~derick\">download page</a>.</p>\n",
      "     \n",
      "     <p>\n",
      "     Please carefully test this version and report any issues found in the <a href=\"http://bugs.php.net\">bug reporting system</a>.\n",
      "     </p>\n",
      "     \n",
      "     <p>\n",
      "     <b>Please DO NOT use this version in production, it is an early test\n",
      "     version.</b>\n",
      "     </p>\n",
      "     \n",
      "     <p>\n",
      "      For more information on the new features and other changes, you can read the\n",
      "      <a href=\"https://github.com/php/php-src/blob/php-7.4.0alpha3/NEWS\">NEWS</a> file,\n",
      "      or the <a href=\"https://github.com/php/php-src/blob/php-7.4.0alpha3/UPGRADING\">UPGRADING</a>\n",
      "      file for a complete list of upgrading notes. These files can also be found in the release archive.\n",
      "     </p>\n",
      "     \n",
      "     <p>\n",
      "     The next release would be <b>Beta 1</b>, planned for July 25th.\n",
      "     </p>\n",
      "     \n",
      "     <p>The signatures for the release can be found in <a href=\"https://gist.github.com/derickr/dc86e4edfedf69bd121026cbf3db8643\">the\n",
      "     manifest</a> or on <a href=\"https://qa.php.net/\">the QA site</a>. </p>\n",
      "     \n",
      "     <p>Thank you for helping us make PHP better.</p>\n",
      "    </div>\n",
      "  \n",
      "  </div>\n",
      "</article><article class=\"newsentry\">\n",
      "  <header class=\"title\">\n",
      "    <time datetime=\"2019-06-26T23:34:49+00:00\">26 Jun 2019</time>\n",
      "    <h2 class=\"newstitle\">\n",
      "      <a href=\"https://www.php.net/archive/2019.php#id2019-06-26-1\" id=\"id2019-06-26-1\">PHP 7.4.0 alpha 2 Released</a>\n",
      "    </h2>\n",
      "  </header>\n",
      "  <div class=\"newscontent\">\n",
      "    <div>\n",
      "     <p>\n",
      "     PHP team is glad to announce the release of the second PHP 7.4.0 version, PHP 7.4.0 Alpha 2.\n",
      "     This continues the PHP 7.4 release cycle, the rough outline of which is specified in the\n",
      "     <a href=\"https://wiki.php.net/todo/php74\">PHP Wiki</a>.\n",
      "     </p>\n",
      "     \n",
      "     <p>For source downloads of PHP 7.4.0 Alpha 2 please visit the <a href=\"https://downloads.php.net/~derick\">download page</a>.</p>\n",
      "     \n",
      "     <p>\n",
      "     Please carefully test this version and report any issues found in the <a href=\"http://bugs.php.net\">bug reporting system</a>.\n",
      "     </p>\n",
      "     \n",
      "     <p>\n",
      "     <b>Please DO NOT use this version in production, it is an early test version.</b>\n",
      "     </p>\n",
      "     \n",
      "     <p>\n",
      "         For more information on the new features and other changes, you can read the\n",
      "         <a href=\"https://github.com/php/php-src/blob/php-7.4.0alpha2/NEWS\">NEWS</a> file,\n",
      "         or the <a href=\"https://github.com/php/php-src/blob/php-7.4.0alpha2/UPGRADING\">UPGRADING</a>\n",
      "         file for a complete list of upgrading notes. These files can also be found in the release archive.\n",
      "     </p>\n",
      "     \n",
      "     <p>\n",
      "     The next release would be Alpha 3, planned for July 11th.\n",
      "     </p>\n",
      "     \n",
      "     <p>The signatures for the release can be found in <a href=\"https://gist.github.com/derickr/0cb88c72a785ae8642ae1d81cc2e96f8\">the manifest</a> or on <a href=\"https://qa.php.net/\">the\n",
      "     QA site</a>.\n",
      "     </p>\n",
      "     \n",
      "     <p>Thank you for helping us make PHP better.</p>\n",
      "    </div>\n",
      "  \n",
      "  </div>\n",
      "</article><article class=\"newsentry\">\n",
      "  <header class=\"title\">\n",
      "    <time datetime=\"2019-06-13T11:24:11+00:00\">13 Jun 2019</time>\n",
      "    <h2 class=\"newstitle\">\n",
      "      <a href=\"https://www.php.net/archive/2019.php#id2019-06-13-1\" id=\"id2019-06-13-1\">PHP 7.4.0 alpha 1 Released</a>\n",
      "    </h2>\n",
      "  </header>\n",
      "  <div class=\"newscontent\">\n",
      "    <div>\n",
      "     <p>\n",
      "     PHP team is glad to announce the release of the first PHP 7.4.0 version, PHP 7.4.0 Alpha 1.\n",
      "     This starts the PHP 7.4 release cycle, the rough outline of which is specified in the\n",
      "     <a href=\"https://wiki.php.net/todo/php74\">PHP Wiki</a>.\n",
      "     </p>\n",
      "     \n",
      "     <p>For source downloads of PHP 7.4.0 Alpha 1 please visit the <a href=\"https://downloads.php.net/~derick\">download page</a>.</p>\n",
      "     \n",
      "     <p>\n",
      "     Please carefully test this version and report any issues found in the <a href=\" http://bugs.php.net\">bug reporting system</a>.\n",
      "     </p>\n",
      "     \n",
      "     <p>\n",
      "     <b>Please DO NOT use this version in production, it is an early test version.</b>\n",
      "     </p>\n",
      "     \n",
      "     <p>\n",
      "         For more information on the new features and other changes, you can read the\n",
      "         <a href=\"https://github.com/php/php-src/blob/php-7.4.0alpha1/NEWS\">NEWS</a> file,\n",
      "         or the <a href=\"https://github.com/php/php-src/blob/php-7.4.0alpha1/UPGRADING\">UPGRADING</a>\n",
      "         file for a complete list of upgrading notes. These files can also be found in the release archive.\n",
      "     </p>\n",
      "     \n",
      "     <p>\n",
      "     The next release would be Alpha 2, planned for June 27.\n",
      "     </p>\n",
      "     \n",
      "     <p>The signatures for the release can be found in <a href=\"https://gist.github.com/derickr/000139654a28966ae0bb74560f51f2a7\">the manifest</a> or on <a href=\"https://qa.php.net/\">the\n",
      "     QA site</a>.\n",
      "     </p>\n",
      "     \n",
      "     <p>Thank you for helping us make PHP better.</p>\n",
      "    </div>\n",
      "  \n",
      "  </div>\n",
      "</article><article class=\"newsentry\">\n",
      "  <header class=\"title\">\n",
      "    <time datetime=\"2018-11-22T12:22:47+01:00\">22 Nov 2018</time>\n",
      "    <h2 class=\"newstitle\">\n",
      "      <a href=\"https://www.php.net/archive/2018.php#id2018-11-22-1\" id=\"id2018-11-22-1\">PHP 7.3.0RC6 Released</a>\n",
      "    </h2>\n",
      "  </header>\n",
      "  <div class=\"newscontent\">\n",
      "    <div>\n",
      "      <p>\n",
      "        The PHP team is glad to announce the presumably last PHP 7.3.0 pre-release, PHP 7.3.0RC6.\n",
      "        The rough outline of the PHP 7.3 release cycle is specified in the\n",
      "        <a href=\"https://wiki.php.net/todo/php73\">PHP Wiki</a>.\n",
      "      </p>\n",
      "\n",
      "      <p>\n",
      "        For source downloads of PHP 7.3.0RC6 please visit the <a href=\"https://downloads.php.net/~cmb/\">download page</a>.\n",
      "        Windows sources and binaries can be found on <a href=\"https://windows.php.net/qa/\">windows.php.net/qa/</a>.\n",
      "      </p>\n",
      "\n",
      "      <p>\n",
      "        Please carefully test this version and report any issues found in the <a href=\" https://bugs.php.net\">bug reporting system</a>.\n",
      "      </p>\n",
      "\n",
      "      <p>\n",
      "        <b>THIS IS A DEVELOPMENT PREVIEW - DO NOT USE IT IN PRODUCTION!</b>\n",
      "      </p>\n",
      "\n",
      "      <p>\n",
      "        For more information on the new features and other changes, you can read the\n",
      "        <a href=\"https://github.com/php/php-src/blob/php-7.3.0RC6/NEWS\">NEWS</a> file,\n",
      "        or the <a href=\"https://github.com/php/php-src/blob/php-7.3.0RC6/UPGRADING\">UPGRADING</a>\n",
      "        file for a complete list of upgrading notes. Internal changes are listed in the\n",
      "        <a href=\"https://github.com/php/php-src/blob/php-7.3.0RC6/UPGRADING.INTERNALS\">UPGRADING.INTERNALS</a> file.\n",
      "        These files can also be found in the release archive.\n",
      "      </p>\n",
      "\n",
      "      <p>\n",
      "        The next release would be 7.3.0 (GA), planned for December 6th.\n",
      "      </p>\n",
      "\n",
      "      <p>\n",
      "        The signatures for the release can be found in <a href=\"https://gist.github.com/cmb69/6d9574612d0fb78b8549e42ec096a5a6\">the manifest</a>\n",
      "        or on <a href=\"https://qa.php.net/\">the QA site</a>.\n",
      "      </p>\n",
      "\n",
      "      <p>\n",
      "        Thank you for helping us make PHP better.\n",
      "      </p>\n",
      "    </div>\n",
      "  \n",
      "  </div>\n",
      "</article><article class=\"newsentry\">\n",
      "  <header class=\"title\">\n",
      "    <time datetime=\"2018-11-08T11:11:26+01:00\">08 Nov 2018</time>\n",
      "    <h2 class=\"newstitle\">\n",
      "      <a href=\"https://www.php.net/archive/2018.php#id2018-11-08-1\" id=\"id2018-11-08-1\">PHP 7.3.0RC5 Released</a>\n",
      "    </h2>\n",
      "  </header>\n",
      "  <div class=\"newscontent\">\n",
      "    <div>\n",
      "      <p>\n",
      "        The PHP team is glad to announce the next PHP 7.3.0 pre-release, PHP 7.3.0RC5.\n",
      "        The rough outline of the PHP 7.3 release cycle is specified in the\n",
      "        <a href=\"https://wiki.php.net/todo/php73\">PHP Wiki</a>.\n",
      "      </p>\n",
      "\n",
      "      <p>\n",
      "        For source downloads of PHP 7.3.0RC5 please visit the <a href=\"https://downloads.php.net/~cmb/\">download page</a>.\n",
      "        Windows sources and binaries can be found on <a href=\"https://windows.php.net/qa/\">windows.php.net/qa/</a>.\n",
      "      </p>\n",
      "\n",
      "      <p>\n",
      "        Please carefully test this version and report any issues found in the <a href=\" https://bugs.php.net\">bug reporting system</a>.\n",
      "      </p>\n",
      "\n",
      "      <p>\n",
      "        <b>THIS IS A DEVELOPMENT PREVIEW - DO NOT USE IT IN PRODUCTION!</b>\n",
      "      </p>\n",
      "\n",
      "      <p>\n",
      "        For more information on the new features and other changes, you can read the\n",
      "        <a href=\"https://github.com/php/php-src/blob/php-7.3.0RC5/NEWS\">NEWS</a> file,\n",
      "        or the <a href=\"https://github.com/php/php-src/blob/php-7.3.0RC5/UPGRADING\">UPGRADING</a>\n",
      "        file for a complete list of upgrading notes. Internal changes are listed in the\n",
      "        <a href=\"https://github.com/php/php-src/blob/php-7.3.0RC5/UPGRADING.INTERNALS\">UPGRADING.INTERNALS</a> file.\n",
      "        These files can also be found in the release archive.\n",
      "      </p>\n",
      "\n",
      "      <p>\n",
      "        The next release would be RC6, planned for November 22nd.\n",
      "      </p>\n",
      "\n",
      "      <p>\n",
      "        The signatures for the release can be found in <a href=\"https://gist.github.com/cmb69/a14634afdd52b7f69d65d2bd5a79ac99\">the manifest</a>\n",
      "        or on <a href=\"https://qa.php.net/\">the QA site</a>.\n",
      "      </p>\n",
      "\n",
      "      <p>\n",
      "        Thank you for helping us make PHP better.\n",
      "      </p>\n",
      "    </div>\n",
      "  \n",
      "  </div>\n",
      "</article><article class=\"newsentry\">\n",
      "  <header class=\"title\">\n",
      "    <time datetime=\"2018-10-25T11:07:32+02:00\">25 Oct 2018</time>\n",
      "    <h2 class=\"newstitle\">\n",
      "      <a href=\"https://www.php.net/archive/2018.php#id2018-10-25-1\" id=\"id2018-10-25-1\">PHP 7.3.0RC4 Released</a>\n",
      "    </h2>\n",
      "  </header>\n",
      "  <div class=\"newscontent\">\n",
      "    <div>\n",
      "      <p>\n",
      "        The PHP team is glad to announce the next PHP 7.3.0 pre-release, PHP 7.3.0RC4.\n",
      "        The rough outline of the PHP 7.3 release cycle is specified in the\n",
      "        <a href=\"https://wiki.php.net/todo/php73\">PHP Wiki</a>.\n",
      "      </p>\n",
      "\n",
      "      <p>\n",
      "        For source downloads of PHP 7.3.0RC4 please visit the <a href=\"https://downloads.php.net/~cmb/\">download page</a>.\n",
      "        Windows sources and binaries can be found on <a href=\"https://windows.php.net/qa/\">windows.php.net/qa/</a>.\n",
      "      </p>\n",
      "\n",
      "      <p>\n",
      "        Please carefully test this version and report any issues found in the <a href=\" https://bugs.php.net\">bug reporting system</a>.\n",
      "      </p>\n",
      "\n",
      "      <p>\n",
      "        <b>THIS IS A DEVELOPMENT PREVIEW - DO NOT USE IT IN PRODUCTION!</b>\n",
      "      </p>\n",
      "\n",
      "      <p>\n",
      "        For more information on the new features and other changes, you can read the\n",
      "        <a href=\"https://github.com/php/php-src/blob/php-7.3.0RC4/NEWS\">NEWS</a> file,\n",
      "        or the <a href=\"https://github.com/php/php-src/blob/php-7.3.0RC4/UPGRADING\">UPGRADING</a>\n",
      "        file for a complete list of upgrading notes. Internal changes are listed in the\n",
      "        <a href=\"https://github.com/php/php-src/blob/php-7.3.0RC4/UPGRADING.INTERNALS\">UPGRADING.INTERNALS</a> file.\n",
      "        These files can also be found in the release archive.\n",
      "      </p>\n",
      "\n",
      "      <p>\n",
      "        The next release would be RC5, planned for November 8th.\n",
      "      </p>\n",
      "\n",
      "      <p>\n",
      "        The signatures for the release can be found in <a href=\"https://gist.github.com/cmb69/594d9a18290f1b019b2ba68a098413c6\">the manifest</a>\n",
      "        or on <a href=\"https://qa.php.net/\">the QA site</a>.\n",
      "      </p>\n",
      "\n",
      "      <p>\n",
      "        Thank you for helping us make PHP better.\n",
      "      </p>\n",
      "    </div>\n",
      "  \n",
      "  </div>\n",
      "</article><article class=\"newsentry\">\n",
      "  <header class=\"title\">\n",
      "    <time datetime=\"2018-10-11T13:47:50+02:00\">11 Oct 2018</time>\n",
      "    <h2 class=\"newstitle\">\n",
      "      <a href=\"https://www.php.net/archive/2018.php#id2018-10-11-1\" id=\"id2018-10-11-1\">PHP 7.3.0RC3 Released</a>\n",
      "    </h2>\n",
      "  </header>\n",
      "  <div class=\"newscontent\">\n",
      "    <div>\n",
      "      <p>\n",
      "        The PHP team is glad to announce the next PHP 7.3.0 pre-release, PHP 7.3.0RC3.\n",
      "        The rough outline of the PHP 7.3 release cycle is specified in the\n",
      "        <a href=\"https://wiki.php.net/todo/php73\">PHP Wiki</a>.\n",
      "      </p>\n",
      "\n",
      "      <p>\n",
      "        For source downloads of PHP 7.3.0RC3 please visit the <a href=\"https://downloads.php.net/~cmb/\">download page</a>.\n",
      "        Windows sources and binaries can be found on <a href=\"https://windows.php.net/qa/\">windows.php.net/qa/</a>.\n",
      "      </p>\n",
      "\n",
      "      <p>\n",
      "        Please carefully test this version and report any issues found in the <a href=\" https://bugs.php.net\">bug reporting system</a>.\n",
      "      </p>\n",
      "\n",
      "      <p>\n",
      "        <b>THIS IS A DEVELOPMENT PREVIEW - DO NOT USE IT IN PRODUCTION!</b>\n",
      "      </p>\n",
      "\n",
      "      <p>\n",
      "        For more information on the new features and other changes, you can read the\n",
      "        <a href=\"https://github.com/php/php-src/blob/php-7.3.0RC3/NEWS\">NEWS</a> file,\n",
      "        or the <a href=\"https://github.com/php/php-src/blob/php-7.3.0RC3/UPGRADING\">UPGRADING</a>\n",
      "        file for a complete list of upgrading notes. Internal changes are listed in the\n",
      "        <a href=\"https://github.com/php/php-src/blob/php-7.3.0RC3/UPGRADING.INTERNALS\">UPGRADING.INTERNALS</a> file.\n",
      "        These files can also be found in the release archive.\n",
      "      </p>\n",
      "\n",
      "      <p>\n",
      "        The next release would be RC4, planned for October 25th.\n",
      "      </p>\n",
      "\n",
      "      <p>\n",
      "        The signatures for the release can be found in <a href=\"https://gist.github.com/cmb69/3b521933b5524c92e880fc96559a5f5c\">the manifest</a>\n",
      "        or on <a href=\"https://qa.php.net/\">the QA site</a>.\n",
      "      </p>\n",
      "\n",
      "      <p>\n",
      "        Thank you for helping us make PHP better.\n",
      "      </p>\n",
      "    </div>\n",
      "  \n",
      "  </div>\n",
      "</article><article class=\"newsentry\">\n",
      "  <header class=\"title\">\n",
      "    <time datetime=\"2018-09-28T10:31:16+02:00\">28 Sep 2018</time>\n",
      "    <h2 class=\"newstitle\">\n",
      "      <a href=\"https://www.php.net/archive/2018.php#id2018-09-28-1\" id=\"id2018-09-28-1\">PHP 7.3.0RC2 Released</a>\n",
      "    </h2>\n",
      "  </header>\n",
      "  <div class=\"newscontent\">\n",
      "    <div>\n",
      "      <p>\n",
      "        The PHP team is glad to announce the next PHP 7.3.0 pre-release, PHP 7.3.0RC2.\n",
      "        The rough outline of the PHP 7.3 release cycle is specified in the\n",
      "        <a href=\"https://wiki.php.net/todo/php73\">PHP Wiki</a>.\n",
      "      </p>\n",
      "\n",
      "      <p>\n",
      "        For source downloads of PHP 7.3.0RC2 please visit the <a href=\"https://downloads.php.net/~cmb/\">download page</a>.\n",
      "        Windows sources and binaries can be found on <a href=\"https://windows.php.net/qa/\">windows.php.net/qa/</a>.\n",
      "      </p>\n",
      "\n",
      "      <p>\n",
      "        Please carefully test this version and report any issues found in the <a href=\" https://bugs.php.net\">bug reporting system</a>.\n",
      "      </p>\n",
      "\n",
      "      <p>\n",
      "        <b>THIS IS A DEVELOPMENT PREVIEW - DO NOT USE IT IN PRODUCTION!</b>\n",
      "      </p>\n",
      "\n",
      "      <p>\n",
      "        For more information on the new features and other changes, you can read the\n",
      "        <a href=\"https://github.com/php/php-src/blob/php-7.3.0RC2/NEWS\">NEWS</a> file,\n",
      "        or the <a href=\"https://github.com/php/php-src/blob/php-7.3.0RC2/UPGRADING\">UPGRADING</a>\n",
      "        file for a complete list of upgrading notes. Internal changes are listed in the\n",
      "        <a href=\"https://github.com/php/php-src/blob/php-7.3.0RC2/UPGRADING.INTERNALS\">UPGRADING.INTERNALS</a> file.\n",
      "        These files can also be found in the release archive.\n",
      "      </p>\n",
      "\n",
      "      <p>\n",
      "        The next release would be RC3, planned for October 11th.\n",
      "      </p>\n",
      "\n",
      "      <p>\n",
      "        The signatures for the release can be found in <a href=\"https://gist.github.com/cmb69/ffe9373d127254a19e73e73251e4ff7d\">the manifest</a>\n",
      "        or on <a href=\"https://qa.php.net/\">the QA site</a>.\n",
      "      </p>\n",
      "\n",
      "      <p>\n",
      "        Thank you for helping us make PHP better.\n",
      "      </p>\n",
      "    </div>\n",
      "  \n",
      "  </div>\n",
      "</article><article class=\"newsentry\">\n",
      "  <header class=\"title\">\n",
      "    <time datetime=\"2018-09-13T10:57:40+02:00\">13 Sep 2018</time>\n",
      "    <h2 class=\"newstitle\">\n",
      "      <a href=\"https://www.php.net/archive/2018.php#id2018-09-13-2\" id=\"id2018-09-13-2\">PHP 7.3.0RC1 Released</a>\n",
      "    </h2>\n",
      "  </header>\n",
      "  <div class=\"newscontent\">\n",
      "    <div>\n",
      "      <p>\n",
      "        The PHP team is glad to announce the release of the next PHP 7.3.0 pre-release, PHP 7.3.0RC1.\n",
      "        The rough outline of the PHP 7.3 release cycle is specified in the\n",
      "        <a href=\"https://wiki.php.net/todo/php73\">PHP Wiki</a>.\n",
      "      </p>\n",
      "\n",
      "      <p>\n",
      "        For source downloads of PHP 7.3.0RC1 please visit the <a href=\"https://downloads.php.net/~cmb/\">download page</a>.\n",
      "        Windows sources and binaries can be found on <a href=\"https://windows.php.net/qa/\">windows.php.net/qa/</a>.\n",
      "      </p>\n",
      "\n",
      "      <p>\n",
      "        Please carefully test this version and report any issues found in the <a href=\" https://bugs.php.net\">bug reporting system</a>.\n",
      "      </p>\n",
      "\n",
      "      <p>\n",
      "        <b>THIS IS A DEVELOPMENT PREVIEW - DO NOT USE IT IN PRODUCTION!</b>\n",
      "      </p>\n",
      "\n",
      "      <p>\n",
      "        For more information on the new features and other changes, you can read the\n",
      "        <a href=\"https://github.com/php/php-src/blob/php-7.3.0RC1/NEWS\">NEWS</a> file,\n",
      "        or the <a href=\"https://github.com/php/php-src/blob/php-7.3.0RC1/UPGRADING\">UPGRADING</a>\n",
      "        file for a complete list of upgrading notes. Internal changes are listed in the\n",
      "        <a href=\"https://github.com/php/php-src/blob/php-7.3.0RC1/UPGRADING.INTERNALS\">UPGRADING.INTERNALS</a> file.\n",
      "        These files can also be found in the release archive.\n",
      "      </p>\n",
      "\n",
      "      <p>\n",
      "        The next release would be RC2, planned for September 27th.\n",
      "      </p>\n",
      "\n",
      "      <p>\n",
      "        The signatures for the release can be found in <a href=\"https://gist.github.com/cmb69/224ae1ef28b1e3f2e0a62a4ab50966e4\">the manifest</a>\n",
      "        or on <a href=\"https://qa.php.net/\">the QA site</a>.\n",
      "      </p>\n",
      "\n",
      "      <p>\n",
      "        Thank you for helping us make PHP better.\n",
      "      </p>\n",
      "    </div>\n",
      "  \n",
      "  </div>\n",
      "</article><article class=\"newsentry\">\n",
      "  <header class=\"title\">\n",
      "    <time datetime=\"2018-08-30T17:37:34+02:00\">30 Aug 2018</time>\n",
      "    <h2 class=\"newstitle\">\n",
      "      <a href=\"https://www.php.net/archive/2018.php#id2018-08-30-1\" id=\"id2018-08-30-1\">PHP 7.3.0.beta3 Released</a>\n",
      "    </h2>\n",
      "  </header>\n",
      "  <div class=\"newscontent\">\n",
      "    <div>\n",
      "      <p>\n",
      "        The PHP team is glad to announce the release of the seventh PHP 7.3.0 version, PHP 7.3.0beta3.\n",
      "        The rough outline of the PHP 7.3 release cycle is specified in the\n",
      "        <a href=\"https://wiki.php.net/todo/php73\">PHP Wiki</a>.\n",
      "      </p>\n",
      "\n",
      "      <p>\n",
      "        For source downloads of PHP 7.3.0beta3 please visit the <a href=\"https://downloads.php.net/~cmb/\">download page</a>.\n",
      "        Windows sources and binaries can be found on <a href=\"https://windows.php.net/qa/\">windows.php.net/qa/</a>.\n",
      "      </p>\n",
      "\n",
      "      <p>\n",
      "        Please carefully test this version and report any issues found in the <a href=\" https://bugs.php.net\">bug reporting system</a>.\n",
      "      </p>\n",
      "\n",
      "      <p>\n",
      "        <b>THIS IS A DEVELOPMENT PREVIEW - DO NOT USE IT IN PRODUCTION!</b>\n",
      "      </p>\n",
      "\n",
      "      <p>\n",
      "        For more information on the new features and other changes, you can read the\n",
      "        <a href=\"https://github.com/php/php-src/blob/php-7.3.0beta3/NEWS\">NEWS</a> file,\n",
      "        or the <a href=\"https://github.com/php/php-src/blob/php-7.3.0beta3/UPGRADING\">UPGRADING</a>\n",
      "        file for a complete list of upgrading notes. Internal changes are listed in the\n",
      "        <a href=\"https://github.com/php/php-src/blob/php-7.3.0beta3/UPGRADING.INTERNALS\">UPGRADING.INTERNALS</a> file.\n",
      "        These files can also be found in the release archive.\n",
      "      </p>\n",
      "\n",
      "      <p>\n",
      "        The next release would be RC1, planned for September 13th.\n",
      "      </p>\n",
      "\n",
      "      <p>\n",
      "        The signatures for the release can be found in <a href=\"https://gist.github.com/cmb69/aeef8c8877a451ba6fce6f990dd3860b\">the manifest</a>\n",
      "        or on <a href=\"https://qa.php.net/\">the QA site</a>.\n",
      "      </p>\n",
      "\n",
      "      <p>\n",
      "        Thank you for helping us make PHP better.\n",
      "      </p>\n",
      "    </div>\n",
      "  \n",
      "  </div>\n",
      "</article><article class=\"newsentry\">\n",
      "  <header class=\"title\">\n",
      "    <time datetime=\"2018-08-16T14:11:38+02:00\">16 Aug 2018</time>\n",
      "    <h2 class=\"newstitle\">\n",
      "      <a href=\"https://www.php.net/archive/2018.php#id2018-08-16-1\" id=\"id2018-08-16-1\">PHP 7.3.0.beta2 Released</a>\n",
      "    </h2>\n",
      "  </header>\n",
      "  <div class=\"newscontent\">\n",
      "    <div>\n",
      "      <p>\n",
      "        The PHP team is glad to announce the release of the sixth PHP 7.3.0 version, PHP 7.3.0beta2.\n",
      "        The rough outline of the PHP 7.3 release cycle is specified in the\n",
      "        <a href=\"https://wiki.php.net/todo/php73\">PHP Wiki</a>.\n",
      "      </p>\n",
      "\n",
      "      <p>\n",
      "        For source downloads of PHP 7.3.0beta2 please visit the <a href=\"https://downloads.php.net/~cmb/\">download page</a>.\n",
      "        Windows sources and binaries can be found on <a href=\"https://windows.php.net/qa/\">windows.php.net/qa/</a>.\n",
      "      </p>\n",
      "\n",
      "      <p>\n",
      "        Please carefully test this version and report any issues found in the <a href=\" https://bugs.php.net\">bug reporting system</a>.\n",
      "      </p>\n",
      "\n",
      "      <p>\n",
      "        <b>THIS IS A DEVELOPMENT PREVIEW - DO NOT USE IT IN PRODUCTION!</b>\n",
      "      </p>\n",
      "\n",
      "      <p>\n",
      "        For more information on the new features and other changes, you can read the\n",
      "        <a href=\"https://github.com/php/php-src/blob/php-7.3.0beta2/NEWS\">NEWS</a> file,\n",
      "        or the <a href=\"https://github.com/php/php-src/blob/php-7.3.0beta2/UPGRADING\">UPGRADING</a>\n",
      "        file for a complete list of upgrading notes. Internal changes are listed in the\n",
      "        <a href=\"https://github.com/php/php-src/blob/php-7.3.0beta2/UPGRADING.INTERNALS\">UPGRADING.INTERNALS</a> file.\n",
      "        These files can also be found in the release archive.\n",
      "      </p>\n",
      "\n",
      "      <p>\n",
      "        The next release would be Beta 3, planned for August 30th.\n",
      "      </p>\n",
      "\n",
      "      <p>\n",
      "        The signatures for the release can be found in <a href=\"https://gist.github.com/cmb69/4bfd2f4d54ebc01cd37ba3dc86f1f814\">the manifest</a>\n",
      "        or on <a href=\"https://qa.php.net/\">the QA site</a>.\n",
      "      </p>\n",
      "\n",
      "      <p>\n",
      "        Thank you for helping us make PHP better.\n",
      "      </p>\n",
      "    </div>\n",
      "  \n",
      "  </div>\n",
      "</article><article class=\"newsentry\">\n",
      "  <header class=\"title\">\n",
      "    <time datetime=\"2018-08-02T11:44:58+02:00\">02 Aug 2018</time>\n",
      "    <h2 class=\"newstitle\">\n",
      "      <a href=\"https://www.php.net/archive/2018.php#id2018-08-02-1\" id=\"id2018-08-02-1\">PHP 7.3.0.beta1 Released</a>\n",
      "    </h2>\n",
      "  </header>\n",
      "  <div class=\"newscontent\">\n",
      "    <div>\n",
      "      <p>\n",
      "        The PHP team is glad to announce the release of the fifth PHP 7.3.0 version, PHP 7.3.0beta1.\n",
      "        The rough outline of the PHP 7.3 release cycle is specified in the\n",
      "        <a href=\"https://wiki.php.net/todo/php73\">PHP Wiki</a>.\n",
      "      </p>\n",
      "\n",
      "      <p>\n",
      "        For source downloads of PHP 7.3.0beta1 please visit the <a href=\"https://downloads.php.net/~cmb/\">download page</a>.\n",
      "        Windows sources and binaries can be found on <a href=\"https://windows.php.net/qa/\">windows.php.net/qa/</a>.\n",
      "      </p>\n",
      "\n",
      "      <p>\n",
      "        Please carefully test this version and report any issues found in the <a href=\" https://bugs.php.net\">bug reporting system</a>.\n",
      "      </p>\n",
      "\n",
      "      <p>\n",
      "        <b>THIS IS A DEVELOPMENT PREVIEW - DO NOT USE IT IN PRODUCTION!</b>\n",
      "      </p>\n",
      "\n",
      "      <p>\n",
      "        For more information on the new features and other changes, you can read the\n",
      "        <a href=\"https://github.com/php/php-src/blob/php-7.3.0beta1/NEWS\">NEWS</a> file,\n",
      "        or the <a href=\"https://github.com/php/php-src/blob/php-7.3.0beta1/UPGRADING\">UPGRADING</a>\n",
      "        file for a complete list of upgrading notes. These files can also be found in the release archive.\n",
      "      </p>\n",
      "\n",
      "      <p>\n",
      "        The next release would be Beta 2, planned for August 16th.\n",
      "      </p>\n",
      "\n",
      "      <p>\n",
      "        The signatures for the release can be found in <a href=\"https://gist.github.com/cmb69/e666c3f1622321f868de9282bee67e43\">the manifest</a>\n",
      "        or on <a href=\"https://qa.php.net/\">the QA site</a>.\n",
      "      </p>\n",
      "\n",
      "      <p>\n",
      "        Thank you for helping us make PHP better.\n",
      "      </p>\n",
      "\n",
      "    </div>\n",
      "  \n",
      "  </div>\n",
      "</article><article class=\"newsentry\">\n",
      "  <header class=\"title\">\n",
      "    <time datetime=\"2018-07-19T11:02:21+02:00\">19 Jul 2018</time>\n",
      "    <h2 class=\"newstitle\">\n",
      "      <a href=\"https://www.php.net/archive/2018.php#id2018-07-19-1\" id=\"id2018-07-19-1\">PHP 7.3.0alpha4 Released</a>\n",
      "    </h2>\n",
      "  </header>\n",
      "  <div class=\"newscontent\">\n",
      "    <div>\n",
      "      <p>\n",
      "        The PHP team is glad to announce the release of the fourth PHP 7.3.0 version, PHP 7.3.0alpha4.\n",
      "        The rough outline of the PHP 7.3 release cycle is specified in the\n",
      "        <a href=\"https://wiki.php.net/todo/php73\">PHP Wiki</a>.\n",
      "      </p>\n",
      "\n",
      "      <p>\n",
      "        For source downloads of PHP 7.3.0alpha4 please visit the <a href=\"https://downloads.php.net/~cmb/\">download page</a>.\n",
      "        Windows sources and binaries can be found on <a href=\"https://windows.php.net/qa/\">windows.php.net/qa/</a>.\n",
      "      </p>\n",
      "\n",
      "      <p>\n",
      "        Please carefully test this version and report any issues found in the <a href=\" https://bugs.php.net\">bug reporting system</a>.\n",
      "      </p>\n",
      "\n",
      "      <p>\n",
      "        <b>THIS IS A DEVELOPMENT PREVIEW - DO NOT USE IT IN PRODUCTION!</b>\n",
      "      </p>\n",
      "\n",
      "      <p>\n",
      "        For more information on the new features and other changes, you can read the\n",
      "        <a href=\"https://github.com/php/php-src/blob/php-7.3.0alpha4/NEWS\">NEWS</a> file,\n",
      "        or the <a href=\"https://github.com/php/php-src/blob/php-7.3.0alpha4/UPGRADING\">UPGRADING</a>\n",
      "        file for a complete list of upgrading notes. These files can also be found in the release archive.\n",
      "      </p>\n",
      "\n",
      "      <p>\n",
      "        The next release would be Beta 1, planned for August 2nd.\n",
      "      </p>\n",
      "\n",
      "      <p>\n",
      "        The signatures for the release can be found in <a href=\"https://gist.github.com/cmb69/b30366855341382046687ce7adb20f69\">the manifest</a> or on <a href=\"https://qa.php.net/\">the QA site</a>.\n",
      "      </p>\n",
      "\n",
      "      <p>\n",
      "        Thank you for helping us make PHP better.\n",
      "      </p>\n",
      "    </div>\n",
      "  \n",
      "  </div>\n",
      "</article><article class=\"newsentry\">\n",
      "  <header class=\"title\">\n",
      "    <time datetime=\"2018-07-05T11:41:41+02:00\">05 Jul 2018</time>\n",
      "    <h2 class=\"newstitle\">\n",
      "      <a href=\"https://www.php.net/archive/2018.php#id2018-07-05-1\" id=\"id2018-07-05-1\">PHP 7.3.0 alpha 3 Released</a>\n",
      "    </h2>\n",
      "  </header>\n",
      "  <div class=\"newscontent\">\n",
      "    <div>\n",
      "     <p>\n",
      "      The PHP team is glad to announce the release of the third PHP 7.3.0 version, PHP 7.3.0 Alpha 3.\n",
      "      The rough outline of the PHP 7.3 release cycle is specified in the\n",
      "      <a href=\"https://wiki.php.net/todo/php73\">PHP Wiki</a>.\n",
      "     </p>\n",
      "\n",
      "     <p>\n",
      "      For source downloads of PHP 7.3.0 Alpha 3 please visit the <a href=\"https://downloads.php.net/~cmb/\">download page</a>.\n",
      "      Windows sources and binaries can be found on <a href=\"https://windows.php.net/qa/\">windows.php.net/qa/</a>.\n",
      "     </p>\n",
      "\n",
      "     <p>\n",
      "      Please carefully test this version and report any issues found in the <a href=\" http://bugs.php.net\">bug reporting system</a>.\n",
      "     </p>\n",
      "\n",
      "     <p>\n",
      "      <b>THIS IS A DEVELOPMENT PREVIEW - DO NOT USE IT IN PRODUCTION!</b>\n",
      "     </p>\n",
      "\n",
      "     <p>\n",
      "      For more information on the new features and other changes, you can read the\n",
      "      <a href=\"https://github.com/php/php-src/blob/php-7.3.0alpha3/NEWS\">NEWS</a> file,\n",
      "      or the <a href=\"https://github.com/php/php-src/blob/php-7.3.0alpha3/UPGRADING\">UPGRADING</a>\n",
      "      file for a complete list of upgrading notes. These files can also be found in the release archive.\n",
      "     </p>\n",
      "\n",
      "     <p>\n",
      "      The next release would be Beta 1, planned for July 19th.\n",
      "     </p>\n",
      "\n",
      "     <p>\n",
      "      The signatures for the release can be found in <a href=\"https://gist.github.com/cmb69/e2e76ac0072474b019b0c9f1aef249f1\">the manifest</a> or on <a href=\"https://qa.php.net/\">the QA site</a>.\n",
      "     </p>\n",
      "\n",
      "     <p>\n",
      "      Thank you for helping us make PHP better.\n",
      "     </p>\n",
      "    </div>\n",
      "  \n",
      "  </div>\n",
      "</article><article class=\"newsentry\">\n",
      "  <header class=\"title\">\n",
      "    <time datetime=\"2018-06-21T11:46:20+02:00\">21 Jun 2018</time>\n",
      "    <h2 class=\"newstitle\">\n",
      "      <a href=\"https://www.php.net/archive/2018.php#id2018-06-21-1\" id=\"id2018-06-21-1\">PHP 7.3.0 alpha 2 Released</a>\n",
      "    </h2>\n",
      "  </header>\n",
      "  <div class=\"newscontent\">\n",
      "    <div>\n",
      "     <p>\n",
      "      The PHP team is glad to announce the release of the second PHP 7.3.0 version, PHP 7.3.0 Alpha 2.\n",
      "      The rough outline of the PHP 7.3 release cycle is specified in the\n",
      "      <a href=\"https://wiki.php.net/todo/php73\">PHP Wiki</a>.\n",
      "     </p>\n",
      "\n",
      "     <p>\n",
      "      For source downloads of PHP 7.3.0 Alpha 2 please visit the <a href=\"https://downloads.php.net/~cmb/\">download page</a>.\n",
      "      Windows sources and binaries can be found on <a href=\"https://windows.php.net/qa/\">windows.php.net/qa/</a>.\n",
      "     </p>\n",
      "\n",
      "     <p>\n",
      "      Please carefully test this version and report any issues found in the <a href=\" http://bugs.php.net\">bug reporting system</a>.\n",
      "     </p>\n",
      "\n",
      "     <p>\n",
      "      <b>THIS IS A DEVELOPMENT PREVIEW - DO NOT USE IT IN PRODUCTION!</b>\n",
      "     </p>\n",
      "\n",
      "     <p>\n",
      "      For more information on the new features and other changes, you can read the\n",
      "      <a href=\"https://github.com/php/php-src/blob/php-7.3.0alpha2/NEWS\">NEWS</a> file,\n",
      "      or the <a href=\"https://github.com/php/php-src/blob/php-7.3.0alpha2/UPGRADING\">UPGRADING</a>\n",
      "      file for a complete list of upgrading notes. These files can also be found in the release archive.\n",
      "     </p>\n",
      "\n",
      "     <p>\n",
      "      The next release would be Alpha 3, planned for July 5.\n",
      "     </p>\n",
      "\n",
      "     <p>\n",
      "      The signatures for the release can be found in <a href=\"https://gist.github.com/cmb69/2c54d0972b296a905062f52c0852e7cb\">the manifest</a> or on <a href=\"https://qa.php.net/\">the QA site</a>.\n",
      "     </p>\n",
      "\n",
      "     <p>\n",
      "      Thank you for helping us make PHP better.\n",
      "     </p>\n",
      "    </div>\n",
      "  \n",
      "  </div>\n",
      "</article><article class=\"newsentry\">\n",
      "  <header class=\"title\">\n",
      "    <time datetime=\"2018-06-07T18:36:37+00:00\">07 Jun 2018</time>\n",
      "    <h2 class=\"newstitle\">\n",
      "      <a href=\"https://www.php.net/archive/2018.php#id2018-06-07-1\" id=\"id2018-06-07-1\">PHP 7.3.0 alpha 1 Released</a>\n",
      "    </h2>\n",
      "  </header>\n",
      "  <div class=\"newscontent\">\n",
      "    <div>\n",
      "     <p>\n",
      "     PHP team is glad to announce the release of the first PHP 7.3.0 version, PHP 7.3.0 Alpha 1.\n",
      "\t This starts the PHP 7.3 release cycle, the rough outline of which is specified in the\n",
      "\t <a href=\"https://wiki.php.net/todo/php73\">PHP Wiki</a>.\n",
      "     </p>\n",
      "\n",
      "     <p>For source downloads of PHP 7.3.0 Alpha 1 please visit the <a href=\"https://downloads.php.net/~stas/\">download page</a>.</p>\n",
      "\n",
      "     <p>\n",
      "     Please carefully test this version and report any issues found in the <a href=\" http://bugs.php.net\">bug reporting system</a>.\n",
      "     </p>\n",
      "\n",
      "     <p>\n",
      "     <b>Please DO NOT use this version in production, it is an early test version.</b>\n",
      "     </p>\n",
      "\n",
      "     <p>\n",
      "\t     For more information on the new features and other changes, you can read the\n",
      "\t     <a href=\"https://github.com/php/php-src/blob/php-7.3.0alpha1/NEWS\">NEWS</a> file,\n",
      "\t     or the <a href=\"https://github.com/php/php-src/blob/php-7.3.0alpha1/UPGRADING\">UPGRADING</a>\n",
      "\t     file for a complete list of upgrading notes. These files can also be found in the release archive.\n",
      "\t </p>\n",
      "\n",
      "     <p>\n",
      "     The next release would be Alpha 2, planned for June 21.\n",
      "     </p>\n",
      "\n",
      "     <p>The signatures for the release can be found in <a href=\"https://gist.github.com/smalyshev/b0994d4dd138007237911429702ee040\">the manifest</a> or on <a href=\"https://qa.php.net/\">the QA site</a>.\n",
      "     </p>\n",
      "\n",
      "     <p>Thank you for helping us make PHP better.</p>\n",
      "    </div>\n",
      "  \n",
      "  </div>\n",
      "</article><article class=\"newsentry\">\n",
      "  <header class=\"title\">\n",
      "    <time datetime=\"2018-02-01T09:12:34+00:00\">01 Feb 2018</time>\n",
      "    <h2 class=\"newstitle\">\n",
      "      <a href=\"https://www.php.net/archive/2018.php#id2018-02-01-1\" id=\"id2018-02-01-1\">PHP 7.2.2 Released</a>\n",
      "    </h2>\n",
      "  </header>\n",
      "  <div class=\"newscontent\">\n",
      "    <div>\n",
      "      <p>The PHP development team announces the immediate availability of PHP\n",
      "      7.2.2. This is a bugfix release, with several bug fixes included.</p>\n",
      "\n",
      "      <p>All PHP 7.2 users are encouraged to upgrade to this version.</p>\n",
      "\n",
      "      <p>For source downloads of PHP 7.2.2 please visit our <a href=\"http://www.php.net/downloads.php\">downloads page</a>,\n",
      "      Windows source and binaries can be found on <a href=\"http://windows.php.net/download/\">windows.php.net/download/</a>.\n",
      "      The list of changes is recorded in the <a href=\"http://www.php.net/ChangeLog-7.php#7.2.2\">ChangeLog</a>.\n",
      "      </p>\n",
      "    </div>\n",
      "  \n",
      "  </div>\n",
      "</article><article class=\"newsentry\">\n",
      "  <header class=\"title\">\n",
      "    <time datetime=\"2017-10-12T11:46:49+02:00\">12 Oct 2017</time>\n",
      "    <h2 class=\"newstitle\">\n",
      "      <a href=\"https://www.php.net/archive/2017.php#id2017-10-12-1\" id=\"id2017-10-12-1\">PHP 7.2.0 Release Candidate 4 Released</a>\n",
      "    </h2>\n",
      "  </header>\n",
      "  <div class=\"newscontent\">\n",
      "    <div>\n",
      "     <p>\n",
      "     The PHP development team announces the immediate availability of PHP 7.2.0 RC4.\n",
      "     This release is the fourth Release Candidate for 7.2.0.\n",
      "     All users of PHP are encouraged to test this version carefully, and report any bugs\n",
      "     and incompatibilities in the <a href=\"https://bugs.php.net/\">bug tracking system</a>.\n",
      "     </p>\n",
      "\n",
      "     <p><strong>THIS IS A DEVELOPMENT PREVIEW - DO NOT USE IT IN PRODUCTION!</strong></p>\n",
      "\n",
      "     <p>\n",
      "     For more information on the new features and other changes, you can read the\n",
      "     <a href=\"https://github.com/php/php-src/blob/php-7.2.0RC4/NEWS\">NEWS</a> file,\n",
      "     or the <a href=\"https://github.com/php/php-src/blob/php-7.2.0RC4/UPGRADING\">UPGRADING</a>\n",
      "     file for a complete list of upgrading notes. These files can also be found in the release archive.\n",
      "     </p>\n",
      "\n",
      "     <p>\n",
      "     For source downloads of PHP 7.2.0 Release Candidate 4 please visit the\n",
      "     <a href=\"https://downloads.php.net/~remi/\">download</a> page,\n",
      "     Windows sources and binaries can be found at\n",
      "     <a href=\"http://windows.php.net/qa/\">windows.php.net/qa/</a>.\n",
      "     </p>\n",
      "\n",
      "     <p>\n",
      "     The next Release Candidate will be announced on the 26th of October.\n",
      "     You can also read the full list of planned releases on\n",
      "     <a href=\"https://wiki.php.net/todo/php72\">our wiki</a>.\n",
      "     </p>\n",
      "\n",
      "     <p>Thank you for helping us make PHP better.</p>\n",
      "    </div>\n",
      "  \n",
      "  </div>\n",
      "</article><article class=\"newsentry\">\n",
      "  <header class=\"title\">\n",
      "    <time datetime=\"2017-09-28T12:58:56+02:00\">28 Sep 2017</time>\n",
      "    <h2 class=\"newstitle\">\n",
      "      <a href=\"https://www.php.net/archive/2017.php#id2017-09-28-2\" id=\"id2017-09-28-2\">PHP 7.2.0 Release Candidate 3 Released</a>\n",
      "    </h2>\n",
      "  </header>\n",
      "  <div class=\"newscontent\">\n",
      "    <div>\n",
      "     <p>\n",
      "     The PHP development team announces the immediate availability of PHP 7.2.0 RC3.\n",
      "     This release is the third Release Candidate for 7.2.0.\n",
      "     All users of PHP are encouraged to test this version carefully, and report any bugs\n",
      "     and incompatibilities in the <a href=\"https://bugs.php.net/\">bug tracking system</a>.\n",
      "     </p>\n",
      "\n",
      "     <p><strong>THIS IS A DEVELOPMENT PREVIEW - DO NOT USE IT IN PRODUCTION!</strong></p>\n",
      "\n",
      "     <p>\n",
      "     For more information on the new features and other changes, you can read the\n",
      "     <a href=\"https://github.com/php/php-src/blob/php-7.2.0RC3/NEWS\">NEWS</a> file,\n",
      "     or the <a href=\"https://github.com/php/php-src/blob/php-7.2.0RC3/UPGRADING\">UPGRADING</a>\n",
      "     file for a complete list of upgrading notes. These files can also be found in the release archive.\n",
      "     </p>\n",
      "\n",
      "     <p>\n",
      "     For source downloads of PHP 7.2.0 Release Candidate 3 please visit the\n",
      "     <a href=\"https://downloads.php.net/~remi/\">download</a> page,\n",
      "     Windows sources and binaries can be found at\n",
      "     <a href=\"http://windows.php.net/qa/\">windows.php.net/qa/</a>.\n",
      "     </p>\n",
      "\n",
      "     <p>\n",
      "     The next Release Candidate will be announced on the 12th of October.\n",
      "     You can also read the full list of planned releases on\n",
      "     <a href=\"https://wiki.php.net/todo/php72\">our wiki</a>.\n",
      "     </p>\n",
      "\n",
      "     <p>Thank you for helping us make PHP better.</p>\n",
      "    </div>\n",
      "  \n",
      "  </div>\n",
      "</article><article class=\"newsentry\">\n",
      "  <header class=\"title\">\n",
      "    <time datetime=\"2017-08-31T10:53:58+02:00\">31 Aug 2017</time>\n",
      "    <h2 class=\"newstitle\">\n",
      "      <a href=\"https://www.php.net/archive/2017.php#id2017-08-31-1\" id=\"id2017-08-31-1\">PHP 7.2.0 Release Candidate 1 Released</a>\n",
      "    </h2>\n",
      "  </header>\n",
      "  <div class=\"newscontent\">\n",
      "    <div>\n",
      "      <p>\n",
      "      The PHP development team announces the immediate availability of PHP 7.2.0 Release\n",
      "      Candidate 1. This release is the first Release Candidate for 7.2.0.\n",
      "      All users of PHP are encouraged to test this version carefully, and report any bugs\n",
      "      and incompatibilities in the <a href=\"https://bugs.php.net/\">bug tracking system</a>.\n",
      "      </p>\n",
      "\n",
      "      <p><strong>THIS IS A DEVELOPMENT PREVIEW - DO NOT USE IT IN PRODUCTION!</strong></p>\n",
      "\n",
      "      <p>\n",
      "      For more information on the new features and other changes, you can read the\n",
      "      <a href=\"https://github.com/php/php-src/blob/php-7.2.0RC1/NEWS\">NEWS</a> file,\n",
      "      or the <a href=\"https://github.com/php/php-src/blob/php-7.2.0RC1/UPGRADING\">UPGRADING</a>\n",
      "      file for a complete list of upgrading notes. These files can also be found in the release archive.\n",
      "      </p>\n",
      "\n",
      "      <p>\n",
      "      For source downloads of PHP 7.2.0 Release Candidate 1 please visit the\n",
      "      <a href=\"https://downloads.php.net/~remi/\">download</a> page,\n",
      "      Windows sources and binaries can be found at\n",
      "      <a href=\"http://windows.php.net/qa/\">windows.php.net/qa/</a>.\n",
      "      </p>\n",
      "\n",
      "      <p>\n",
      "      The second Release Candidate will be released on the 14th of September.\n",
      "      You can also read the full list of planned releases on\n",
      "      <a href=\"https://wiki.php.net/todo/php72\">our wiki</a>.\n",
      "      </p>\n",
      "\n",
      "      <p>Thank you for helping us make PHP better.</p>\n",
      "    </div>\n",
      "  \n",
      "  </div>\n",
      "</article><article class=\"newsentry\">\n",
      "  <header class=\"title\">\n",
      "    <time datetime=\"2017-08-17T10:17:44+02:00\">17 Aug 2017</time>\n",
      "    <h2 class=\"newstitle\">\n",
      "      <a href=\"https://www.php.net/archive/2017.php#id2017-08-17-1\" id=\"id2017-08-17-1\">PHP 7.2.0 Beta 3 Released</a>\n",
      "    </h2>\n",
      "  </header>\n",
      "  <div class=\"newscontent\">\n",
      "    <div>\n",
      "      <p>\n",
      "      The PHP development team announces the immediate availability of PHP 7.2.0 Beta 3.\n",
      "      This release is the third and final beta for 7.2.0. All users of PHP are encouraged\n",
      "      to test this version carefully, and report any bugs and incompatibilities in the\n",
      "      <a href=\"https://bugs.php.net/\">bug tracking system</a>.\n",
      "      </p>\n",
      "\n",
      "      <p><strong>THIS IS A DEVELOPMENT PREVIEW - DO NOT USE IT IN PRODUCTION!</strong></p>\n",
      "\n",
      "      <p>\n",
      "      For more information on the new features and other changes, you can read the\n",
      "      <a href=\"https://github.com/php/php-src/blob/php-7.2.0beta3/NEWS\">NEWS</a> file,\n",
      "      or the <a href=\"https://github.com/php/php-src/blob/php-7.2.0beta3/UPGRADING\">UPGRADING</a>\n",
      "      file for a complete list of upgrading notes. These files can also be found in the release archive.\n",
      "      </p>\n",
      "\n",
      "      <p>\n",
      "      For source downloads of PHP 7.2.0 Beta 3 please visit the\n",
      "      <a href=\"https://downloads.php.net/~remi/\">download</a> page,\n",
      "      Windows sources and binaries can be found at\n",
      "      <a href=\"http://windows.php.net/qa/\">windows.php.net/qa/</a>.\n",
      "      </p>\n",
      "\n",
      "      <p>\n",
      "      The first Release Candidate will be released on the 31th of August.\n",
      "      You can also read the full list of planned releases on\n",
      "      <a href=\"https://wiki.php.net/todo/php72\">our wiki</a>.\n",
      "      </p>\n",
      "\n",
      "      <p>Thank you for helping us make PHP better.</p>\n",
      "    </div>\n",
      "  \n",
      "  </div>\n",
      "</article><article class=\"newsentry\">\n",
      "  <header class=\"title\">\n",
      "    <time datetime=\"2017-07-06T12:25:08+02:00\">06 Jul 2017</time>\n",
      "    <h2 class=\"newstitle\">\n",
      "      <a href=\"https://www.php.net/archive/2017.php#id2017-07-06-2\" id=\"id2017-07-06-2\">PHP 7.2.0 Alpha 3 Released</a>\n",
      "    </h2>\n",
      "  </header>\n",
      "  <div class=\"newscontent\">\n",
      "    <div>\n",
      "     <p>The PHP development team announces the immediate availability of PHP 7.2.0 Alpha 3.\n",
      "     This release contains fixes and improvements relative to Alpha 2.\n",
      "     All users of PHP are encouraged to test this version carefully,\n",
      "     and report any bugs and incompatibilities in the\n",
      "     <a href=\"https://bugs.php.net/\">bug tracking system</a>.</p>\n",
      "\n",
      "     <p><strong>THIS IS A DEVELOPMENT PREVIEW - DO NOT USE IT IN PRODUCTION!</strong></p>\n",
      "\n",
      "     <p>For information on new features and other changes, you can read the\n",
      "     <a href=\"https://github.com/php/php-src/blob/php-7.2.0alpha3/NEWS\">NEWS</a> file,\n",
      "     or the <a href=\"https://github.com/php/php-src/blob/php-7.2.0alpha3/UPGRADING\">UPGRADING</a> file\n",
      "     for a complete list of upgrading notes. These files can also be found in the release archive.</p>\n",
      "\n",
      "     <p>For source downloads of PHP 7.2.0 Alpha 3 please visit the <a href=\"https://downloads.php.net/~remi/\">download</a> page,\n",
      "     Windows sources and binaries can be found on <a href=\"http://windows.php.net/qa/\">windows.php.net/qa/</a>.</p>\n",
      "\n",
      "     <p>The first beta will be released on the 20th of July. You can also read the full list of planned releases on our\n",
      "     <a href=\"https://wiki.php.net/todo/php72#timetable\">wiki</a>.</p>\n",
      "\n",
      "     <p>Thank you for helping us make PHP better.</p>\n",
      "    </div>\n",
      "  \n",
      "  </div>\n",
      "</article><p class=\"archive\"><a href=\"/archive/\">Older News Entries</a></p></div>    </section><!-- layout-content -->\n",
      "    \n",
      "<aside class=\"tips\">\n",
      "    <div class=\"inner\">\n",
      "<div class=\"panel\">  <a class=\"headline\" href=\"/conferences\" title=\"Upcoming conferences\">Upcoming conferences</a><div class=\"body\"><ul><li><a href=\"https://www.php.net/conferences/index.php#id2020-02-17-1\" title=\"LoopRun Barcelona 2020\">LoopRun Barcelona 2020</a></li><li><a href=\"https://www.php.net/conferences/index.php#id2020-01-30-1\" title=\"php[tek] 2020\">php[tek] 2020</a></li><li><a href=\"https://www.php.net/conferences/index.php#id2020-01-12-1\" title=\"Midwest PHP 2020\">Midwest PHP 2020</a></li><li><a href=\"https://www.php.net/conferences/index.php#id2020-01-11-1\" title=\"PHP Russia 2020\">PHP Russia 2020</a></li></ul></div></div>\n",
      "    <p class=\"panel\"><a href=\"/cal.php\">User Group Events</a></p>\n",
      "    <p class=\"panel\"><a href=\"/thanks.php\">Special Thanks</a></p>\n",
      "    <p class=\"panel social-media\">\n",
      "      <span class=\"headline\">Social media</span>\n",
      "      </p><div class=\"body\">\n",
      "        <ul>\n",
      "          <li>\n",
      "            <a href=\"https://twitter.com/official_php\">\n",
      "              <i class=\"icon-twitter\"></i>\n",
      "              @official_php\n",
      "            </a>\n",
      "          </li>\n",
      "        </ul>\n",
      "      </div>\n",
      "    <p></p>\n",
      "</div>\n",
      "</aside>\n",
      "\n",
      "  </div><!-- layout -->\n",
      "\n",
      "  <footer>\n",
      "    <div class=\"container footer-content\">\n",
      "      <div class=\"row-fluid\">\n",
      "      <ul class=\"footmenu\">\n",
      "        <li><a href=\"/copyright.php\">Copyright © 2001-2020 The PHP Group</a></li>\n",
      "        <li><a href=\"/my.php\">My PHP.net</a></li>\n",
      "        <li><a href=\"/contact.php\">Contact</a></li>\n",
      "        <li><a href=\"/sites.php\">Other PHP.net sites</a></li>\n",
      "        <li><a href=\"/privacy.php\">Privacy policy</a></li>\n",
      "      </ul>\n",
      "      </div>\n",
      "    </div>\n",
      "  </footer>\n",
      "\n",
      "    <div class=\"elephpants\"><div class=\"images\"></div></div>\n",
      " <!-- External and third party libraries. -->\n",
      " <script src=\"//ajax.googleapis.com/ajax/libs/jquery/1.10.2/jquery.min.js\"></script>\n",
      "<script src=\"/cached.php?t=1421837618&amp;f=/js/ext/modernizr.js\"></script>\n",
      "<script src=\"/cached.php?t=1421837618&amp;f=/js/ext/hogan-2.0.0.min.js\"></script>\n",
      "<script src=\"/cached.php?t=1421837618&amp;f=/js/ext/typeahead.min.js\"></script>\n",
      "<script src=\"/cached.php?t=1421837618&amp;f=/js/ext/mousetrap.min.js\"></script>\n",
      "<script src=\"/cached.php?t=1421837618&amp;f=/js/search.js\"></script>\n",
      "<script src=\"/cached.php?t=1539765004&amp;f=/js/common.js\"></script>\n",
      "\n",
      "<a href=\"javascript:;\" id=\"toTop\"><span id=\"toTopHover\"></span><img alt=\"To Top\" height=\"40\" src=\"/images/to-top@2x.png\" width=\"40\"/></a>\n",
      "\n",
      "\n",
      "\n",
      "</body></html>\n"
     ]
    }
   ],
   "source": [
    "print(soup)"
   ]
  },
  {
   "cell_type": "code",
   "execution_count": 38,
   "metadata": {},
   "outputs": [
    {
     "name": "stderr",
     "output_type": "stream",
     "text": [
      "[nltk_data] Downloading package punkt to\n",
      "[nltk_data]     C:\\Users\\Mridula\\AppData\\Roaming\\nltk_data...\n",
      "[nltk_data]   Unzipping tokenizers\\punkt.zip.\n"
     ]
    },
    {
     "data": {
      "text/plain": [
       "True"
      ]
     },
     "execution_count": 38,
     "metadata": {},
     "output_type": "execute_result"
    }
   ],
   "source": [
    "nltk.download('punkt')"
   ]
  },
  {
   "cell_type": "code",
   "execution_count": 39,
   "metadata": {},
   "outputs": [
    {
     "ename": "NameError",
     "evalue": "name 'raw' is not defined",
     "output_type": "error",
     "traceback": [
      "\u001b[1;31m---------------------------------------------------------------------------\u001b[0m",
      "\u001b[1;31mNameError\u001b[0m                                 Traceback (most recent call last)",
      "\u001b[1;32m<ipython-input-39-80b817d64d4f>\u001b[0m in \u001b[0;36m<module>\u001b[1;34m\u001b[0m\n\u001b[1;32m----> 1\u001b[1;33m \u001b[0mtokens\u001b[0m \u001b[1;33m=\u001b[0m \u001b[0mnltk\u001b[0m\u001b[1;33m.\u001b[0m\u001b[0mword_tokenize\u001b[0m\u001b[1;33m(\u001b[0m\u001b[0mraw\u001b[0m\u001b[1;33m)\u001b[0m\u001b[1;33m\u001b[0m\u001b[1;33m\u001b[0m\u001b[0m\n\u001b[0m\u001b[0;32m      2\u001b[0m \u001b[0mtokens\u001b[0m\u001b[1;33m[\u001b[0m\u001b[1;33m:\u001b[0m\u001b[1;36m10\u001b[0m\u001b[1;33m]\u001b[0m\u001b[1;33m\u001b[0m\u001b[1;33m\u001b[0m\u001b[0m\n",
      "\u001b[1;31mNameError\u001b[0m: name 'raw' is not defined"
     ]
    }
   ],
   "source": [
    "tokens = nltk.word_tokenize(raw)\n",
    "tokens[:10]"
   ]
  },
  {
   "cell_type": "code",
   "execution_count": 40,
   "metadata": {},
   "outputs": [
    {
     "ename": "NameError",
     "evalue": "name 'tokens' is not defined",
     "output_type": "error",
     "traceback": [
      "\u001b[1;31m---------------------------------------------------------------------------\u001b[0m",
      "\u001b[1;31mNameError\u001b[0m                                 Traceback (most recent call last)",
      "\u001b[1;32m<ipython-input-40-66e506443db0>\u001b[0m in \u001b[0;36m<module>\u001b[1;34m\u001b[0m\n\u001b[1;32m----> 1\u001b[1;33m \u001b[0mtext\u001b[0m \u001b[1;33m=\u001b[0m \u001b[0mnltk\u001b[0m\u001b[1;33m.\u001b[0m\u001b[0mText\u001b[0m\u001b[1;33m(\u001b[0m\u001b[0mtokens\u001b[0m\u001b[1;33m)\u001b[0m\u001b[1;33m\u001b[0m\u001b[1;33m\u001b[0m\u001b[0m\n\u001b[0m\u001b[0;32m      2\u001b[0m \u001b[0mtext1\u001b[0m \u001b[1;33m=\u001b[0m \u001b[0mtext\u001b[0m\u001b[1;33m.\u001b[0m\u001b[0mconcordance\u001b[0m\u001b[1;33m(\u001b[0m\u001b[1;34m'Preprocessor'\u001b[0m\u001b[1;33m)\u001b[0m\u001b[1;33m\u001b[0m\u001b[1;33m\u001b[0m\u001b[0m\n\u001b[0;32m      3\u001b[0m \u001b[0mtext1\u001b[0m\u001b[1;33m\u001b[0m\u001b[1;33m\u001b[0m\u001b[0m\n",
      "\u001b[1;31mNameError\u001b[0m: name 'tokens' is not defined"
     ]
    }
   ],
   "source": [
    "text = nltk.Text(tokens)\n",
    "text1 = text.concordance('Preprocessor')\n",
    "text1"
   ]
  },
  {
   "cell_type": "code",
   "execution_count": 41,
   "metadata": {},
   "outputs": [
    {
     "ename": "NameError",
     "evalue": "name 'text' is not defined",
     "output_type": "error",
     "traceback": [
      "\u001b[1;31m---------------------------------------------------------------------------\u001b[0m",
      "\u001b[1;31mNameError\u001b[0m                                 Traceback (most recent call last)",
      "\u001b[1;32m<ipython-input-41-2952655817f3>\u001b[0m in \u001b[0;36m<module>\u001b[1;34m\u001b[0m\n\u001b[1;32m----> 1\u001b[1;33m \u001b[0mtext\u001b[0m\u001b[1;33m.\u001b[0m\u001b[0mdispersion_plot\u001b[0m\u001b[1;33m(\u001b[0m\u001b[1;33m[\u001b[0m\u001b[1;34m\"the\"\u001b[0m\u001b[1;33m,\u001b[0m \u001b[1;34m\"PHP\"\u001b[0m\u001b[1;33m,\u001b[0m \u001b[1;34m\"release\"\u001b[0m\u001b[1;33m,\u001b[0m \u001b[1;34m\"can\"\u001b[0m\u001b[1;33m,\u001b[0m \u001b[1;34m\"for\"\u001b[0m\u001b[1;33m]\u001b[0m\u001b[1;33m)\u001b[0m\u001b[1;33m\u001b[0m\u001b[1;33m\u001b[0m\u001b[0m\n\u001b[0m",
      "\u001b[1;31mNameError\u001b[0m: name 'text' is not defined"
     ]
    }
   ],
   "source": [
    "text.dispersion_plot([\"the\", \"PHP\", \"release\", \"can\", \"for\"])"
   ]
  },
  {
   "cell_type": "code",
   "execution_count": 42,
   "metadata": {},
   "outputs": [],
   "source": [
    "#Finding word freaquencies on webpage\n",
    "counts = nltk.FreqDist(nltk.word_tokenize(soup.text))"
   ]
  },
  {
   "cell_type": "code",
   "execution_count": 43,
   "metadata": {},
   "outputs": [
    {
     "name": "stdout",
     "output_type": "stream",
     "text": [
      "<FreqDist with 489 samples and 6037 outcomes>\n"
     ]
    },
    {
     "data": {
      "text/plain": [
       "FreqDist({'the': 396, '.': 340, 'PHP': 274, ',': 147, 'of': 146, 'in': 139, 'release': 137, 'can': 114, 'for': 114, 'be': 109, ...})"
      ]
     },
     "execution_count": 43,
     "metadata": {},
     "output_type": "execute_result"
    }
   ],
   "source": [
    "# Print word frequency\n",
    "print(counts)\n",
    "counts"
   ]
  },
  {
   "cell_type": "markdown",
   "metadata": {},
   "source": [
    "# 2.3. Problem Statement: Machine Learning 9-Clustering"
   ]
  },
  {
   "cell_type": "markdown",
   "metadata": {},
   "source": [
    "In this assignment students have to compress racoon grey scale image into 5 clusters. In the end, visualize both raw and compressed image and look for quality difference. The raw image is available in spicy.misc package with the name face.\n",
    "\n",
    "Hint:\n",
    "\n",
    "import numpy as np\n",
    "\n",
    "from sklearn import cluster, datasets\n",
    "\n",
    "from scipy import misc"
   ]
  },
  {
   "cell_type": "code",
   "execution_count": 44,
   "metadata": {},
   "outputs": [],
   "source": [
    "# First import neccessary libraries\n",
    "import numpy as np\n",
    "from sklearn import cluster, datasets\n",
    "from scipy import misc"
   ]
  },
  {
   "cell_type": "code",
   "execution_count": 45,
   "metadata": {},
   "outputs": [],
   "source": [
    "import matplotlib.pyplot as plt\n",
    "%matplotlib inline\n",
    "from scipy.misc import face\n",
    "from skimage.measure import compare_ssim as ssim"
   ]
  },
  {
   "cell_type": "code",
   "execution_count": 46,
   "metadata": {},
   "outputs": [],
   "source": [
    "from sklearn.cluster import KMeans"
   ]
  },
  {
   "cell_type": "code",
   "execution_count": 47,
   "metadata": {},
   "outputs": [],
   "source": [
    "faceGray = face(gray=True)"
   ]
  },
  {
   "cell_type": "code",
   "execution_count": 48,
   "metadata": {},
   "outputs": [
    {
     "data": {
      "text/plain": [
       "array([122, 126, 128, ..., 119, 115, 113], dtype=uint8)"
      ]
     },
     "execution_count": 48,
     "metadata": {},
     "output_type": "execute_result"
    }
   ],
   "source": [
    "faceGray[5]"
   ]
  },
  {
   "cell_type": "code",
   "execution_count": 49,
   "metadata": {},
   "outputs": [
    {
     "data": {
      "image/png": "[encoded data removed]",
      "text/plain": [
       "<Figure size 576x360 with 1 Axes>"
      ]
     },
     "metadata": {
      "needs_background": "light"
     },
     "output_type": "display_data"
    }
   ],
   "source": [
    "#check the optimal k value\n",
    "ks = range(1, 10)\n",
    "inertias = []\n",
    "\n",
    "for k in ks:\n",
    "    model = KMeans(n_clusters=k)\n",
    "    model.fit(faceGray)\n",
    "    inertias.append(model.inertia_)\n",
    "\n",
    "plt.figure(figsize=(8,5))\n",
    "plt.style.use('bmh')\n",
    "plt.plot(ks, inertias, '-o')\n",
    "plt.xlabel('Number of clusters, k')\n",
    "plt.ylabel('Inertia')\n",
    "plt.xticks(ks)\n",
    "plt.show()"
   ]
  },
  {
   "cell_type": "markdown",
   "metadata": {},
   "source": [
    "# Use K-Means Clustering"
   ]
  },
  {
   "cell_type": "code",
   "execution_count": 50,
   "metadata": {},
   "outputs": [
    {
     "data": {
      "text/plain": [
       "KMeans(algorithm='auto', copy_x=True, init='k-means++', max_iter=300,\n",
       "    n_clusters=5, n_init=4, n_jobs=None, precompute_distances='auto',\n",
       "    random_state=None, tol=0.0001, verbose=0)"
      ]
     },
     "execution_count": 50,
     "metadata": {},
     "output_type": "execute_result"
    }
   ],
   "source": [
    "n_clusters = 5\n",
    "np.random.seed(0)\n",
    "\n",
    "X = faceGray.reshape((-1, 1))\n",
    "kmeans = cluster.KMeans(n_clusters=n_clusters, n_init=4)\n",
    "kmeans.fit(X)"
   ]
  },
  {
   "cell_type": "code",
   "execution_count": 51,
   "metadata": {},
   "outputs": [],
   "source": [
    "from sklearn.metrics import homogeneity_score, completeness_score, \\\n",
    "v_measure_score, adjusted_rand_score, adjusted_mutual_info_score, silhouette_score\n"
   ]
  },
  {
   "cell_type": "code",
   "execution_count": 52,
   "metadata": {},
   "outputs": [],
   "source": [
    "def k_means(n_clust, data):\n",
    "    k_means = cluster.KMeans(n_clusters = n_clust, random_state=123, n_init=30)\n",
    "    k_means.fit(data)\n",
    "    c_labels = k_means.labels_\n",
    "    #df = pd.DataFrame({'clust_label': c_labels})\n",
    "    #ct = pd.crosstab(df['clust_label'])\n",
    "    y_clust = k_means.predict(data)\n",
    "    #display(ct)\n",
    "    print('% 9s' % 'inertia silhouette')\n",
    "    print('%i    %.3f'\n",
    "      %(k_means.inertia_,\n",
    "      silhouette_score(data, y_clust, metric='euclidean')))"
   ]
  },
  {
   "cell_type": "code",
   "execution_count": 53,
   "metadata": {},
   "outputs": [
    {
     "name": "stdout",
     "output_type": "stream",
     "text": [
      "inertia silhouette\n",
      "1126315379    0.224\n"
     ]
    }
   ],
   "source": [
    "k_means(n_clust=5, data=faceGray)"
   ]
  },
  {
   "cell_type": "code",
   "execution_count": 54,
   "metadata": {},
   "outputs": [
    {
     "name": "stdout",
     "output_type": "stream",
     "text": [
      "<function k_means at 0x00000226E9A41400>\n"
     ]
    }
   ],
   "source": [
    "print(k_means)"
   ]
  },
  {
   "cell_type": "code",
   "execution_count": 55,
   "metadata": {},
   "outputs": [],
   "source": [
    "# Values & label from clustering\n",
    "values = kmeans.cluster_centers_.squeeze()\n",
    "labels = kmeans.labels_"
   ]
  },
  {
   "cell_type": "code",
   "execution_count": 56,
   "metadata": {},
   "outputs": [
    {
     "data": {
      "text/plain": [
       "(0, 250)"
      ]
     },
     "execution_count": 56,
     "metadata": {},
     "output_type": "execute_result"
    }
   ],
   "source": [
    "faceGray.min(),faceGray.max()"
   ]
  },
  {
   "cell_type": "code",
   "execution_count": 57,
   "metadata": {},
   "outputs": [
    {
     "data": {
      "text/plain": [
       "<matplotlib.image.AxesImage at 0x226eb58e550>"
      ]
     },
     "execution_count": 57,
     "metadata": {},
     "output_type": "execute_result"
    },
    {
     "data": {
      "image/png": "[encoded data removed]",
      "text/plain": [
       "<Figure size 432x288 with 1 Axes>"
      ]
     },
     "metadata": {
      "needs_background": "light"
     },
     "output_type": "display_data"
    }
   ],
   "source": [
    "# Image Original\n",
    "plt.imshow(faceGray, cmap=plt.cm.gray)"
   ]
  },
  {
   "cell_type": "code",
   "execution_count": 58,
   "metadata": {},
   "outputs": [],
   "source": [
    "# create an array from labels and values\n",
    "faceGray_comp = np.choose(labels, values)\n",
    "faceGray_comp.shape = faceGray.shape"
   ]
  },
  {
   "cell_type": "code",
   "execution_count": 59,
   "metadata": {},
   "outputs": [
    {
     "data": {
      "text/plain": [
       "<matplotlib.image.AxesImage at 0x226e9dc55c0>"
      ]
     },
     "execution_count": 59,
     "metadata": {},
     "output_type": "execute_result"
    },
    {
     "data": {
      "image/png": "[encoded data removed]",
      "text/plain": [
       "<Figure size 432x288 with 1 Axes>"
      ]
     },
     "metadata": {
      "needs_background": "light"
     },
     "output_type": "display_data"
    }
   ],
   "source": [
    "# compressed face\n",
    "#plt.figure(2, figsize=(3, 2.2))\n",
    "plt.imshow(faceGray_comp, cmap=plt.cm.gray)"
   ]
  },
  {
   "cell_type": "markdown",
   "metadata": {},
   "source": [
    "Check similarity between two impages using function \"compare_images\"\n",
    "\n",
    "Used mean squared error(MSE) and structural similarity(SSIM) to check similarity between two images MSE equal to 0 and SSIM equals to 1 means two images are similar to each other, otherwise not."
   ]
  },
  {
   "cell_type": "code",
   "execution_count": 60,
   "metadata": {},
   "outputs": [
    {
     "data": {
      "image/png": "[encoded data removed]",
      "text/plain": [
       "<Figure size 432x288 with 2 Axes>"
      ]
     },
     "metadata": {
      "needs_background": "light"
     },
     "output_type": "display_data"
    }
   ],
   "source": [
    "# load the images -- original and compressed\n",
    "original = faceGray\n",
    "compressed = faceGray_comp\n",
    "\n",
    "# initialize the figure\n",
    "fig = plt.figure(\"Images\")\n",
    "images = (\"Original\", original), (\"compressed\", compressed)\n",
    "\n",
    "# loop over the images\n",
    "for (i, (name, image)) in enumerate(images):\n",
    "    # show the image\n",
    "    ax = fig.add_subplot(1, 3, i + 1)\n",
    "    ax.set_title(name)\n",
    "    plt.imshow(image, cmap = plt.cm.gray)\n",
    "    plt.axis(\"off\")"
   ]
  },
  {
   "cell_type": "code",
   "execution_count": 61,
   "metadata": {},
   "outputs": [],
   "source": [
    "def mse(imageA, imageB):\n",
    "    # 'Mean Squared Error', NOTE: the two images must have the same dimension\n",
    "    err = np.sum((imageA.astype(\"float\") - imageB.astype(\"float\")) ** 2)\n",
    "    err /= float(imageA.shape[0] * imageA.shape[1])\n",
    "    \n",
    "    # return the MSE, the lower the error, the more \"similar\" the two images are\n",
    "    return err\n",
    "\n",
    "def compare_images(imageA, imageB, title):\n",
    "    # compute the MSE and structural similarity index for the images\n",
    "    m = mse(imageA, imageB)\n",
    "    s = ssim(imageA.astype('float'), imageB.astype('float'))\n",
    "\n",
    "    # setup the figure\n",
    "    fig = plt.figure(title)\n",
    "    plt.suptitle(\"MSE: %.2f, SSIM: %.2f\" % (m, s))\n",
    "\n",
    "    # show first image\n",
    "    ax = fig.add_subplot(1, 2, 1)\n",
    "    plt.imshow(imageA, cmap = plt.cm.gray)\n",
    "    plt.axis(\"off\")\n",
    "\n",
    "    # show the second image\n",
    "    ax = fig.add_subplot(1, 2, 2)\n",
    "    plt.imshow(imageB, cmap = plt.cm.gray)\n",
    "    plt.axis(\"off\")"
   ]
  },
  {
   "cell_type": "code",
   "execution_count": 62,
   "metadata": {},
   "outputs": [
    {
     "name": "stdout",
     "output_type": "stream",
     "text": [
      "MSE and SSIM between same image : \n"
     ]
    },
    {
     "data": {
      "image/png": "[encoded data removed]",
      "text/plain": [
       "<Figure size 432x288 with 2 Axes>"
      ]
     },
     "metadata": {
      "needs_background": "light"
     },
     "output_type": "display_data"
    }
   ],
   "source": [
    "# Compare the Original images\n",
    "print(\"MSE and SSIM between same image : \")\n",
    "compare_images(original, original, \"Original vs. Original\")"
   ]
  },
  {
   "cell_type": "code",
   "execution_count": 63,
   "metadata": {},
   "outputs": [
    {
     "name": "stdout",
     "output_type": "stream",
     "text": [
      "MSE and SSIM between original and compressend images : \n"
     ]
    },
    {
     "data": {
      "image/png": "[encoded data removed]",
      "text/plain": [
       "<Figure size 432x288 with 2 Axes>"
      ]
     },
     "metadata": {
      "needs_background": "light"
     },
     "output_type": "display_data"
    }
   ],
   "source": [
    "# Compare the Original & compresse images\n",
    "print(\"MSE and SSIM between original and compressend images : \")\n",
    "compare_images(original, compressed, \"Original vs. compressed\")"
   ]
  },
  {
   "cell_type": "markdown",
   "metadata": {},
   "source": [
    "# 2.4. Problem Statement: Machine Learning 10-PCA¶"
   ]
  },
  {
   "cell_type": "markdown",
   "metadata": {},
   "source": [
    "In this assignment students have to transform iris data into 3 dimensions and plot a 3d chart with transformed dimensions and colour each data point with specific class.\n",
    "\n",
    "Hint:\n",
    "\n",
    "import numpy as np\n",
    "\n",
    "import matplotlib.pyplot as plt\n",
    "\n",
    "from mpl_toolkits.mplot3d import Axes3D\n",
    "\n",
    "from sklearn import decomposition\n",
    "\n",
    "from sklearn import datasets"
   ]
  },
  {
   "cell_type": "code",
   "execution_count": 64,
   "metadata": {},
   "outputs": [],
   "source": [
    "import numpy as np\n",
    "import matplotlib.pyplot as plt\n",
    "from mpl_toolkits.mplot3d import Axes3D\n",
    "from sklearn import decomposition\n",
    "from sklearn import datasets"
   ]
  },
  {
   "cell_type": "markdown",
   "metadata": {},
   "source": [
    "# Load iris data from datasets"
   ]
  },
  {
   "cell_type": "code",
   "execution_count": 65,
   "metadata": {},
   "outputs": [],
   "source": [
    "iris = datasets.load_iris()"
   ]
  },
  {
   "cell_type": "code",
   "execution_count": 66,
   "metadata": {},
   "outputs": [
    {
     "data": {
      "text/plain": [
       "dict_keys(['data', 'target', 'target_names', 'DESCR', 'feature_names', 'filename'])"
      ]
     },
     "execution_count": 66,
     "metadata": {},
     "output_type": "execute_result"
    }
   ],
   "source": [
    "iris.keys() #features of iris dataset"
   ]
  },
  {
   "cell_type": "code",
   "execution_count": 67,
   "metadata": {},
   "outputs": [
    {
     "data": {
      "text/plain": [
       "array([[5.1, 3.5, 1.4, 0.2],\n",
       "       [4.9, 3. , 1.4, 0.2],\n",
       "       [4.7, 3.2, 1.3, 0.2],\n",
       "       [4.6, 3.1, 1.5, 0.2],\n",
       "       [5. , 3.6, 1.4, 0.2]])"
      ]
     },
     "execution_count": 67,
     "metadata": {},
     "output_type": "execute_result"
    }
   ],
   "source": [
    "#Assign X & Y from the data\n",
    "X= iris.data\n",
    "Y= iris.target\n",
    "X[:5,]"
   ]
  },
  {
   "cell_type": "markdown",
   "metadata": {},
   "source": [
    "# Apply PCA"
   ]
  },
  {
   "cell_type": "code",
   "execution_count": 68,
   "metadata": {},
   "outputs": [],
   "source": [
    "# import PCA library & plotting\n",
    "from mpl_toolkits.mplot3d import Axes3D\n",
    "from sklearn.decomposition import PCA\n",
    "from sklearn.preprocessing import StandardScaler\n",
    "norm_x = StandardScaler().fit_transform(X)"
   ]
  },
  {
   "cell_type": "code",
   "execution_count": 69,
   "metadata": {},
   "outputs": [
    {
     "data": {
      "text/plain": [
       "[<matplotlib.lines.Line2D at 0x226ec8107f0>]"
      ]
     },
     "execution_count": 69,
     "metadata": {},
     "output_type": "execute_result"
    },
    {
     "data": {
      "image/png": "[encoded data removed]",
      "text/plain": [
       "<Figure size 432x288 with 1 Axes>"
      ]
     },
     "metadata": {
      "needs_background": "light"
     },
     "output_type": "display_data"
    }
   ],
   "source": [
    "# Apply PCA & plot for no of componets' vs. accuracy achieved\n",
    "pca = PCA(n_components=3)\n",
    "pca.fit_transform(norm_x)\n",
    "\n",
    "pca.explained_variance_ratio_.cumsum()\n",
    "var= pca.explained_variance_ratio_\n",
    "var1=np.cumsum(np.round(var, decimals=4)*100)\n",
    "plt.plot(var1)"
   ]
  },
  {
   "cell_type": "markdown",
   "metadata": {},
   "source": [
    "# With 2 features too we can achieve 100%"
   ]
  },
  {
   "cell_type": "code",
   "execution_count": 70,
   "metadata": {},
   "outputs": [
    {
     "data": {
      "image/png": "[encoded data removed]",
      "text/plain": [
       "<Figure size 720x1440 with 1 Axes>"
      ]
     },
     "metadata": {
      "needs_background": "light"
     },
     "output_type": "display_data"
    }
   ],
   "source": [
    "centers = [[1, 1], [-1, -1], [1, -1]]\n",
    "# Data visualization\n",
    "fig = plt.figure(1,figsize=(10, 20))\n",
    "plt.clf()\n",
    "ax = Axes3D(fig, rect=[0, 0, 0.2, 0.25], elev=48, azim=130)\n",
    "\n",
    "labels= [('Setosa', 0), ('Versicolour', 1), ('Virginica', 2)]\n",
    "plt.cla()\n",
    "\n",
    "# Make 3-D empty box\n",
    "for name, label in labels:\n",
    "    ax.text3D(X[Y == label, 0].mean()+3,\n",
    "              X[Y == label, 1].mean() + 4.5,\n",
    "              X[Y == label, 2].mean()+3, name,\n",
    "              horizontalalignment='right',\n",
    "              bbox=dict(alpha=1.0, edgecolor='w', facecolor='w'))\n",
    "# Plot scatters points over\n",
    "sc =ax.scatter(X[:, 0], X[:, 1], X[:, 2], c=Y, cmap=plt.cm.nipy_spectral,\n",
    "           edgecolor='k')\n",
    "ax.w_xaxis.set_ticklabels([])\n",
    "ax.w_yaxis.set_ticklabels([])\n",
    "ax.w_zaxis.set_ticklabels([])\n",
    "\n",
    "# Add color and legends\n",
    "colors = [sc.cmap(sc.norm(i)) for i in [1, 2, 0]]\n",
    "custom_lines = [plt.Line2D([],[], ls=\"\", marker='.', \n",
    "                mec='k', mfc=c, mew=.1, ms=20) for c in colors]\n",
    "ax.legend(custom_lines, [lt[0] for lt in labels], \n",
    "          loc='center left', bbox_to_anchor=(1.0, .5))\n",
    "\n",
    "plt.show()\n"
   ]
  },
  {
   "cell_type": "markdown",
   "metadata": {},
   "source": [
    "# 2.5. Problem Statement: Machine Learning 11- Time series"
   ]
  },
  {
   "cell_type": "markdown",
   "metadata": {},
   "source": [
    "In this assignment students have to make ARIMA model over shampoo sales data and check the MSE between predicted and actual value. Student can download data in .csv format from the following link: https://datamarket.com/data/set/22r0/sales-of-shampoo-over-a-threeyear-period#!ds=22r0&display=line\n",
    "\n",
    "Hint:\n",
    "\n",
    "Following is the command import packages and data\n",
    "\n",
    "from pandas import read_csv\n",
    "\n",
    "from pandas import datetime\n",
    "\n",
    "from matplotlib import pyplot\n",
    "\n",
    "from statsmodels.tsa.arima_model\n",
    "\n",
    "import ARIMA from sklearn.metrics\n",
    "\n",
    "import mean_squared_error def\n",
    "\n",
    "parser(x):\n",
    "\n",
    "return datetime.strptime('190'+x, '%Y-%m')\n",
    "\n",
    "series = read_csv('shampoo-sales.csv', header=0, parse_dates=[0],index_col=0, squeeze=True, date_parser=parser)"
   ]
  },
  {
   "cell_type": "code",
   "execution_count": 71,
   "metadata": {},
   "outputs": [],
   "source": [
    "import pandas as pd\n",
    "from pandas import datetime, DataFrame\n",
    "from matplotlib import pyplot\n",
    "from statsmodels.tsa.arima_model import ARIMA \n",
    "from sklearn.metrics import mean_squared_error\n",
    "\n",
    "import warnings\n",
    "%matplotlib inline"
   ]
  },
  {
   "cell_type": "code",
   "execution_count": 72,
   "metadata": {},
   "outputs": [],
   "source": [
    "import statsmodels.api as sm\n",
    "from statsmodels.graphics.api import qqplot\n",
    "from scipy import stats"
   ]
  },
  {
   "cell_type": "code",
   "execution_count": null,
   "metadata": {},
   "outputs": [],
   "source": [
    "def parser(x):\n",
    "    return datetime.strptime('1901'+x[2:8], '%Y-%m-%d')"
   ]
  },
  {
   "cell_type": "code",
   "execution_count": 74,
   "metadata": {},
   "outputs": [
    {
     "ename": "NameError",
     "evalue": "name 'parser' is not defined",
     "output_type": "error",
     "traceback": [
      "\u001b[1;31m---------------------------------------------------------------------------\u001b[0m",
      "\u001b[1;31mNameError\u001b[0m                                 Traceback (most recent call last)",
      "\u001b[1;32m<ipython-input-74-216f16346d37>\u001b[0m in \u001b[0;36m<module>\u001b[1;34m\u001b[0m\n\u001b[1;32m----> 1\u001b[1;33m \u001b[0mseries\u001b[0m \u001b[1;33m=\u001b[0m \u001b[0mpd\u001b[0m\u001b[1;33m.\u001b[0m\u001b[0mread_csv\u001b[0m\u001b[1;33m(\u001b[0m\u001b[1;34m'shampoo-sales.csv'\u001b[0m\u001b[1;33m,\u001b[0m \u001b[0mheader\u001b[0m\u001b[1;33m=\u001b[0m\u001b[1;36m0\u001b[0m\u001b[1;33m,\u001b[0m \u001b[0mparse_dates\u001b[0m\u001b[1;33m=\u001b[0m\u001b[1;33m[\u001b[0m\u001b[1;36m0\u001b[0m\u001b[1;33m]\u001b[0m\u001b[1;33m,\u001b[0m\u001b[0mindex_col\u001b[0m\u001b[1;33m=\u001b[0m\u001b[1;36m0\u001b[0m\u001b[1;33m,\u001b[0m \u001b[0msqueeze\u001b[0m\u001b[1;33m=\u001b[0m\u001b[1;32mTrue\u001b[0m\u001b[1;33m,\u001b[0m \u001b[0mdate_parser\u001b[0m\u001b[1;33m=\u001b[0m\u001b[0mparser\u001b[0m\u001b[1;33m)\u001b[0m\u001b[1;33m\u001b[0m\u001b[1;33m\u001b[0m\u001b[0m\n\u001b[0m",
      "\u001b[1;31mNameError\u001b[0m: name 'parser' is not defined"
     ]
    }
   ],
   "source": [
    "series = pd.read_csv('shampoo-sales.csv', header=0, parse_dates=[0],index_col=0, squeeze=True, date_parser=parser)"
   ]
  },
  {
   "cell_type": "code",
   "execution_count": 73,
   "metadata": {},
   "outputs": [
    {
     "ename": "NameError",
     "evalue": "name 'series' is not defined",
     "output_type": "error",
     "traceback": [
      "\u001b[1;31m---------------------------------------------------------------------------\u001b[0m",
      "\u001b[1;31mNameError\u001b[0m                                 Traceback (most recent call last)",
      "\u001b[1;32m<ipython-input-73-f9f064d12c2a>\u001b[0m in \u001b[0;36m<module>\u001b[1;34m\u001b[0m\n\u001b[1;32m----> 1\u001b[1;33m \u001b[0mseries\u001b[0m\u001b[1;33m.\u001b[0m\u001b[0mhead\u001b[0m\u001b[1;33m(\u001b[0m\u001b[1;33m)\u001b[0m\u001b[1;33m\u001b[0m\u001b[1;33m\u001b[0m\u001b[0m\n\u001b[0m",
      "\u001b[1;31mNameError\u001b[0m: name 'series' is not defined"
     ]
    }
   ],
   "source": [
    "series.head()"
   ]
  },
  {
   "cell_type": "code",
   "execution_count": 75,
   "metadata": {},
   "outputs": [],
   "source": [
    "from pandas.plotting import autocorrelation_plot"
   ]
  },
  {
   "cell_type": "code",
   "execution_count": 76,
   "metadata": {},
   "outputs": [
    {
     "ename": "NameError",
     "evalue": "name 'series' is not defined",
     "output_type": "error",
     "traceback": [
      "\u001b[1;31m---------------------------------------------------------------------------\u001b[0m",
      "\u001b[1;31mNameError\u001b[0m                                 Traceback (most recent call last)",
      "\u001b[1;32m<ipython-input-76-55152d47e065>\u001b[0m in \u001b[0;36m<module>\u001b[1;34m\u001b[0m\n\u001b[0;32m      1\u001b[0m \u001b[1;31m# show plots in the notebook\u001b[0m\u001b[1;33m\u001b[0m\u001b[1;33m\u001b[0m\u001b[1;33m\u001b[0m\u001b[0m\n\u001b[0;32m      2\u001b[0m \u001b[0mget_ipython\u001b[0m\u001b[1;33m(\u001b[0m\u001b[1;33m)\u001b[0m\u001b[1;33m.\u001b[0m\u001b[0mrun_line_magic\u001b[0m\u001b[1;33m(\u001b[0m\u001b[1;34m'matplotlib'\u001b[0m\u001b[1;33m,\u001b[0m \u001b[1;34m'inline'\u001b[0m\u001b[1;33m)\u001b[0m\u001b[1;33m\u001b[0m\u001b[1;33m\u001b[0m\u001b[0m\n\u001b[1;32m----> 3\u001b[1;33m \u001b[0mseries\u001b[0m\u001b[1;33m.\u001b[0m\u001b[0mplot\u001b[0m\u001b[1;33m(\u001b[0m\u001b[0mfigsize\u001b[0m\u001b[1;33m=\u001b[0m\u001b[1;33m(\u001b[0m\u001b[1;36m12\u001b[0m\u001b[1;33m,\u001b[0m\u001b[1;36m8\u001b[0m\u001b[1;33m)\u001b[0m\u001b[1;33m)\u001b[0m\u001b[1;33m;\u001b[0m\u001b[1;33m\u001b[0m\u001b[1;33m\u001b[0m\u001b[0m\n\u001b[0m",
      "\u001b[1;31mNameError\u001b[0m: name 'series' is not defined"
     ]
    }
   ],
   "source": [
    "# show plots in the notebook\n",
    "%matplotlib inline\n",
    "series.plot(figsize=(12,8));"
   ]
  },
  {
   "cell_type": "markdown",
   "metadata": {},
   "source": [
    "# Auto-correlations"
   ]
  },
  {
   "cell_type": "code",
   "execution_count": 77,
   "metadata": {},
   "outputs": [],
   "source": [
    "import matplotlib.pyplot as plt\n",
    "import statsmodels\n",
    "import statsmodels.api as sm\n",
    "from statsmodels.tsa.stattools import coint, adfuller"
   ]
  },
  {
   "cell_type": "code",
   "execution_count": 78,
   "metadata": {},
   "outputs": [
    {
     "ename": "NameError",
     "evalue": "name 'series' is not defined",
     "output_type": "error",
     "traceback": [
      "\u001b[1;31m---------------------------------------------------------------------------\u001b[0m",
      "\u001b[1;31mNameError\u001b[0m                                 Traceback (most recent call last)",
      "\u001b[1;32m<ipython-input-78-8d3362ffa606>\u001b[0m in \u001b[0;36m<module>\u001b[1;34m\u001b[0m\n\u001b[0;32m      2\u001b[0m \u001b[0mget_ipython\u001b[0m\u001b[1;33m(\u001b[0m\u001b[1;33m)\u001b[0m\u001b[1;33m.\u001b[0m\u001b[0mrun_line_magic\u001b[0m\u001b[1;33m(\u001b[0m\u001b[1;34m'matplotlib'\u001b[0m\u001b[1;33m,\u001b[0m \u001b[1;34m'inline'\u001b[0m\u001b[1;33m)\u001b[0m\u001b[1;33m\u001b[0m\u001b[1;33m\u001b[0m\u001b[0m\n\u001b[0;32m      3\u001b[0m \u001b[1;31m#fig = plt.figure(figsize=(12,8))\u001b[0m\u001b[1;33m\u001b[0m\u001b[1;33m\u001b[0m\u001b[1;33m\u001b[0m\u001b[0m\n\u001b[1;32m----> 4\u001b[1;33m \u001b[0mautocorrelation_plot\u001b[0m\u001b[1;33m(\u001b[0m\u001b[0mseries\u001b[0m\u001b[1;33m)\u001b[0m\u001b[1;33m\u001b[0m\u001b[1;33m\u001b[0m\u001b[0m\n\u001b[0m",
      "\u001b[1;31mNameError\u001b[0m: name 'series' is not defined"
     ]
    }
   ],
   "source": [
    "# show plots in the notebook\n",
    "%matplotlib inline\n",
    "#fig = plt.figure(figsize=(12,8))\n",
    "autocorrelation_plot(series)"
   ]
  },
  {
   "cell_type": "markdown",
   "metadata": {},
   "source": [
    "# Times Series Modeling"
   ]
  },
  {
   "cell_type": "code",
   "execution_count": 79,
   "metadata": {},
   "outputs": [
    {
     "ename": "NameError",
     "evalue": "name 'series' is not defined",
     "output_type": "error",
     "traceback": [
      "\u001b[1;31m---------------------------------------------------------------------------\u001b[0m",
      "\u001b[1;31mNameError\u001b[0m                                 Traceback (most recent call last)",
      "\u001b[1;32m<ipython-input-79-85a845aca1cf>\u001b[0m in \u001b[0;36m<module>\u001b[1;34m\u001b[0m\n\u001b[1;32m----> 1\u001b[1;33m \u001b[0marma_mod20\u001b[0m \u001b[1;33m=\u001b[0m \u001b[0msm\u001b[0m\u001b[1;33m.\u001b[0m\u001b[0mtsa\u001b[0m\u001b[1;33m.\u001b[0m\u001b[0mARMA\u001b[0m\u001b[1;33m(\u001b[0m\u001b[0mseries\u001b[0m\u001b[1;33m,\u001b[0m \u001b[1;33m(\u001b[0m\u001b[1;36m2\u001b[0m\u001b[1;33m,\u001b[0m\u001b[1;36m0\u001b[0m\u001b[1;33m)\u001b[0m\u001b[1;33m)\u001b[0m\u001b[1;33m.\u001b[0m\u001b[0mfit\u001b[0m\u001b[1;33m(\u001b[0m\u001b[1;33m)\u001b[0m\u001b[1;33m\u001b[0m\u001b[1;33m\u001b[0m\u001b[0m\n\u001b[0m\u001b[0;32m      2\u001b[0m \u001b[0mprint\u001b[0m\u001b[1;33m(\u001b[0m\u001b[0marma_mod20\u001b[0m\u001b[1;33m.\u001b[0m\u001b[0mparams\u001b[0m\u001b[1;33m)\u001b[0m\u001b[1;33m\u001b[0m\u001b[1;33m\u001b[0m\u001b[0m\n",
      "\u001b[1;31mNameError\u001b[0m: name 'series' is not defined"
     ]
    }
   ],
   "source": [
    "arma_mod20 = sm.tsa.ARMA(series, (2,0)).fit()\n",
    "print(arma_mod20.params)"
   ]
  },
  {
   "cell_type": "markdown",
   "metadata": {},
   "source": [
    "# Analyzing result"
   ]
  },
  {
   "cell_type": "code",
   "execution_count": 81,
   "metadata": {},
   "outputs": [
    {
     "ename": "NameError",
     "evalue": "name 'arma_mod20' is not defined",
     "output_type": "error",
     "traceback": [
      "\u001b[1;31m---------------------------------------------------------------------------\u001b[0m",
      "\u001b[1;31mNameError\u001b[0m                                 Traceback (most recent call last)",
      "\u001b[1;32m<ipython-input-81-b9daa4d5c9c7>\u001b[0m in \u001b[0;36m<module>\u001b[1;34m\u001b[0m\n\u001b[1;32m----> 1\u001b[1;33m \u001b[0mresid20\u001b[0m \u001b[1;33m=\u001b[0m \u001b[0marma_mod20\u001b[0m\u001b[1;33m.\u001b[0m\u001b[0mresid\u001b[0m\u001b[1;33m\u001b[0m\u001b[1;33m\u001b[0m\u001b[0m\n\u001b[0m\u001b[0;32m      2\u001b[0m \u001b[0mstats\u001b[0m\u001b[1;33m.\u001b[0m\u001b[0mnormaltest\u001b[0m\u001b[1;33m(\u001b[0m\u001b[0mresid20\u001b[0m\u001b[1;33m)\u001b[0m\u001b[1;33m\u001b[0m\u001b[1;33m\u001b[0m\u001b[0m\n\u001b[0;32m      3\u001b[0m \u001b[1;33m\u001b[0m\u001b[0m\n",
      "\u001b[1;31mNameError\u001b[0m: name 'arma_mod20' is not defined"
     ]
    }
   ],
   "source": [
    "resid20 = arma_mod20.resid\n",
    "stats.normaltest(resid20)\n",
    "    "
   ]
  },
  {
   "cell_type": "code",
   "execution_count": 82,
   "metadata": {},
   "outputs": [
    {
     "ename": "NameError",
     "evalue": "name 'resid20' is not defined",
     "output_type": "error",
     "traceback": [
      "\u001b[1;31m---------------------------------------------------------------------------\u001b[0m",
      "\u001b[1;31mNameError\u001b[0m                                 Traceback (most recent call last)",
      "\u001b[1;32m<ipython-input-82-796cf8aa443a>\u001b[0m in \u001b[0;36m<module>\u001b[1;34m\u001b[0m\n\u001b[0;32m      3\u001b[0m \u001b[0mfig\u001b[0m \u001b[1;33m=\u001b[0m \u001b[0mplt\u001b[0m\u001b[1;33m.\u001b[0m\u001b[0mfigure\u001b[0m\u001b[1;33m(\u001b[0m\u001b[0mfigsize\u001b[0m\u001b[1;33m=\u001b[0m\u001b[1;33m(\u001b[0m\u001b[1;36m12\u001b[0m\u001b[1;33m,\u001b[0m\u001b[1;36m8\u001b[0m\u001b[1;33m)\u001b[0m\u001b[1;33m)\u001b[0m\u001b[1;33m\u001b[0m\u001b[1;33m\u001b[0m\u001b[0m\n\u001b[0;32m      4\u001b[0m \u001b[0max\u001b[0m \u001b[1;33m=\u001b[0m \u001b[0mfig\u001b[0m\u001b[1;33m.\u001b[0m\u001b[0madd_subplot\u001b[0m\u001b[1;33m(\u001b[0m\u001b[1;36m111\u001b[0m\u001b[1;33m)\u001b[0m\u001b[1;33m\u001b[0m\u001b[1;33m\u001b[0m\u001b[0m\n\u001b[1;32m----> 5\u001b[1;33m \u001b[0mfig\u001b[0m \u001b[1;33m=\u001b[0m \u001b[0mqqplot\u001b[0m\u001b[1;33m(\u001b[0m\u001b[0mresid20\u001b[0m\u001b[1;33m,\u001b[0m \u001b[0mline\u001b[0m\u001b[1;33m=\u001b[0m\u001b[1;34m'q'\u001b[0m\u001b[1;33m,\u001b[0m \u001b[0max\u001b[0m\u001b[1;33m=\u001b[0m\u001b[0max\u001b[0m\u001b[1;33m,\u001b[0m \u001b[0mfit\u001b[0m\u001b[1;33m=\u001b[0m\u001b[1;32mTrue\u001b[0m\u001b[1;33m)\u001b[0m\u001b[1;33m\u001b[0m\u001b[1;33m\u001b[0m\u001b[0m\n\u001b[0m",
      "\u001b[1;31mNameError\u001b[0m: name 'resid20' is not defined"
     ]
    },
    {
     "data": {
      "image/png": "[encoded data removed]",
      "text/plain": [
       "<Figure size 864x576 with 1 Axes>"
      ]
     },
     "metadata": {
      "needs_background": "light"
     },
     "output_type": "display_data"
    }
   ],
   "source": [
    "# show plots in the notebook\n",
    "%matplotlib inline\n",
    "fig = plt.figure(figsize=(12,8))\n",
    "ax = fig.add_subplot(111)\n",
    "fig = qqplot(resid20, line='q', ax=ax, fit=True)"
   ]
  },
  {
   "cell_type": "code",
   "execution_count": 83,
   "metadata": {},
   "outputs": [
    {
     "ename": "NameError",
     "evalue": "name 'series' is not defined",
     "output_type": "error",
     "traceback": [
      "\u001b[1;31m---------------------------------------------------------------------------\u001b[0m",
      "\u001b[1;31mNameError\u001b[0m                                 Traceback (most recent call last)",
      "\u001b[1;32m<ipython-input-83-69bd88cf4052>\u001b[0m in \u001b[0;36m<module>\u001b[1;34m\u001b[0m\n\u001b[1;32m----> 1\u001b[1;33m \u001b[0mseries\u001b[0m\u001b[1;33m.\u001b[0m\u001b[0mshape\u001b[0m\u001b[1;33m\u001b[0m\u001b[1;33m\u001b[0m\u001b[0m\n\u001b[0m",
      "\u001b[1;31mNameError\u001b[0m: name 'series' is not defined"
     ]
    }
   ],
   "source": [
    "series.shape"
   ]
  },
  {
   "cell_type": "markdown",
   "metadata": {},
   "source": [
    "# Prediction"
   ]
  },
  {
   "cell_type": "code",
   "execution_count": 84,
   "metadata": {},
   "outputs": [
    {
     "ename": "NameError",
     "evalue": "name 'arma_mod20' is not defined",
     "output_type": "error",
     "traceback": [
      "\u001b[1;31m---------------------------------------------------------------------------\u001b[0m",
      "\u001b[1;31mNameError\u001b[0m                                 Traceback (most recent call last)",
      "\u001b[1;32m<ipython-input-84-35300431c37d>\u001b[0m in \u001b[0;36m<module>\u001b[1;34m\u001b[0m\n\u001b[1;32m----> 1\u001b[1;33m \u001b[0mpredict_shampoo20\u001b[0m \u001b[1;33m=\u001b[0m \u001b[0marma_mod20\u001b[0m\u001b[1;33m.\u001b[0m\u001b[0mpredict\u001b[0m\u001b[1;33m(\u001b[0m\u001b[1;33m)\u001b[0m \u001b[1;31m#'1901-01-01','1901-12-01'\u001b[0m\u001b[1;33m\u001b[0m\u001b[1;33m\u001b[0m\u001b[0m\n\u001b[0m\u001b[0;32m      2\u001b[0m \u001b[0mprint\u001b[0m\u001b[1;33m(\u001b[0m\u001b[0mpredict_shampoo20\u001b[0m\u001b[1;33m)\u001b[0m\u001b[1;33m\u001b[0m\u001b[1;33m\u001b[0m\u001b[0m\n",
      "\u001b[1;31mNameError\u001b[0m: name 'arma_mod20' is not defined"
     ]
    }
   ],
   "source": [
    "predict_shampoo20 = arma_mod20.predict() #'1901-01-01','1901-12-01'\n",
    "print(predict_shampoo20)"
   ]
  },
  {
   "cell_type": "code",
   "execution_count": 89,
   "metadata": {},
   "outputs": [
    {
     "ename": "NameError",
     "evalue": "name 'series' is not defined",
     "output_type": "error",
     "traceback": [
      "\u001b[1;31m---------------------------------------------------------------------------\u001b[0m",
      "\u001b[1;31mNameError\u001b[0m                                 Traceback (most recent call last)",
      "\u001b[1;32m<ipython-input-89-74139dae6e34>\u001b[0m in \u001b[0;36m<module>\u001b[1;34m\u001b[0m\n\u001b[0;32m      1\u001b[0m \u001b[1;31m#plot Actual vs predicted sales data\u001b[0m\u001b[1;33m\u001b[0m\u001b[1;33m\u001b[0m\u001b[1;33m\u001b[0m\u001b[0m\n\u001b[1;32m----> 2\u001b[1;33m \u001b[0mseries\u001b[0m\u001b[1;33m.\u001b[0m\u001b[0mplot\u001b[0m\u001b[1;33m(\u001b[0m\u001b[0mlabel\u001b[0m\u001b[1;33m=\u001b[0m\u001b[1;34m'Actual'\u001b[0m\u001b[1;33m)\u001b[0m\u001b[1;33m\u001b[0m\u001b[1;33m\u001b[0m\u001b[0m\n\u001b[0m\u001b[0;32m      3\u001b[0m \u001b[0mpredict_shampoo20\u001b[0m\u001b[1;33m.\u001b[0m\u001b[0mplot\u001b[0m\u001b[1;33m(\u001b[0m\u001b[0mcolor\u001b[0m\u001b[1;33m=\u001b[0m\u001b[1;34m'red'\u001b[0m\u001b[1;33m,\u001b[0m \u001b[0mlabel\u001b[0m\u001b[1;33m=\u001b[0m\u001b[1;34m'Predictions'\u001b[0m\u001b[1;33m)\u001b[0m\u001b[1;33m\u001b[0m\u001b[1;33m\u001b[0m\u001b[0m\n\u001b[0;32m      4\u001b[0m \u001b[0mpyplot\u001b[0m\u001b[1;33m.\u001b[0m\u001b[0mlegend\u001b[0m\u001b[1;33m(\u001b[0m\u001b[0mloc\u001b[0m\u001b[1;33m=\u001b[0m\u001b[1;36m4\u001b[0m\u001b[1;33m)\u001b[0m\u001b[1;33m\u001b[0m\u001b[1;33m\u001b[0m\u001b[0m\n",
      "\u001b[1;31mNameError\u001b[0m: name 'series' is not defined"
     ]
    }
   ],
   "source": [
    "#plot Actual vs predicted sales data\n",
    "series.plot(label='Actual')\n",
    "predict_shampoo20.plot(color='red', label='Predictions')\n",
    "pyplot.legend(loc=4)"
   ]
  },
  {
   "cell_type": "code",
   "execution_count": 90,
   "metadata": {},
   "outputs": [],
   "source": [
    "import numpy as np"
   ]
  },
  {
   "cell_type": "code",
   "execution_count": 87,
   "metadata": {},
   "outputs": [],
   "source": [
    "def mean_forecast_err(y, yhat):\n",
    "    return y.sub(yhat).mean()\n",
    "\n",
    "def mean_absolute_err(y, yhat):\n",
    "    return np.mean((np.abs(y.sub(yhat).mean()) / yhat)) # or percent error = * 100"
   ]
  },
  {
   "cell_type": "code",
   "execution_count": 88,
   "metadata": {},
   "outputs": [
    {
     "ename": "NameError",
     "evalue": "name 'series' is not defined",
     "output_type": "error",
     "traceback": [
      "\u001b[1;31m---------------------------------------------------------------------------\u001b[0m",
      "\u001b[1;31mNameError\u001b[0m                                 Traceback (most recent call last)",
      "\u001b[1;32m<ipython-input-88-d4efc5cd65bb>\u001b[0m in \u001b[0;36m<module>\u001b[1;34m\u001b[0m\n\u001b[1;32m----> 1\u001b[1;33m \u001b[0mprint\u001b[0m\u001b[1;33m(\u001b[0m\u001b[1;34m\"MFE = \"\u001b[0m\u001b[1;33m,\u001b[0m \u001b[0mmean_forecast_err\u001b[0m\u001b[1;33m(\u001b[0m\u001b[0mseries\u001b[0m\u001b[1;33m,\u001b[0m \u001b[0mpredict_shampoo20\u001b[0m\u001b[1;33m)\u001b[0m\u001b[1;33m)\u001b[0m\u001b[1;33m\u001b[0m\u001b[1;33m\u001b[0m\u001b[0m\n\u001b[0m\u001b[0;32m      2\u001b[0m \u001b[0mprint\u001b[0m\u001b[1;33m(\u001b[0m\u001b[1;34m\"MAE = \"\u001b[0m\u001b[1;33m,\u001b[0m \u001b[0mmean_absolute_err\u001b[0m\u001b[1;33m(\u001b[0m\u001b[0mseries\u001b[0m\u001b[1;33m,\u001b[0m \u001b[0mpredict_shampoo20\u001b[0m\u001b[1;33m)\u001b[0m\u001b[1;33m)\u001b[0m\u001b[1;33m\u001b[0m\u001b[1;33m\u001b[0m\u001b[0m\n\u001b[0;32m      3\u001b[0m \u001b[0mMFE\u001b[0m \u001b[1;33m=\u001b[0m  \u001b[1;36m9.209506293567248\u001b[0m\u001b[1;33m\u001b[0m\u001b[1;33m\u001b[0m\u001b[0m\n",
      "\u001b[1;31mNameError\u001b[0m: name 'series' is not defined"
     ]
    }
   ],
   "source": [
    "print(\"MFE = \", mean_forecast_err(series, predict_shampoo20))\n",
    "print(\"MAE = \", mean_absolute_err(series, predict_shampoo20))\n",
    "MFE =  9.209506293567248"
   ]
  },
  {
   "cell_type": "markdown",
   "metadata": {},
   "source": [
    "For MFE > 0, models tends to under-forecast. The measure of MAE being small would indicate a pretty good fit."
   ]
  },
  {
   "cell_type": "markdown",
   "metadata": {},
   "source": [
    "# THANK YOU!!!"
   ]
  },
  {
   "cell_type": "code",
   "execution_count": null,
   "metadata": {},
   "outputs": [],
   "source": []
  },
  {
   "cell_type": "code",
   "execution_count": null,
   "metadata": {},
   "outputs": [],
   "source": []
  },
  {
   "cell_type": "code",
   "execution_count": null,
   "metadata": {},
   "outputs": [],
   "source": []
  },
  {
   "cell_type": "code",
   "execution_count": null,
   "metadata": {},
   "outputs": [],
   "source": []
  },
  {
   "cell_type": "code",
   "execution_count": null,
   "metadata": {},
   "outputs": [],
   "source": []
  },
  {
   "cell_type": "code",
   "execution_count": null,
   "metadata": {},
   "outputs": [],
   "source": []
  },
  {
   "cell_type": "code",
   "execution_count": null,
   "metadata": {},
   "outputs": [],
   "source": []
  }
 ],
 "metadata": {
  "kernelspec": {
   "display_name": "Python 3",
   "language": "python",
   "name": "python3"
  },
  "language_info": {
   "codemirror_mode": {
    "name": "ipython",
    "version": 3
   },
   "file_extension": ".py",
   "mimetype": "text/x-python",
   "name": "python",
   "nbconvert_exporter": "python",
   "pygments_lexer": "ipython3",
   "version": "3.7.3"
  }
 },
 "nbformat": 4,
 "nbformat_minor": 2
}
